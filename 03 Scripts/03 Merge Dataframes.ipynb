{
 "cells": [
  {
   "cell_type": "markdown",
   "id": "b0a3db3f",
   "metadata": {},
   "source": [
    "# 1. Import Libraries & Data"
   ]
  },
  {
   "cell_type": "code",
   "execution_count": 20,
   "id": "206f6cb9",
   "metadata": {},
   "outputs": [],
   "source": [
    "# import libraries\n",
    "import numpy as np\n",
    "import pandas as pd\n",
    "import os\n",
    "import datetime"
   ]
  },
  {
   "cell_type": "code",
   "execution_count": 21,
   "id": "16ea4514",
   "metadata": {},
   "outputs": [],
   "source": [
    "# import data\n",
    "path = r'/Users/oliviamurphy/Desktop/Airlines Project/02 Data'\n",
    "delta_df = pd.read_csv(os.path.join(path, 'Prepared Data', 'delta_df_cleaned.csv'), index_col = [0])\n",
    "american_df = pd.read_csv(os.path.join(path, 'Prepared Data', 'american_df_cleaned.csv'), index_col = [0])\n",
    "united_df = pd.read_csv(os.path.join(path, 'Prepared Data', 'united_df_cleaned.csv'), index_col = [0])\n",
    "southwest_df =  pd.read_csv(os.path.join(path, 'Prepared Data', 'southwest_df_cleaned.csv'), index_col = [0])\n",
    "airport_codes_df= pd.read_csv(os.path.join(path, 'Prepared Data', 'airport_codes_df_cleaned.csv'), index_col = [0])\n",
    "\n"
   ]
  },
  {
   "cell_type": "code",
   "execution_count": 22,
   "id": "295b2732",
   "metadata": {},
   "outputs": [],
   "source": [
    "# converts mixed type columns to str\n",
    "delta_df['Carrier'] = delta_df['Carrier'].astype(str)\n",
    "delta_df['Date (MM/DD/YYYY)'] = delta_df['Date (MM/DD/YYYY)'].astype(str)\n",
    "delta_df['Tail Number'] = delta_df['Tail Number'].astype(str)\n",
    "delta_df['Destination Airport'] = delta_df['Destination Airport'].astype(str)\n",
    "american_df['Carrier'] = american_df['Carrier'].astype(str)\n",
    "american_df['Date (MM/DD/YYYY)'] = american_df['Date (MM/DD/YYYY)'].astype(str)\n",
    "american_df['Tail Number'] = american_df['Tail Number'].astype(str)\n",
    "american_df['Destination Airport'] = american_df['Destination Airport'].astype(str)\n",
    "united_df['Carrier'] = united_df['Carrier'].astype(str)\n",
    "united_df['Date (MM/DD/YYYY)'] = united_df['Date (MM/DD/YYYY)'].astype(str)\n",
    "united_df['Tail Number'] = united_df['Tail Number'].astype(str)\n",
    "united_df['Destination Airport'] = united_df['Destination Airport'].astype(str)\n",
    "southwest_df['Carrier'] = southwest_df['Carrier'].astype(str)\n",
    "southwest_df['Date (MM/DD/YYYY)'] = southwest_df['Date (MM/DD/YYYY)']\n",
    "southwest_df['Tail Number'] = southwest_df['Tail Number'].astype(str)\n",
    "southwest_df['Destination Airport'] = southwest_df['Destination Airport'].astype(str)\n",
    "delta_df['Flight Number'] = delta_df['Flight Number'].astype(str)\n",
    "american_df['Flight Number'] = american_df['Flight Number'].astype(str)\n",
    "united_df['Flight Number'] = united_df['Flight Number'].astype(str)\n",
    "southwest_df['Flight Number'] = southwest_df['Flight Number'].astype(str)\n",
    "\n",
    "# converts mixed type columns to time\n",
    "delta_df['Actual Departure Time'] = pd.to_datetime(delta_df['Actual Departure Time'], format = '%H:%M:%S').dt.time\n",
    "delta_df['Scheduled Departure Time'] = pd.to_datetime(delta_df['Scheduled Departure Time'], format = '%H:%M:%S').dt.time\n",
    "united_df['Actual Departure Time'] = pd.to_datetime(united_df['Actual Departure Time'], format = '%H:%M:%S').dt.time\n",
    "united_df['Scheduled Departure Time'] = pd.to_datetime(united_df['Scheduled Departure Time'], format = '%H:%M:%S').dt.time\n",
    "american_df['Actual Departure Time'] = pd.to_datetime(american_df['Actual Departure Time'], format = '%H:%M:%S').dt.time\n",
    "american_df['Scheduled Departure Time'] = pd.to_datetime(american_df['Scheduled Departure Time'], format = '%H:%M:%S').dt.time\n",
    "southwest_df['Actual Departure Time'] = pd.to_datetime(southwest_df['Actual Departure Time'], format = '%H:%M:%S').dt.time\n",
    "southwest_df['Scheduled Departure Time'] = pd.to_datetime(southwest_df['Scheduled Departure Time'], format = '%H:%M:%S').dt.time\n"
   ]
  },
  {
   "cell_type": "markdown",
   "id": "fd865e15",
   "metadata": {},
   "source": [
    "# 2. Return list of variables"
   ]
  },
  {
   "cell_type": "code",
   "execution_count": 23,
   "id": "80dad367",
   "metadata": {},
   "outputs": [
    {
     "name": "stdout",
     "output_type": "stream",
     "text": [
      "<class 'pandas.core.frame.DataFrame'>\n",
      "Int64Index: 36238 entries, 0 to 36237\n",
      "Data columns (total 16 columns):\n",
      " #   Column                                    Non-Null Count  Dtype  \n",
      "---  ------                                    --------------  -----  \n",
      " 0   Carrier                                   36238 non-null  object \n",
      " 1   Date (MM/DD/YYYY)                         36238 non-null  object \n",
      " 2   Flight Number                             36238 non-null  object \n",
      " 3   Tail Number                               36238 non-null  object \n",
      " 4   Destination Airport                       36238 non-null  object \n",
      " 5   Scheduled Departure Time                  36238 non-null  object \n",
      " 6   Actual Departure Time                     36238 non-null  object \n",
      " 7   Scheduled Elapsed Time (Minutes)          36238 non-null  float64\n",
      " 8   Actual Elapsed Time (Minutes)             36238 non-null  float64\n",
      " 9   Departure Delay (Minutes)                 36238 non-null  float64\n",
      " 10  Taxi-Out Time (Minutes)                   36238 non-null  float64\n",
      " 11  Delay Carrier (Minutes)                   36238 non-null  float64\n",
      " 12  Delay Weather (Minutes)                   36238 non-null  float64\n",
      " 13  Delay National Aviation System (Minutes)  36238 non-null  float64\n",
      " 14  Delay Security (Minutes)                  36238 non-null  float64\n",
      " 15  Delay Late Aircraft Arrival (Minutes)     36238 non-null  float64\n",
      "dtypes: float64(9), object(7)\n",
      "memory usage: 4.7+ MB\n"
     ]
    }
   ],
   "source": [
    "# returns variable list for delta_df\n",
    "delta_df.info()"
   ]
  },
  {
   "cell_type": "code",
   "execution_count": 24,
   "id": "f9f3d8bc",
   "metadata": {},
   "outputs": [
    {
     "name": "stdout",
     "output_type": "stream",
     "text": [
      "<class 'pandas.core.frame.DataFrame'>\n",
      "Int64Index: 40206 entries, 0 to 40205\n",
      "Data columns (total 16 columns):\n",
      " #   Column                                    Non-Null Count  Dtype  \n",
      "---  ------                                    --------------  -----  \n",
      " 0   Carrier                                   40206 non-null  object \n",
      " 1   Date (MM/DD/YYYY)                         40206 non-null  object \n",
      " 2   Flight Number                             40206 non-null  object \n",
      " 3   Tail Number                               40206 non-null  object \n",
      " 4   Destination Airport                       40206 non-null  object \n",
      " 5   Scheduled Departure Time                  40206 non-null  object \n",
      " 6   Actual Departure Time                     40206 non-null  object \n",
      " 7   Scheduled Elapsed Time (Minutes)          40206 non-null  float64\n",
      " 8   Actual Elapsed Time (Minutes)             40206 non-null  float64\n",
      " 9   Departure Delay (Minutes)                 40206 non-null  float64\n",
      " 10  Taxi-Out Time (Minutes)                   40206 non-null  float64\n",
      " 11  Delay Carrier (Minutes)                   40206 non-null  float64\n",
      " 12  Delay Weather (Minutes)                   40206 non-null  float64\n",
      " 13  Delay National Aviation System (Minutes)  40206 non-null  float64\n",
      " 14  Delay Security (Minutes)                  40206 non-null  float64\n",
      " 15  Delay Late Aircraft Arrival (Minutes)     40206 non-null  float64\n",
      "dtypes: float64(9), object(7)\n",
      "memory usage: 5.2+ MB\n"
     ]
    }
   ],
   "source": [
    "# returns variable list for american_df\n",
    "american_df.info()"
   ]
  },
  {
   "cell_type": "code",
   "execution_count": 25,
   "id": "c6886a2d",
   "metadata": {},
   "outputs": [
    {
     "name": "stdout",
     "output_type": "stream",
     "text": [
      "<class 'pandas.core.frame.DataFrame'>\n",
      "Int64Index: 159390 entries, 0 to 159389\n",
      "Data columns (total 16 columns):\n",
      " #   Column                                    Non-Null Count   Dtype  \n",
      "---  ------                                    --------------   -----  \n",
      " 0   Carrier                                   159390 non-null  object \n",
      " 1   Date (MM/DD/YYYY)                         159390 non-null  object \n",
      " 2   Flight Number                             159390 non-null  object \n",
      " 3   Tail Number                               159390 non-null  object \n",
      " 4   Destination Airport                       159390 non-null  object \n",
      " 5   Scheduled Departure Time                  159390 non-null  object \n",
      " 6   Actual Departure Time                     159390 non-null  object \n",
      " 7   Scheduled Elapsed Time (Minutes)          159390 non-null  float64\n",
      " 8   Actual Elapsed Time (Minutes)             159390 non-null  float64\n",
      " 9   Departure Delay (Minutes)                 159390 non-null  float64\n",
      " 10  Taxi-Out Time (Minutes)                   159390 non-null  float64\n",
      " 11  Delay Carrier (Minutes)                   159390 non-null  float64\n",
      " 12  Delay Weather (Minutes)                   159390 non-null  float64\n",
      " 13  Delay National Aviation System (Minutes)  159390 non-null  float64\n",
      " 14  Delay Security (Minutes)                  159390 non-null  float64\n",
      " 15  Delay Late Aircraft Arrival (Minutes)     159390 non-null  float64\n",
      "dtypes: float64(9), object(7)\n",
      "memory usage: 20.7+ MB\n"
     ]
    }
   ],
   "source": [
    "# returns variable list for southwest_df\n",
    "southwest_df.info()"
   ]
  },
  {
   "cell_type": "code",
   "execution_count": 26,
   "id": "4089a164",
   "metadata": {},
   "outputs": [
    {
     "name": "stdout",
     "output_type": "stream",
     "text": [
      "<class 'pandas.core.frame.DataFrame'>\n",
      "Int64Index: 42173 entries, 0 to 42172\n",
      "Data columns (total 16 columns):\n",
      " #   Column                                    Non-Null Count  Dtype  \n",
      "---  ------                                    --------------  -----  \n",
      " 0   Carrier                                   42173 non-null  object \n",
      " 1   Date (MM/DD/YYYY)                         42173 non-null  object \n",
      " 2   Flight Number                             42173 non-null  object \n",
      " 3   Tail Number                               42173 non-null  object \n",
      " 4   Destination Airport                       42173 non-null  object \n",
      " 5   Scheduled Departure Time                  42173 non-null  object \n",
      " 6   Actual Departure Time                     42173 non-null  object \n",
      " 7   Scheduled Elapsed Time (Minutes)          42173 non-null  float64\n",
      " 8   Actual Elapsed Time (Minutes)             42173 non-null  float64\n",
      " 9   Departure Delay (Minutes)                 42173 non-null  float64\n",
      " 10  Taxi-Out Time (Minutes)                   42173 non-null  float64\n",
      " 11  Delay Carrier (Minutes)                   42173 non-null  float64\n",
      " 12  Delay Weather (Minutes)                   42173 non-null  float64\n",
      " 13  Delay National Aviation System (Minutes)  42173 non-null  float64\n",
      " 14  Delay Security (Minutes)                  42173 non-null  float64\n",
      " 15  Delay Late Aircraft Arrival (Minutes)     42173 non-null  float64\n",
      "dtypes: float64(9), object(7)\n",
      "memory usage: 5.5+ MB\n"
     ]
    }
   ],
   "source": [
    "# returns variable list for united_df\n",
    "united_df.info()"
   ]
  },
  {
   "cell_type": "code",
   "execution_count": 27,
   "id": "716dfe84",
   "metadata": {},
   "outputs": [
    {
     "name": "stdout",
     "output_type": "stream",
     "text": [
      "<class 'pandas.core.frame.DataFrame'>\n",
      "Int64Index: 9235 entries, 0 to 9234\n",
      "Data columns (total 2 columns):\n",
      " #   Column         Non-Null Count  Dtype \n",
      "---  ------         --------------  ----- \n",
      " 0   Airport Code   9235 non-null   object\n",
      " 1   Full Location  9235 non-null   object\n",
      "dtypes: object(2)\n",
      "memory usage: 216.4+ KB\n"
     ]
    }
   ],
   "source": [
    "# returns variable list for airport_codes_df\n",
    "airport_codes_df.info()"
   ]
  },
  {
   "cell_type": "markdown",
   "id": "a8a92539",
   "metadata": {},
   "source": [
    "# 3. Append flight info dataframes"
   ]
  },
  {
   "cell_type": "code",
   "execution_count": 28,
   "id": "9bbac5ed",
   "metadata": {},
   "outputs": [],
   "source": [
    "# appends delta_df & american_df\n",
    "airlines_df = delta_df.append(american_df)"
   ]
  },
  {
   "cell_type": "code",
   "execution_count": 29,
   "id": "4e9fc1bc",
   "metadata": {},
   "outputs": [],
   "source": [
    "# appends airlines df & southwest_df\n",
    "airlines_df = airlines_df.append(southwest_df)"
   ]
  },
  {
   "cell_type": "code",
   "execution_count": 30,
   "id": "0b2ccc92",
   "metadata": {},
   "outputs": [],
   "source": [
    "# appends airlines_df & united_df\n",
    "airlines_df = airlines_df.append(united_df)"
   ]
  },
  {
   "cell_type": "code",
   "execution_count": 31,
   "id": "4674e5d6",
   "metadata": {},
   "outputs": [
    {
     "data": {
      "text/plain": [
       "(278007, 16)"
      ]
     },
     "execution_count": 31,
     "metadata": {},
     "output_type": "execute_result"
    }
   ],
   "source": [
    "# checks shape of airlines_df\n",
    "airlines_df.shape"
   ]
  },
  {
   "cell_type": "markdown",
   "id": "85b23b81",
   "metadata": {},
   "source": [
    "# 4. Merge airlines_df and airport_codes_df"
   ]
  },
  {
   "cell_type": "code",
   "execution_count": 32,
   "id": "3fed32f6",
   "metadata": {},
   "outputs": [],
   "source": [
    "# renames airport_codes_df{'Airport Code'} in preparation for merge\n",
    "airport_codes_df.rename(columns = {'Airport Code': 'Destination Airport'}, inplace = True)"
   ]
  },
  {
   "cell_type": "code",
   "execution_count": 33,
   "id": "dd7adecf",
   "metadata": {},
   "outputs": [],
   "source": [
    "# merges airlines_df and airport_codes_df\n",
    "airlines_final_df = airlines_df.merge(airport_codes_df, on = 'Destination Airport', indicator = True)"
   ]
  },
  {
   "cell_type": "code",
   "execution_count": 34,
   "id": "93a7b787",
   "metadata": {},
   "outputs": [
    {
     "data": {
      "text/html": [
       "<div>\n",
       "<style scoped>\n",
       "    .dataframe tbody tr th:only-of-type {\n",
       "        vertical-align: middle;\n",
       "    }\n",
       "\n",
       "    .dataframe tbody tr th {\n",
       "        vertical-align: top;\n",
       "    }\n",
       "\n",
       "    .dataframe thead th {\n",
       "        text-align: right;\n",
       "    }\n",
       "</style>\n",
       "<table border=\"1\" class=\"dataframe\">\n",
       "  <thead>\n",
       "    <tr style=\"text-align: right;\">\n",
       "      <th></th>\n",
       "      <th>Carrier</th>\n",
       "      <th>Date (MM/DD/YYYY)</th>\n",
       "      <th>Flight Number</th>\n",
       "      <th>Tail Number</th>\n",
       "      <th>Destination Airport</th>\n",
       "      <th>Scheduled Departure Time</th>\n",
       "      <th>Actual Departure Time</th>\n",
       "      <th>Scheduled Elapsed Time (Minutes)</th>\n",
       "      <th>Actual Elapsed Time (Minutes)</th>\n",
       "      <th>Departure Delay (Minutes)</th>\n",
       "      <th>Taxi-Out Time (Minutes)</th>\n",
       "      <th>Delay Carrier (Minutes)</th>\n",
       "      <th>Delay Weather (Minutes)</th>\n",
       "      <th>Delay National Aviation System (Minutes)</th>\n",
       "      <th>Delay Security (Minutes)</th>\n",
       "      <th>Delay Late Aircraft Arrival (Minutes)</th>\n",
       "      <th>Full Location</th>\n",
       "      <th>_merge</th>\n",
       "    </tr>\n",
       "  </thead>\n",
       "  <tbody>\n",
       "    <tr>\n",
       "      <th>0</th>\n",
       "      <td>Delta</td>\n",
       "      <td>1/1/17</td>\n",
       "      <td>50.0</td>\n",
       "      <td>N385DN</td>\n",
       "      <td>SLC</td>\n",
       "      <td>16:45:00</td>\n",
       "      <td>16:49:00</td>\n",
       "      <td>119.0</td>\n",
       "      <td>108.0</td>\n",
       "      <td>4.0</td>\n",
       "      <td>15.0</td>\n",
       "      <td>0.0</td>\n",
       "      <td>0.0</td>\n",
       "      <td>0.0</td>\n",
       "      <td>0.0</td>\n",
       "      <td>0.0</td>\n",
       "      <td>SALT LAKE CITY, UTAH, USA</td>\n",
       "      <td>both</td>\n",
       "    </tr>\n",
       "    <tr>\n",
       "      <th>1</th>\n",
       "      <td>Delta</td>\n",
       "      <td>1/1/17</td>\n",
       "      <td>106.0</td>\n",
       "      <td>N313US</td>\n",
       "      <td>SLC</td>\n",
       "      <td>13:05:00</td>\n",
       "      <td>13:01:00</td>\n",
       "      <td>117.0</td>\n",
       "      <td>116.0</td>\n",
       "      <td>-4.0</td>\n",
       "      <td>20.0</td>\n",
       "      <td>0.0</td>\n",
       "      <td>0.0</td>\n",
       "      <td>0.0</td>\n",
       "      <td>0.0</td>\n",
       "      <td>0.0</td>\n",
       "      <td>SALT LAKE CITY, UTAH, USA</td>\n",
       "      <td>both</td>\n",
       "    </tr>\n",
       "    <tr>\n",
       "      <th>2</th>\n",
       "      <td>Delta</td>\n",
       "      <td>1/1/17</td>\n",
       "      <td>798.0</td>\n",
       "      <td>N848DN</td>\n",
       "      <td>SLC</td>\n",
       "      <td>06:15:00</td>\n",
       "      <td>06:38:00</td>\n",
       "      <td>125.0</td>\n",
       "      <td>126.0</td>\n",
       "      <td>23.0</td>\n",
       "      <td>15.0</td>\n",
       "      <td>23.0</td>\n",
       "      <td>0.0</td>\n",
       "      <td>1.0</td>\n",
       "      <td>0.0</td>\n",
       "      <td>0.0</td>\n",
       "      <td>SALT LAKE CITY, UTAH, USA</td>\n",
       "      <td>both</td>\n",
       "    </tr>\n",
       "    <tr>\n",
       "      <th>3</th>\n",
       "      <td>Delta</td>\n",
       "      <td>1/1/17</td>\n",
       "      <td>2536.0</td>\n",
       "      <td>N317NB</td>\n",
       "      <td>SLC</td>\n",
       "      <td>11:20:00</td>\n",
       "      <td>12:10:00</td>\n",
       "      <td>123.0</td>\n",
       "      <td>107.0</td>\n",
       "      <td>50.0</td>\n",
       "      <td>16.0</td>\n",
       "      <td>2.0</td>\n",
       "      <td>0.0</td>\n",
       "      <td>0.0</td>\n",
       "      <td>0.0</td>\n",
       "      <td>32.0</td>\n",
       "      <td>SALT LAKE CITY, UTAH, USA</td>\n",
       "      <td>both</td>\n",
       "    </tr>\n",
       "    <tr>\n",
       "      <th>4</th>\n",
       "      <td>Delta</td>\n",
       "      <td>1/1/18</td>\n",
       "      <td>50.0</td>\n",
       "      <td>N960DN</td>\n",
       "      <td>SLC</td>\n",
       "      <td>16:40:00</td>\n",
       "      <td>19:00:00</td>\n",
       "      <td>120.0</td>\n",
       "      <td>112.0</td>\n",
       "      <td>140.0</td>\n",
       "      <td>20.0</td>\n",
       "      <td>3.0</td>\n",
       "      <td>0.0</td>\n",
       "      <td>0.0</td>\n",
       "      <td>0.0</td>\n",
       "      <td>129.0</td>\n",
       "      <td>SALT LAKE CITY, UTAH, USA</td>\n",
       "      <td>both</td>\n",
       "    </tr>\n",
       "  </tbody>\n",
       "</table>\n",
       "</div>"
      ],
      "text/plain": [
       "  Carrier Date (MM/DD/YYYY) Flight Number Tail Number Destination Airport  \\\n",
       "0   Delta            1/1/17          50.0      N385DN                 SLC   \n",
       "1   Delta            1/1/17         106.0      N313US                 SLC   \n",
       "2   Delta            1/1/17         798.0      N848DN                 SLC   \n",
       "3   Delta            1/1/17        2536.0      N317NB                 SLC   \n",
       "4   Delta            1/1/18          50.0      N960DN                 SLC   \n",
       "\n",
       "  Scheduled Departure Time Actual Departure Time  \\\n",
       "0                 16:45:00              16:49:00   \n",
       "1                 13:05:00              13:01:00   \n",
       "2                 06:15:00              06:38:00   \n",
       "3                 11:20:00              12:10:00   \n",
       "4                 16:40:00              19:00:00   \n",
       "\n",
       "   Scheduled Elapsed Time (Minutes)  Actual Elapsed Time (Minutes)  \\\n",
       "0                             119.0                          108.0   \n",
       "1                             117.0                          116.0   \n",
       "2                             125.0                          126.0   \n",
       "3                             123.0                          107.0   \n",
       "4                             120.0                          112.0   \n",
       "\n",
       "   Departure Delay (Minutes)  Taxi-Out Time (Minutes)  \\\n",
       "0                        4.0                     15.0   \n",
       "1                       -4.0                     20.0   \n",
       "2                       23.0                     15.0   \n",
       "3                       50.0                     16.0   \n",
       "4                      140.0                     20.0   \n",
       "\n",
       "   Delay Carrier (Minutes)  Delay Weather (Minutes)  \\\n",
       "0                      0.0                      0.0   \n",
       "1                      0.0                      0.0   \n",
       "2                     23.0                      0.0   \n",
       "3                      2.0                      0.0   \n",
       "4                      3.0                      0.0   \n",
       "\n",
       "   Delay National Aviation System (Minutes)  Delay Security (Minutes)  \\\n",
       "0                                       0.0                       0.0   \n",
       "1                                       0.0                       0.0   \n",
       "2                                       1.0                       0.0   \n",
       "3                                       0.0                       0.0   \n",
       "4                                       0.0                       0.0   \n",
       "\n",
       "   Delay Late Aircraft Arrival (Minutes)                        Full Location  \\\n",
       "0                                    0.0  SALT LAKE CITY, UTAH, USA             \n",
       "1                                    0.0  SALT LAKE CITY, UTAH, USA             \n",
       "2                                    0.0  SALT LAKE CITY, UTAH, USA             \n",
       "3                                   32.0  SALT LAKE CITY, UTAH, USA             \n",
       "4                                  129.0  SALT LAKE CITY, UTAH, USA             \n",
       "\n",
       "  _merge  \n",
       "0   both  \n",
       "1   both  \n",
       "2   both  \n",
       "3   both  \n",
       "4   both  "
      ]
     },
     "execution_count": 34,
     "metadata": {},
     "output_type": "execute_result"
    }
   ],
   "source": [
    "# checks for result of the merge\n",
    "airlines_final_df.head()"
   ]
  },
  {
   "cell_type": "code",
   "execution_count": 35,
   "id": "c14c925f",
   "metadata": {},
   "outputs": [
    {
     "data": {
      "text/plain": [
       "both          278007\n",
       "left_only          0\n",
       "right_only         0\n",
       "Name: _merge, dtype: int64"
      ]
     },
     "execution_count": 35,
     "metadata": {},
     "output_type": "execute_result"
    }
   ],
   "source": [
    "# checks for counts of indicator \n",
    "airlines_final_df['_merge'].value_counts()\n"
   ]
  },
  {
   "cell_type": "code",
   "execution_count": 36,
   "id": "69e6c740",
   "metadata": {},
   "outputs": [],
   "source": [
    "# drops indicator column\n",
    "airlines_final_df = airlines_final_df.drop(columns = ['_merge'])"
   ]
  },
  {
   "cell_type": "code",
   "execution_count": 37,
   "id": "9282eb67",
   "metadata": {},
   "outputs": [
    {
     "data": {
      "text/plain": [
       "(278007, 17)"
      ]
     },
     "execution_count": 37,
     "metadata": {},
     "output_type": "execute_result"
    }
   ],
   "source": [
    "# checks shape of airlines_final_df\n",
    "airlines_final_df.shape"
   ]
  },
  {
   "cell_type": "markdown",
   "id": "75dc40de",
   "metadata": {},
   "source": [
    "# 5. Export Dataframe"
   ]
  },
  {
   "cell_type": "code",
   "execution_count": 38,
   "id": "c09deee5",
   "metadata": {},
   "outputs": [],
   "source": [
    "# exports dataframe\n",
    "airlines_final_df.to_csv(os.path.join(path, 'Prepared Data', 'airlines_final_df.csv'))"
   ]
  },
  {
   "cell_type": "code",
   "execution_count": null,
   "id": "2d920db6",
   "metadata": {},
   "outputs": [],
   "source": []
  },
  {
   "cell_type": "code",
   "execution_count": null,
   "id": "94be9a29",
   "metadata": {},
   "outputs": [],
   "source": []
  }
 ],
 "metadata": {
  "kernelspec": {
   "display_name": "Python 3 (ipykernel)",
   "language": "python",
   "name": "python3"
  },
  "language_info": {
   "codemirror_mode": {
    "name": "ipython",
    "version": 3
   },
   "file_extension": ".py",
   "mimetype": "text/x-python",
   "name": "python",
   "nbconvert_exporter": "python",
   "pygments_lexer": "ipython3",
   "version": "3.9.7"
  }
 },
 "nbformat": 4,
 "nbformat_minor": 5
}
