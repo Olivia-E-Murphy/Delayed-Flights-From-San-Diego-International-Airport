{
 "cells": [
  {
   "cell_type": "markdown",
   "id": "a2dc4f98",
   "metadata": {},
   "source": [
    "# Import Data & Libraries"
   ]
  },
  {
   "cell_type": "code",
   "execution_count": 1,
   "id": "c84266df",
   "metadata": {},
   "outputs": [],
   "source": [
    "# import libraries\n",
    "import pandas as pd\n",
    "import numpy as np\n",
    "import os"
   ]
  },
  {
   "cell_type": "code",
   "execution_count": 2,
   "id": "02f1a29b",
   "metadata": {},
   "outputs": [],
   "source": [
    "# import data frame\n",
    "path = r'/Users/oliviamurphy/Desktop/Airlines Project/02 Data'\n",
    "airlines_final_df= pd.read_csv(os.path.join(path, 'Prepared Data', 'airlines_final_df_new_variables.csv'), index_col = [0])"
   ]
  },
  {
   "cell_type": "markdown",
   "id": "8ddf0d9d",
   "metadata": {},
   "source": [
    "# Convert Data Types"
   ]
  },
  {
   "cell_type": "code",
   "execution_count": 3,
   "id": "c7f61b64",
   "metadata": {},
   "outputs": [],
   "source": [
    "# converts data types\n",
    "airlines_final_df['Carrier'] = airlines_final_df['Carrier'].astype(str)\n",
    "airlines_final_df['Tail Number'] = airlines_final_df['Tail Number'].astype(str)\n",
    "airlines_final_df['Destination Airport'] = airlines_final_df['Destination Airport'].astype(str)\n",
    "airlines_final_df['Actual Departure Time'] = pd.to_datetime(airlines_final_df['Actual Departure Time']).dt.hour\n",
    "airlines_final_df['Scheduled Departure Time'] = pd.to_datetime(airlines_final_df['Scheduled Departure Time']).dt.hour\n",
    "airlines_final_df['Flight Number'] = airlines_final_df['Flight Number'].astype(str)"
   ]
  },
  {
   "cell_type": "markdown",
   "id": "a8bee052",
   "metadata": {},
   "source": [
    "# Descriptive Stats (numerical variables)"
   ]
  },
  {
   "cell_type": "code",
   "execution_count": 4,
   "id": "78762dad",
   "metadata": {},
   "outputs": [
    {
     "name": "stdout",
     "output_type": "stream",
     "text": [
      "<class 'pandas.core.frame.DataFrame'>\n",
      "Int64Index: 278007 entries, 0 to 278006\n",
      "Data columns (total 33 columns):\n",
      " #   Column                                          Non-Null Count   Dtype  \n",
      "---  ------                                          --------------   -----  \n",
      " 0   Carrier                                         278007 non-null  object \n",
      " 1   Date (MM/DD/YYYY)                               278007 non-null  object \n",
      " 2   Flight Number                                   278007 non-null  object \n",
      " 3   Tail Number                                     278007 non-null  object \n",
      " 4   Destination Airport                             278007 non-null  object \n",
      " 5   Scheduled Departure Time                        278007 non-null  int64  \n",
      " 6   Actual Departure Time                           278007 non-null  int64  \n",
      " 7   Scheduled Elapsed Time (Minutes)                278007 non-null  float64\n",
      " 8   Actual Elapsed Time (Minutes)                   278007 non-null  float64\n",
      " 9   Departure Delay (Minutes)                       278007 non-null  float64\n",
      " 10  Taxi-Out Time (Minutes)                         278007 non-null  float64\n",
      " 11  Delay Carrier (Minutes)                         278007 non-null  float64\n",
      " 12  Delay Weather (Minutes)                         278007 non-null  float64\n",
      " 13  Delay National Aviation System (Minutes)        278007 non-null  float64\n",
      " 14  Delay Security (Minutes)                        278007 non-null  float64\n",
      " 15  Delay Late Aircraft Arrival (Minutes)           278007 non-null  float64\n",
      " 16  City                                            278007 non-null  object \n",
      " 17  State                                           278007 non-null  object \n",
      " 18  Flight Month                                    278007 non-null  object \n",
      " 19  Flight Day                                      278007 non-null  int64  \n",
      " 20  Flight Year                                     278007 non-null  int64  \n",
      " 21  Known Total Delay (Minutes)                     278007 non-null  float64\n",
      " 22  Unaccounted Delay Time                          278007 non-null  float64\n",
      " 23  Actual Departure Date & Time                    278007 non-null  object \n",
      " 24  Scheduled Departure Date & Time                 278007 non-null  object \n",
      " 25  Difference in Actual & Expected Departure Time  278007 non-null  object \n",
      " 26  Difference in Actual & Expected Air Time        278007 non-null  float64\n",
      " 27  Delay Carrier (%)                               278007 non-null  float64\n",
      " 28  Delay Weather (%)                               278007 non-null  float64\n",
      " 29  Delay National Aviation System (%)              278007 non-null  float64\n",
      " 30  Delay Security (%)                              278007 non-null  float64\n",
      " 31  Delay Late Aircraft Arrival (%)                 278007 non-null  float64\n",
      " 32  Delay?                                          278007 non-null  object \n",
      "dtypes: float64(17), int64(4), object(12)\n",
      "memory usage: 72.1+ MB\n"
     ]
    }
   ],
   "source": [
    "# returns variable list\n",
    "airlines_final_df.info()"
   ]
  },
  {
   "cell_type": "code",
   "execution_count": 5,
   "id": "53748efd",
   "metadata": {},
   "outputs": [],
   "source": [
    "# saves descriptive stats to dataframe\n",
    "descriptive_stats_air = airlines_final_df.describe()"
   ]
  },
  {
   "cell_type": "markdown",
   "id": "eb2cb0a2",
   "metadata": {},
   "source": [
    "# Descriptive Stats (categorical variables)"
   ]
  },
  {
   "cell_type": "code",
   "execution_count": 6,
   "id": "37deab5b",
   "metadata": {},
   "outputs": [
    {
     "data": {
      "text/plain": [
       "Phoenix                23066\n",
       "San Francisco          22018\n",
       "Dallas/Ft.Worth        20682\n",
       "Chicago                18679\n",
       "San Jose               17720\n",
       "Sacramento             17554\n",
       "Denver                 17363\n",
       "Oakland                15769\n",
       "Las Vegas              15316\n",
       "Houston                11208\n",
       "Salt Lake City         10048\n",
       "Atlanta                 9871\n",
       "Seattle                 6598\n",
       "Minneapolis/St.Paul     5899\n",
       "New York                5391\n",
       "Charlotte               5178\n",
       "Newark                  5035\n",
       "Washington              4234\n",
       "Baltimore               4157\n",
       "Detroit                 3795\n",
       "Austin                  3678\n",
       "Reno                    3401\n",
       "Philadelphia            3238\n",
       "St. Louis               2909\n",
       "Tucson                  2652\n",
       "Nashville               2641\n",
       "Portland                2588\n",
       "Albuquerque             2392\n",
       "San Antonio             2282\n",
       "Kansas City             2281\n",
       "Miami                   1924\n",
       "Boise                   1273\n",
       "New Orleans             1270\n",
       "Los Angeles             1267\n",
       "Orlando                 1009\n",
       "Honolulu                 631\n",
       "Tampa                    621\n",
       "El Paso                  520\n",
       "Kahului                  350\n",
       "Spokane                  343\n",
       "Milwaukee                310\n",
       "Omaha                    289\n",
       "Indianapolis             212\n",
       "Kona                     127\n",
       "Lihue                    115\n",
       "Norfolk                   93\n",
       "Bozeman                   10\n",
       "Name: City, dtype: int64"
      ]
     },
     "execution_count": 6,
     "metadata": {},
     "output_type": "execute_result"
    }
   ],
   "source": [
    "# value counts for airlines_final_df['City']\n",
    "airlines_final_df['City'].value_counts()"
   ]
  },
  {
   "cell_type": "code",
   "execution_count": 7,
   "id": "a351d354",
   "metadata": {},
   "outputs": [
    {
     "data": {
      "text/plain": [
       "Southwest    159390\n",
       "United        42173\n",
       "American      40206\n",
       "Delta         36238\n",
       "Name: Carrier, dtype: int64"
      ]
     },
     "execution_count": 7,
     "metadata": {},
     "output_type": "execute_result"
    }
   ],
   "source": [
    "# value counts for airlines_final_df['Carrier']\n",
    "airlines_final_df['Carrier'].value_counts()"
   ]
  },
  {
   "cell_type": "code",
   "execution_count": 8,
   "id": "4032d0ee",
   "metadata": {},
   "outputs": [
    {
     "data": {
      "text/plain": [
       "California        74328\n",
       "Texas             38370\n",
       "Arizona           25718\n",
       "Nevada            18717\n",
       "Illinois          18679\n",
       "Colorado          17363\n",
       "Utah              10048\n",
       "Georgia            9871\n",
       "Washington         6941\n",
       "Minnesota          5899\n",
       "New York           5391\n",
       "Missouri           5190\n",
       "North Carolina     5178\n",
       "New Jersey         5035\n",
       "D.C.               4234\n",
       "Maryland           4157\n",
       "Michigan           3795\n",
       "Florida            3554\n",
       "Pennsylvania       3238\n",
       "Tennessee          2641\n",
       "Oregon             2588\n",
       "New Mexico         2392\n",
       "Idaho              1273\n",
       "Louisiana          1270\n",
       "Hawaii             1223\n",
       "Wisconsin           310\n",
       "Nebraska            289\n",
       "Indiana             212\n",
       "Virginia             93\n",
       "Montana              10\n",
       "Name: State, dtype: int64"
      ]
     },
     "execution_count": 8,
     "metadata": {},
     "output_type": "execute_result"
    }
   ],
   "source": [
    "# value counts for airlines_final_df['State']\n",
    "airlines_final_df['State'].value_counts()"
   ]
  },
  {
   "cell_type": "code",
   "execution_count": 9,
   "id": "5a915229",
   "metadata": {},
   "outputs": [
    {
     "data": {
      "text/plain": [
       "PHX    23066\n",
       "SFO    22018\n",
       "SJC    17720\n",
       "SMF    17554\n",
       "DEN    17363\n",
       "OAK    15769\n",
       "LAS    15316\n",
       "DFW    14786\n",
       "ORD    12680\n",
       "SLC    10048\n",
       "ATL     9871\n",
       "IAH     7300\n",
       "SEA     6598\n",
       "MDW     5999\n",
       "MSP     5899\n",
       "DAL     5896\n",
       "JFK     5391\n",
       "CLT     5178\n",
       "EWR     5035\n",
       "IAD     4234\n",
       "BWI     4157\n",
       "HOU     3908\n",
       "DTW     3795\n",
       "AUS     3678\n",
       "RNO     3401\n",
       "PHL     3238\n",
       "STL     2909\n",
       "TUS     2652\n",
       "BNA     2641\n",
       "PDX     2588\n",
       "ABQ     2392\n",
       "SAT     2282\n",
       "MCI     2281\n",
       "MIA     1924\n",
       "BOI     1273\n",
       "MSY     1270\n",
       "LAX     1267\n",
       "MCO     1009\n",
       "HNL      631\n",
       "TPA      621\n",
       "ELP      520\n",
       "OGG      350\n",
       "GEG      343\n",
       "MKE      310\n",
       "OMA      289\n",
       "IND      212\n",
       "KOA      127\n",
       "LIH      115\n",
       "ORF       93\n",
       "BZN       10\n",
       "Name: Destination Airport, dtype: int64"
      ]
     },
     "execution_count": 9,
     "metadata": {},
     "output_type": "execute_result"
    }
   ],
   "source": [
    "# value counts for airlines_final_df['Destination Airport']\n",
    "airlines_final_df['Destination Airport'].value_counts()"
   ]
  },
  {
   "cell_type": "code",
   "execution_count": 10,
   "id": "ee193789",
   "metadata": {},
   "outputs": [
    {
     "data": {
      "text/plain": [
       "August       25216\n",
       "July         25072\n",
       "March        25061\n",
       "October      23496\n",
       "January      23198\n",
       "December     22983\n",
       "June         22900\n",
       "September    22731\n",
       "November     22551\n",
       "April        22403\n",
       "May          21434\n",
       "February     20962\n",
       "Name: Flight Month, dtype: int64"
      ]
     },
     "execution_count": 10,
     "metadata": {},
     "output_type": "execute_result"
    }
   ],
   "source": [
    "# value counts for airlines_final_df['Flight Month']\n",
    "airlines_final_df['Flight Month'].value_counts()"
   ]
  },
  {
   "cell_type": "code",
   "execution_count": 11,
   "id": "3a68bd9b",
   "metadata": {},
   "outputs": [
    {
     "data": {
      "text/plain": [
       "2019    68461\n",
       "2018    65833\n",
       "2017    61848\n",
       "2021    41928\n",
       "2020    39937\n",
       "Name: Flight Year, dtype: int64"
      ]
     },
     "execution_count": 11,
     "metadata": {},
     "output_type": "execute_result"
    }
   ],
   "source": [
    "# value counts for airlines_final_df['Flight Year']\n",
    "airlines_final_df['Flight Year'].value_counts()"
   ]
  },
  {
   "cell_type": "code",
   "execution_count": 12,
   "id": "754fc904",
   "metadata": {},
   "outputs": [
    {
     "data": {
      "text/plain": [
       "1     9067\n",
       "2     9060\n",
       "3     9007\n",
       "4     8845\n",
       "5     9077\n",
       "6     9167\n",
       "7     9062\n",
       "8     9151\n",
       "9     9193\n",
       "10    9199\n",
       "11    9101\n",
       "12    9233\n",
       "13    9205\n",
       "14    9013\n",
       "15    9140\n",
       "16    9170\n",
       "17    9217\n",
       "18    9134\n",
       "19    9227\n",
       "20    9228\n",
       "21    9204\n",
       "22    9198\n",
       "23    9213\n",
       "24    9103\n",
       "25    9008\n",
       "26    9178\n",
       "27    9195\n",
       "28    9067\n",
       "29    8586\n",
       "30    8560\n",
       "31    5199\n",
       "Name: Flight Day, dtype: int64"
      ]
     },
     "execution_count": 12,
     "metadata": {},
     "output_type": "execute_result"
    }
   ],
   "source": [
    "# value counts for airlines_final_df['Flight Day']\n",
    "airlines_final_df['Flight Day'].value_counts().sort_index()"
   ]
  },
  {
   "cell_type": "code",
   "execution_count": 13,
   "id": "471e4cb6",
   "metadata": {},
   "outputs": [],
   "source": [
    "# saves descriptive_stats_air to file\n",
    "path2 = r'/Users/oliviamurphy/Desktop/Airlines Project/04 Analysis'\n",
    "descriptive_stats_air.to_csv(os.path.join(path2, 'descriptive_stats_air.csv'))"
   ]
  },
  {
   "cell_type": "code",
   "execution_count": null,
   "id": "8f2fed30",
   "metadata": {},
   "outputs": [],
   "source": []
  },
  {
   "cell_type": "code",
   "execution_count": null,
   "id": "9ac926b8",
   "metadata": {},
   "outputs": [],
   "source": []
  },
  {
   "cell_type": "code",
   "execution_count": null,
   "id": "d3013289",
   "metadata": {},
   "outputs": [],
   "source": []
  },
  {
   "cell_type": "code",
   "execution_count": null,
   "id": "676dfdef",
   "metadata": {},
   "outputs": [],
   "source": []
  }
 ],
 "metadata": {
  "kernelspec": {
   "display_name": "Python 3 (ipykernel)",
   "language": "python",
   "name": "python3"
  },
  "language_info": {
   "codemirror_mode": {
    "name": "ipython",
    "version": 3
   },
   "file_extension": ".py",
   "mimetype": "text/x-python",
   "name": "python",
   "nbconvert_exporter": "python",
   "pygments_lexer": "ipython3",
   "version": "3.9.7"
  }
 },
 "nbformat": 4,
 "nbformat_minor": 5
}
