{
 "cells": [
  {
   "cell_type": "markdown",
   "id": "9e5e7134",
   "metadata": {},
   "source": [
    "# Import Libraries"
   ]
  },
  {
   "cell_type": "code",
   "execution_count": 98,
   "id": "6d9c2b6d",
   "metadata": {},
   "outputs": [],
   "source": [
    "# import libraries\n",
    "import numpy as np\n",
    "import pandas as pd\n",
    "import os\n",
    "import datetime"
   ]
  },
  {
   "cell_type": "code",
   "execution_count": 99,
   "id": "cf101fb3",
   "metadata": {},
   "outputs": [],
   "source": [
    "# import dataframe\n",
    "path = r'/Users/oliviamurphy/Desktop/Airlines Project/02 Data'\n",
    "airlines_final_df = pd.read_csv(os.path.join(path, 'Prepared Data', 'airlines_final_df.csv'), index_col = [0])"
   ]
  },
  {
   "cell_type": "markdown",
   "id": "af87351e",
   "metadata": {},
   "source": [
    "# Convert Mixed Type Columns"
   ]
  },
  {
   "cell_type": "code",
   "execution_count": 100,
   "id": "2b8de5d4",
   "metadata": {},
   "outputs": [],
   "source": [
    "# converts datatpes\n",
    "airlines_final_df['Carrier'] = airlines_final_df['Carrier'].astype(str)\n",
    "airlines_final_df['Date (MM/DD/YYYY)'] = airlines_final_df['Date (MM/DD/YYYY)'].astype(str)\n",
    "airlines_final_df['Tail Number'] = airlines_final_df['Tail Number'].astype(str)\n",
    "airlines_final_df['Destination Airport'] = airlines_final_df['Destination Airport'].astype(str)\n",
    "airlines_final_df['Flight Number'] = airlines_final_df['Flight Number'].astype(str)\n",
    "airlines_final_df['Actual Departure Time'] = pd.to_datetime(airlines_final_df['Actual Departure Time'], format = '%H:%M:%S').dt.time\n",
    "airlines_final_df['Scheduled Departure Time'] = pd.to_datetime(airlines_final_df['Scheduled Departure Time'], format = '%H:%M:%S').dt.time"
   ]
  },
  {
   "cell_type": "markdown",
   "id": "04f27d93",
   "metadata": {},
   "source": [
    "# Create new variables"
   ]
  },
  {
   "cell_type": "code",
   "execution_count": 101,
   "id": "50fccbf5",
   "metadata": {},
   "outputs": [
    {
     "data": {
      "text/html": [
       "<div>\n",
       "<style scoped>\n",
       "    .dataframe tbody tr th:only-of-type {\n",
       "        vertical-align: middle;\n",
       "    }\n",
       "\n",
       "    .dataframe tbody tr th {\n",
       "        vertical-align: top;\n",
       "    }\n",
       "\n",
       "    .dataframe thead th {\n",
       "        text-align: right;\n",
       "    }\n",
       "</style>\n",
       "<table border=\"1\" class=\"dataframe\">\n",
       "  <thead>\n",
       "    <tr style=\"text-align: right;\">\n",
       "      <th></th>\n",
       "      <th>Carrier</th>\n",
       "      <th>Date (MM/DD/YYYY)</th>\n",
       "      <th>Flight Number</th>\n",
       "      <th>Tail Number</th>\n",
       "      <th>Destination Airport</th>\n",
       "      <th>Scheduled Departure Time</th>\n",
       "      <th>Actual Departure Time</th>\n",
       "      <th>Scheduled Elapsed Time (Minutes)</th>\n",
       "      <th>Actual Elapsed Time (Minutes)</th>\n",
       "      <th>Departure Delay (Minutes)</th>\n",
       "      <th>Taxi-Out Time (Minutes)</th>\n",
       "      <th>Delay Carrier (Minutes)</th>\n",
       "      <th>Delay Weather (Minutes)</th>\n",
       "      <th>Delay National Aviation System (Minutes)</th>\n",
       "      <th>Delay Security (Minutes)</th>\n",
       "      <th>Delay Late Aircraft Arrival (Minutes)</th>\n",
       "      <th>Full Location</th>\n",
       "    </tr>\n",
       "  </thead>\n",
       "  <tbody>\n",
       "    <tr>\n",
       "      <th>0</th>\n",
       "      <td>Delta</td>\n",
       "      <td>1/1/17</td>\n",
       "      <td>50.0</td>\n",
       "      <td>N385DN</td>\n",
       "      <td>SLC</td>\n",
       "      <td>16:45:00</td>\n",
       "      <td>16:49:00</td>\n",
       "      <td>119.0</td>\n",
       "      <td>108.0</td>\n",
       "      <td>4.0</td>\n",
       "      <td>15.0</td>\n",
       "      <td>0.0</td>\n",
       "      <td>0.0</td>\n",
       "      <td>0.0</td>\n",
       "      <td>0.0</td>\n",
       "      <td>0.0</td>\n",
       "      <td>SALT LAKE CITY, UTAH, USA</td>\n",
       "    </tr>\n",
       "    <tr>\n",
       "      <th>1</th>\n",
       "      <td>Delta</td>\n",
       "      <td>1/1/17</td>\n",
       "      <td>106.0</td>\n",
       "      <td>N313US</td>\n",
       "      <td>SLC</td>\n",
       "      <td>13:05:00</td>\n",
       "      <td>13:01:00</td>\n",
       "      <td>117.0</td>\n",
       "      <td>116.0</td>\n",
       "      <td>-4.0</td>\n",
       "      <td>20.0</td>\n",
       "      <td>0.0</td>\n",
       "      <td>0.0</td>\n",
       "      <td>0.0</td>\n",
       "      <td>0.0</td>\n",
       "      <td>0.0</td>\n",
       "      <td>SALT LAKE CITY, UTAH, USA</td>\n",
       "    </tr>\n",
       "    <tr>\n",
       "      <th>2</th>\n",
       "      <td>Delta</td>\n",
       "      <td>1/1/17</td>\n",
       "      <td>798.0</td>\n",
       "      <td>N848DN</td>\n",
       "      <td>SLC</td>\n",
       "      <td>06:15:00</td>\n",
       "      <td>06:38:00</td>\n",
       "      <td>125.0</td>\n",
       "      <td>126.0</td>\n",
       "      <td>23.0</td>\n",
       "      <td>15.0</td>\n",
       "      <td>23.0</td>\n",
       "      <td>0.0</td>\n",
       "      <td>1.0</td>\n",
       "      <td>0.0</td>\n",
       "      <td>0.0</td>\n",
       "      <td>SALT LAKE CITY, UTAH, USA</td>\n",
       "    </tr>\n",
       "    <tr>\n",
       "      <th>3</th>\n",
       "      <td>Delta</td>\n",
       "      <td>1/1/17</td>\n",
       "      <td>2536.0</td>\n",
       "      <td>N317NB</td>\n",
       "      <td>SLC</td>\n",
       "      <td>11:20:00</td>\n",
       "      <td>12:10:00</td>\n",
       "      <td>123.0</td>\n",
       "      <td>107.0</td>\n",
       "      <td>50.0</td>\n",
       "      <td>16.0</td>\n",
       "      <td>2.0</td>\n",
       "      <td>0.0</td>\n",
       "      <td>0.0</td>\n",
       "      <td>0.0</td>\n",
       "      <td>32.0</td>\n",
       "      <td>SALT LAKE CITY, UTAH, USA</td>\n",
       "    </tr>\n",
       "    <tr>\n",
       "      <th>4</th>\n",
       "      <td>Delta</td>\n",
       "      <td>1/1/18</td>\n",
       "      <td>50.0</td>\n",
       "      <td>N960DN</td>\n",
       "      <td>SLC</td>\n",
       "      <td>16:40:00</td>\n",
       "      <td>19:00:00</td>\n",
       "      <td>120.0</td>\n",
       "      <td>112.0</td>\n",
       "      <td>140.0</td>\n",
       "      <td>20.0</td>\n",
       "      <td>3.0</td>\n",
       "      <td>0.0</td>\n",
       "      <td>0.0</td>\n",
       "      <td>0.0</td>\n",
       "      <td>129.0</td>\n",
       "      <td>SALT LAKE CITY, UTAH, USA</td>\n",
       "    </tr>\n",
       "  </tbody>\n",
       "</table>\n",
       "</div>"
      ],
      "text/plain": [
       "  Carrier Date (MM/DD/YYYY) Flight Number Tail Number Destination Airport  \\\n",
       "0   Delta            1/1/17          50.0      N385DN                 SLC   \n",
       "1   Delta            1/1/17         106.0      N313US                 SLC   \n",
       "2   Delta            1/1/17         798.0      N848DN                 SLC   \n",
       "3   Delta            1/1/17        2536.0      N317NB                 SLC   \n",
       "4   Delta            1/1/18          50.0      N960DN                 SLC   \n",
       "\n",
       "  Scheduled Departure Time Actual Departure Time  \\\n",
       "0                 16:45:00              16:49:00   \n",
       "1                 13:05:00              13:01:00   \n",
       "2                 06:15:00              06:38:00   \n",
       "3                 11:20:00              12:10:00   \n",
       "4                 16:40:00              19:00:00   \n",
       "\n",
       "   Scheduled Elapsed Time (Minutes)  Actual Elapsed Time (Minutes)  \\\n",
       "0                             119.0                          108.0   \n",
       "1                             117.0                          116.0   \n",
       "2                             125.0                          126.0   \n",
       "3                             123.0                          107.0   \n",
       "4                             120.0                          112.0   \n",
       "\n",
       "   Departure Delay (Minutes)  Taxi-Out Time (Minutes)  \\\n",
       "0                        4.0                     15.0   \n",
       "1                       -4.0                     20.0   \n",
       "2                       23.0                     15.0   \n",
       "3                       50.0                     16.0   \n",
       "4                      140.0                     20.0   \n",
       "\n",
       "   Delay Carrier (Minutes)  Delay Weather (Minutes)  \\\n",
       "0                      0.0                      0.0   \n",
       "1                      0.0                      0.0   \n",
       "2                     23.0                      0.0   \n",
       "3                      2.0                      0.0   \n",
       "4                      3.0                      0.0   \n",
       "\n",
       "   Delay National Aviation System (Minutes)  Delay Security (Minutes)  \\\n",
       "0                                       0.0                       0.0   \n",
       "1                                       0.0                       0.0   \n",
       "2                                       1.0                       0.0   \n",
       "3                                       0.0                       0.0   \n",
       "4                                       0.0                       0.0   \n",
       "\n",
       "   Delay Late Aircraft Arrival (Minutes)                        Full Location  \n",
       "0                                    0.0  SALT LAKE CITY, UTAH, USA            \n",
       "1                                    0.0  SALT LAKE CITY, UTAH, USA            \n",
       "2                                    0.0  SALT LAKE CITY, UTAH, USA            \n",
       "3                                   32.0  SALT LAKE CITY, UTAH, USA            \n",
       "4                                  129.0  SALT LAKE CITY, UTAH, USA            "
      ]
     },
     "execution_count": 101,
     "metadata": {},
     "output_type": "execute_result"
    }
   ],
   "source": [
    "# returns first five rows of airlines_final_df\n",
    "airlines_final_df.head()"
   ]
  },
  {
   "cell_type": "markdown",
   "id": "ccdd77c5",
   "metadata": {},
   "source": [
    "## create new variables from Full Location column"
   ]
  },
  {
   "cell_type": "code",
   "execution_count": 102,
   "id": "9488b291",
   "metadata": {},
   "outputs": [],
   "source": [
    "# splits Full Location into four columns\n",
    "airlines_final_df[['City', 'State', 'Country', 'Placeholder']] = airlines_final_df['Full Location'].str.split(', ', expand = True)"
   ]
  },
  {
   "cell_type": "code",
   "execution_count": 103,
   "id": "7a7f836d",
   "metadata": {},
   "outputs": [],
   "source": [
    "# drops extra column\n",
    "airlines_final_df = airlines_final_df.drop(columns = {'Placeholder', 'Full Location'})"
   ]
  },
  {
   "cell_type": "code",
   "execution_count": 104,
   "id": "922ca80e",
   "metadata": {},
   "outputs": [
    {
     "data": {
      "text/html": [
       "<div>\n",
       "<style scoped>\n",
       "    .dataframe tbody tr th:only-of-type {\n",
       "        vertical-align: middle;\n",
       "    }\n",
       "\n",
       "    .dataframe tbody tr th {\n",
       "        vertical-align: top;\n",
       "    }\n",
       "\n",
       "    .dataframe thead th {\n",
       "        text-align: right;\n",
       "    }\n",
       "</style>\n",
       "<table border=\"1\" class=\"dataframe\">\n",
       "  <thead>\n",
       "    <tr style=\"text-align: right;\">\n",
       "      <th></th>\n",
       "      <th>Carrier</th>\n",
       "      <th>Date (MM/DD/YYYY)</th>\n",
       "      <th>Flight Number</th>\n",
       "      <th>Tail Number</th>\n",
       "      <th>Destination Airport</th>\n",
       "      <th>Scheduled Departure Time</th>\n",
       "      <th>Actual Departure Time</th>\n",
       "      <th>Scheduled Elapsed Time (Minutes)</th>\n",
       "      <th>Actual Elapsed Time (Minutes)</th>\n",
       "      <th>Departure Delay (Minutes)</th>\n",
       "      <th>Taxi-Out Time (Minutes)</th>\n",
       "      <th>Delay Carrier (Minutes)</th>\n",
       "      <th>Delay Weather (Minutes)</th>\n",
       "      <th>Delay National Aviation System (Minutes)</th>\n",
       "      <th>Delay Security (Minutes)</th>\n",
       "      <th>Delay Late Aircraft Arrival (Minutes)</th>\n",
       "      <th>City</th>\n",
       "      <th>State</th>\n",
       "      <th>Country</th>\n",
       "    </tr>\n",
       "  </thead>\n",
       "  <tbody>\n",
       "    <tr>\n",
       "      <th>0</th>\n",
       "      <td>Delta</td>\n",
       "      <td>1/1/17</td>\n",
       "      <td>50.0</td>\n",
       "      <td>N385DN</td>\n",
       "      <td>SLC</td>\n",
       "      <td>16:45:00</td>\n",
       "      <td>16:49:00</td>\n",
       "      <td>119.0</td>\n",
       "      <td>108.0</td>\n",
       "      <td>4.0</td>\n",
       "      <td>15.0</td>\n",
       "      <td>0.0</td>\n",
       "      <td>0.0</td>\n",
       "      <td>0.0</td>\n",
       "      <td>0.0</td>\n",
       "      <td>0.0</td>\n",
       "      <td>SALT LAKE CITY</td>\n",
       "      <td>UTAH</td>\n",
       "      <td>USA</td>\n",
       "    </tr>\n",
       "    <tr>\n",
       "      <th>1</th>\n",
       "      <td>Delta</td>\n",
       "      <td>1/1/17</td>\n",
       "      <td>106.0</td>\n",
       "      <td>N313US</td>\n",
       "      <td>SLC</td>\n",
       "      <td>13:05:00</td>\n",
       "      <td>13:01:00</td>\n",
       "      <td>117.0</td>\n",
       "      <td>116.0</td>\n",
       "      <td>-4.0</td>\n",
       "      <td>20.0</td>\n",
       "      <td>0.0</td>\n",
       "      <td>0.0</td>\n",
       "      <td>0.0</td>\n",
       "      <td>0.0</td>\n",
       "      <td>0.0</td>\n",
       "      <td>SALT LAKE CITY</td>\n",
       "      <td>UTAH</td>\n",
       "      <td>USA</td>\n",
       "    </tr>\n",
       "    <tr>\n",
       "      <th>2</th>\n",
       "      <td>Delta</td>\n",
       "      <td>1/1/17</td>\n",
       "      <td>798.0</td>\n",
       "      <td>N848DN</td>\n",
       "      <td>SLC</td>\n",
       "      <td>06:15:00</td>\n",
       "      <td>06:38:00</td>\n",
       "      <td>125.0</td>\n",
       "      <td>126.0</td>\n",
       "      <td>23.0</td>\n",
       "      <td>15.0</td>\n",
       "      <td>23.0</td>\n",
       "      <td>0.0</td>\n",
       "      <td>1.0</td>\n",
       "      <td>0.0</td>\n",
       "      <td>0.0</td>\n",
       "      <td>SALT LAKE CITY</td>\n",
       "      <td>UTAH</td>\n",
       "      <td>USA</td>\n",
       "    </tr>\n",
       "    <tr>\n",
       "      <th>3</th>\n",
       "      <td>Delta</td>\n",
       "      <td>1/1/17</td>\n",
       "      <td>2536.0</td>\n",
       "      <td>N317NB</td>\n",
       "      <td>SLC</td>\n",
       "      <td>11:20:00</td>\n",
       "      <td>12:10:00</td>\n",
       "      <td>123.0</td>\n",
       "      <td>107.0</td>\n",
       "      <td>50.0</td>\n",
       "      <td>16.0</td>\n",
       "      <td>2.0</td>\n",
       "      <td>0.0</td>\n",
       "      <td>0.0</td>\n",
       "      <td>0.0</td>\n",
       "      <td>32.0</td>\n",
       "      <td>SALT LAKE CITY</td>\n",
       "      <td>UTAH</td>\n",
       "      <td>USA</td>\n",
       "    </tr>\n",
       "    <tr>\n",
       "      <th>4</th>\n",
       "      <td>Delta</td>\n",
       "      <td>1/1/18</td>\n",
       "      <td>50.0</td>\n",
       "      <td>N960DN</td>\n",
       "      <td>SLC</td>\n",
       "      <td>16:40:00</td>\n",
       "      <td>19:00:00</td>\n",
       "      <td>120.0</td>\n",
       "      <td>112.0</td>\n",
       "      <td>140.0</td>\n",
       "      <td>20.0</td>\n",
       "      <td>3.0</td>\n",
       "      <td>0.0</td>\n",
       "      <td>0.0</td>\n",
       "      <td>0.0</td>\n",
       "      <td>129.0</td>\n",
       "      <td>SALT LAKE CITY</td>\n",
       "      <td>UTAH</td>\n",
       "      <td>USA</td>\n",
       "    </tr>\n",
       "  </tbody>\n",
       "</table>\n",
       "</div>"
      ],
      "text/plain": [
       "  Carrier Date (MM/DD/YYYY) Flight Number Tail Number Destination Airport  \\\n",
       "0   Delta            1/1/17          50.0      N385DN                 SLC   \n",
       "1   Delta            1/1/17         106.0      N313US                 SLC   \n",
       "2   Delta            1/1/17         798.0      N848DN                 SLC   \n",
       "3   Delta            1/1/17        2536.0      N317NB                 SLC   \n",
       "4   Delta            1/1/18          50.0      N960DN                 SLC   \n",
       "\n",
       "  Scheduled Departure Time Actual Departure Time  \\\n",
       "0                 16:45:00              16:49:00   \n",
       "1                 13:05:00              13:01:00   \n",
       "2                 06:15:00              06:38:00   \n",
       "3                 11:20:00              12:10:00   \n",
       "4                 16:40:00              19:00:00   \n",
       "\n",
       "   Scheduled Elapsed Time (Minutes)  Actual Elapsed Time (Minutes)  \\\n",
       "0                             119.0                          108.0   \n",
       "1                             117.0                          116.0   \n",
       "2                             125.0                          126.0   \n",
       "3                             123.0                          107.0   \n",
       "4                             120.0                          112.0   \n",
       "\n",
       "   Departure Delay (Minutes)  Taxi-Out Time (Minutes)  \\\n",
       "0                        4.0                     15.0   \n",
       "1                       -4.0                     20.0   \n",
       "2                       23.0                     15.0   \n",
       "3                       50.0                     16.0   \n",
       "4                      140.0                     20.0   \n",
       "\n",
       "   Delay Carrier (Minutes)  Delay Weather (Minutes)  \\\n",
       "0                      0.0                      0.0   \n",
       "1                      0.0                      0.0   \n",
       "2                     23.0                      0.0   \n",
       "3                      2.0                      0.0   \n",
       "4                      3.0                      0.0   \n",
       "\n",
       "   Delay National Aviation System (Minutes)  Delay Security (Minutes)  \\\n",
       "0                                       0.0                       0.0   \n",
       "1                                       0.0                       0.0   \n",
       "2                                       1.0                       0.0   \n",
       "3                                       0.0                       0.0   \n",
       "4                                       0.0                       0.0   \n",
       "\n",
       "   Delay Late Aircraft Arrival (Minutes)            City State        Country  \n",
       "0                                    0.0  SALT LAKE CITY  UTAH  USA            \n",
       "1                                    0.0  SALT LAKE CITY  UTAH  USA            \n",
       "2                                    0.0  SALT LAKE CITY  UTAH  USA            \n",
       "3                                   32.0  SALT LAKE CITY  UTAH  USA            \n",
       "4                                  129.0  SALT LAKE CITY  UTAH  USA            "
      ]
     },
     "execution_count": 104,
     "metadata": {},
     "output_type": "execute_result"
    }
   ],
   "source": [
    "airlines_final_df.head()"
   ]
  },
  {
   "cell_type": "markdown",
   "id": "7c14a5c9",
   "metadata": {},
   "source": [
    "## creates new columns from Date (MM/DD/YYYY) column"
   ]
  },
  {
   "cell_type": "code",
   "execution_count": 105,
   "id": "e3c07a42",
   "metadata": {},
   "outputs": [],
   "source": [
    "#  Splits flight date into day, month, and year\n",
    "airlines_final_df[['Flight Month', 'Flight Day', 'Flight Year']] =airlines_final_df['Date (MM/DD/YYYY)'].str.split('/', expand = True)"
   ]
  },
  {
   "cell_type": "code",
   "execution_count": 106,
   "id": "6dafb0ee",
   "metadata": {},
   "outputs": [
    {
     "data": {
      "text/html": [
       "<div>\n",
       "<style scoped>\n",
       "    .dataframe tbody tr th:only-of-type {\n",
       "        vertical-align: middle;\n",
       "    }\n",
       "\n",
       "    .dataframe tbody tr th {\n",
       "        vertical-align: top;\n",
       "    }\n",
       "\n",
       "    .dataframe thead th {\n",
       "        text-align: right;\n",
       "    }\n",
       "</style>\n",
       "<table border=\"1\" class=\"dataframe\">\n",
       "  <thead>\n",
       "    <tr style=\"text-align: right;\">\n",
       "      <th></th>\n",
       "      <th>Carrier</th>\n",
       "      <th>Date (MM/DD/YYYY)</th>\n",
       "      <th>Flight Number</th>\n",
       "      <th>Tail Number</th>\n",
       "      <th>Destination Airport</th>\n",
       "      <th>Scheduled Departure Time</th>\n",
       "      <th>Actual Departure Time</th>\n",
       "      <th>Scheduled Elapsed Time (Minutes)</th>\n",
       "      <th>Actual Elapsed Time (Minutes)</th>\n",
       "      <th>Departure Delay (Minutes)</th>\n",
       "      <th>...</th>\n",
       "      <th>Delay Weather (Minutes)</th>\n",
       "      <th>Delay National Aviation System (Minutes)</th>\n",
       "      <th>Delay Security (Minutes)</th>\n",
       "      <th>Delay Late Aircraft Arrival (Minutes)</th>\n",
       "      <th>City</th>\n",
       "      <th>State</th>\n",
       "      <th>Country</th>\n",
       "      <th>Flight Month</th>\n",
       "      <th>Flight Day</th>\n",
       "      <th>Flight Year</th>\n",
       "    </tr>\n",
       "  </thead>\n",
       "  <tbody>\n",
       "    <tr>\n",
       "      <th>0</th>\n",
       "      <td>Delta</td>\n",
       "      <td>1/1/17</td>\n",
       "      <td>50.0</td>\n",
       "      <td>N385DN</td>\n",
       "      <td>SLC</td>\n",
       "      <td>16:45:00</td>\n",
       "      <td>16:49:00</td>\n",
       "      <td>119.0</td>\n",
       "      <td>108.0</td>\n",
       "      <td>4.0</td>\n",
       "      <td>...</td>\n",
       "      <td>0.0</td>\n",
       "      <td>0.0</td>\n",
       "      <td>0.0</td>\n",
       "      <td>0.0</td>\n",
       "      <td>SALT LAKE CITY</td>\n",
       "      <td>UTAH</td>\n",
       "      <td>USA</td>\n",
       "      <td>1</td>\n",
       "      <td>1</td>\n",
       "      <td>17</td>\n",
       "    </tr>\n",
       "    <tr>\n",
       "      <th>1</th>\n",
       "      <td>Delta</td>\n",
       "      <td>1/1/17</td>\n",
       "      <td>106.0</td>\n",
       "      <td>N313US</td>\n",
       "      <td>SLC</td>\n",
       "      <td>13:05:00</td>\n",
       "      <td>13:01:00</td>\n",
       "      <td>117.0</td>\n",
       "      <td>116.0</td>\n",
       "      <td>-4.0</td>\n",
       "      <td>...</td>\n",
       "      <td>0.0</td>\n",
       "      <td>0.0</td>\n",
       "      <td>0.0</td>\n",
       "      <td>0.0</td>\n",
       "      <td>SALT LAKE CITY</td>\n",
       "      <td>UTAH</td>\n",
       "      <td>USA</td>\n",
       "      <td>1</td>\n",
       "      <td>1</td>\n",
       "      <td>17</td>\n",
       "    </tr>\n",
       "    <tr>\n",
       "      <th>2</th>\n",
       "      <td>Delta</td>\n",
       "      <td>1/1/17</td>\n",
       "      <td>798.0</td>\n",
       "      <td>N848DN</td>\n",
       "      <td>SLC</td>\n",
       "      <td>06:15:00</td>\n",
       "      <td>06:38:00</td>\n",
       "      <td>125.0</td>\n",
       "      <td>126.0</td>\n",
       "      <td>23.0</td>\n",
       "      <td>...</td>\n",
       "      <td>0.0</td>\n",
       "      <td>1.0</td>\n",
       "      <td>0.0</td>\n",
       "      <td>0.0</td>\n",
       "      <td>SALT LAKE CITY</td>\n",
       "      <td>UTAH</td>\n",
       "      <td>USA</td>\n",
       "      <td>1</td>\n",
       "      <td>1</td>\n",
       "      <td>17</td>\n",
       "    </tr>\n",
       "    <tr>\n",
       "      <th>3</th>\n",
       "      <td>Delta</td>\n",
       "      <td>1/1/17</td>\n",
       "      <td>2536.0</td>\n",
       "      <td>N317NB</td>\n",
       "      <td>SLC</td>\n",
       "      <td>11:20:00</td>\n",
       "      <td>12:10:00</td>\n",
       "      <td>123.0</td>\n",
       "      <td>107.0</td>\n",
       "      <td>50.0</td>\n",
       "      <td>...</td>\n",
       "      <td>0.0</td>\n",
       "      <td>0.0</td>\n",
       "      <td>0.0</td>\n",
       "      <td>32.0</td>\n",
       "      <td>SALT LAKE CITY</td>\n",
       "      <td>UTAH</td>\n",
       "      <td>USA</td>\n",
       "      <td>1</td>\n",
       "      <td>1</td>\n",
       "      <td>17</td>\n",
       "    </tr>\n",
       "    <tr>\n",
       "      <th>4</th>\n",
       "      <td>Delta</td>\n",
       "      <td>1/1/18</td>\n",
       "      <td>50.0</td>\n",
       "      <td>N960DN</td>\n",
       "      <td>SLC</td>\n",
       "      <td>16:40:00</td>\n",
       "      <td>19:00:00</td>\n",
       "      <td>120.0</td>\n",
       "      <td>112.0</td>\n",
       "      <td>140.0</td>\n",
       "      <td>...</td>\n",
       "      <td>0.0</td>\n",
       "      <td>0.0</td>\n",
       "      <td>0.0</td>\n",
       "      <td>129.0</td>\n",
       "      <td>SALT LAKE CITY</td>\n",
       "      <td>UTAH</td>\n",
       "      <td>USA</td>\n",
       "      <td>1</td>\n",
       "      <td>1</td>\n",
       "      <td>18</td>\n",
       "    </tr>\n",
       "  </tbody>\n",
       "</table>\n",
       "<p>5 rows × 22 columns</p>\n",
       "</div>"
      ],
      "text/plain": [
       "  Carrier Date (MM/DD/YYYY) Flight Number Tail Number Destination Airport  \\\n",
       "0   Delta            1/1/17          50.0      N385DN                 SLC   \n",
       "1   Delta            1/1/17         106.0      N313US                 SLC   \n",
       "2   Delta            1/1/17         798.0      N848DN                 SLC   \n",
       "3   Delta            1/1/17        2536.0      N317NB                 SLC   \n",
       "4   Delta            1/1/18          50.0      N960DN                 SLC   \n",
       "\n",
       "  Scheduled Departure Time Actual Departure Time  \\\n",
       "0                 16:45:00              16:49:00   \n",
       "1                 13:05:00              13:01:00   \n",
       "2                 06:15:00              06:38:00   \n",
       "3                 11:20:00              12:10:00   \n",
       "4                 16:40:00              19:00:00   \n",
       "\n",
       "   Scheduled Elapsed Time (Minutes)  Actual Elapsed Time (Minutes)  \\\n",
       "0                             119.0                          108.0   \n",
       "1                             117.0                          116.0   \n",
       "2                             125.0                          126.0   \n",
       "3                             123.0                          107.0   \n",
       "4                             120.0                          112.0   \n",
       "\n",
       "   Departure Delay (Minutes)  ...  Delay Weather (Minutes)  \\\n",
       "0                        4.0  ...                      0.0   \n",
       "1                       -4.0  ...                      0.0   \n",
       "2                       23.0  ...                      0.0   \n",
       "3                       50.0  ...                      0.0   \n",
       "4                      140.0  ...                      0.0   \n",
       "\n",
       "   Delay National Aviation System (Minutes)  Delay Security (Minutes)  \\\n",
       "0                                       0.0                       0.0   \n",
       "1                                       0.0                       0.0   \n",
       "2                                       1.0                       0.0   \n",
       "3                                       0.0                       0.0   \n",
       "4                                       0.0                       0.0   \n",
       "\n",
       "   Delay Late Aircraft Arrival (Minutes)            City  State  \\\n",
       "0                                    0.0  SALT LAKE CITY   UTAH   \n",
       "1                                    0.0  SALT LAKE CITY   UTAH   \n",
       "2                                    0.0  SALT LAKE CITY   UTAH   \n",
       "3                                   32.0  SALT LAKE CITY   UTAH   \n",
       "4                                  129.0  SALT LAKE CITY   UTAH   \n",
       "\n",
       "         Country Flight Month Flight Day Flight Year  \n",
       "0  USA                      1          1          17  \n",
       "1  USA                      1          1          17  \n",
       "2  USA                      1          1          17  \n",
       "3  USA                      1          1          17  \n",
       "4  USA                      1          1          18  \n",
       "\n",
       "[5 rows x 22 columns]"
      ]
     },
     "execution_count": 106,
     "metadata": {},
     "output_type": "execute_result"
    }
   ],
   "source": [
    "# checks output after split and dropped columns\n",
    "airlines_final_df.head()"
   ]
  },
  {
   "cell_type": "markdown",
   "id": "22980e31",
   "metadata": {},
   "source": [
    "## create new variable for known delays"
   ]
  },
  {
   "cell_type": "code",
   "execution_count": 107,
   "id": "1eb09f08",
   "metadata": {},
   "outputs": [],
   "source": [
    "## create new variable for the total delay time with delays with known causes\n",
    "airlines_final_df['Known Total Delay (Minutes)'] = airlines_final_df['Delay Weather (Minutes)']+airlines_final_df['Delay Carrier (Minutes)']+ airlines_final_df['Delay National Aviation System (Minutes)']+airlines_final_df['Delay Security (Minutes)']+airlines_final_df['Delay Late Aircraft Arrival (Minutes)']"
   ]
  },
  {
   "cell_type": "code",
   "execution_count": 108,
   "id": "7b4bd691",
   "metadata": {},
   "outputs": [
    {
     "data": {
      "text/plain": [
       "0      0.0\n",
       "1      0.0\n",
       "2     24.0\n",
       "3     34.0\n",
       "4    132.0\n",
       "Name: Known Total Delay (Minutes), dtype: float64"
      ]
     },
     "execution_count": 108,
     "metadata": {},
     "output_type": "execute_result"
    }
   ],
   "source": [
    "## checks first five rows of new variable\n",
    "airlines_final_df['Known Total Delay (Minutes)'].head()"
   ]
  },
  {
   "cell_type": "markdown",
   "id": "5fcf981c",
   "metadata": {},
   "source": [
    "## creates variable for descrepancy"
   ]
  },
  {
   "cell_type": "code",
   "execution_count": 109,
   "id": "9a4951fa",
   "metadata": {},
   "outputs": [],
   "source": [
    "## creates variable for unaccounted delay time\n",
    "airlines_final_df['Unaccounted Delay Time'] = airlines_final_df['Known Total Delay (Minutes)'] - airlines_final_df['Departure Delay (Minutes)'] "
   ]
  },
  {
   "cell_type": "code",
   "execution_count": 110,
   "id": "3e5838b8",
   "metadata": {},
   "outputs": [
    {
     "data": {
      "text/plain": [
       "0    -4.0\n",
       "1     4.0\n",
       "2     1.0\n",
       "3   -16.0\n",
       "4    -8.0\n",
       "Name: Unaccounted Delay Time, dtype: float64"
      ]
     },
     "execution_count": 110,
     "metadata": {},
     "output_type": "execute_result"
    }
   ],
   "source": [
    "## checks first five rows of new variable\n",
    "airlines_final_df['Unaccounted Delay Time'].head()"
   ]
  },
  {
   "cell_type": "markdown",
   "id": "b03a4bcf",
   "metadata": {},
   "source": [
    "# Change value formats in split columns"
   ]
  },
  {
   "cell_type": "code",
   "execution_count": 111,
   "id": "9d98e2d4",
   "metadata": {},
   "outputs": [],
   "source": [
    "# changes capitalization for airlines_final_df['City']\n",
    "airlines_final_df['City'] = airlines_final_df['City'].str.title()"
   ]
  },
  {
   "cell_type": "code",
   "execution_count": 112,
   "id": "56dd5e6d",
   "metadata": {},
   "outputs": [],
   "source": [
    "# changes capitalization for airlines_final_df['State']\n",
    "airlines_final_df['State'] = airlines_final_df['State'].str.title()"
   ]
  },
  {
   "cell_type": "code",
   "execution_count": 113,
   "id": "1a568452",
   "metadata": {},
   "outputs": [],
   "source": [
    "# changes values for airlines_final_df['Flight Month'] from numbers to month names\n",
    "airlines_final_df['Flight Month'] = airlines_final_df['Flight Month'].replace('1', 'January')\n",
    "airlines_final_df['Flight Month'] = airlines_final_df['Flight Month'].replace('2', 'February')\n",
    "airlines_final_df['Flight Month'] = airlines_final_df['Flight Month'].replace('3', 'March')\n",
    "airlines_final_df['Flight Month'] = airlines_final_df['Flight Month'].replace('4', 'April')\n",
    "airlines_final_df['Flight Month'] = airlines_final_df['Flight Month'].replace('5', 'May')\n",
    "airlines_final_df['Flight Month'] = airlines_final_df['Flight Month'].replace('6', 'June')\n",
    "airlines_final_df['Flight Month'] = airlines_final_df['Flight Month'].replace('7', 'July')\n",
    "airlines_final_df['Flight Month'] = airlines_final_df['Flight Month'].replace('8', 'August')\n",
    "airlines_final_df['Flight Month'] = airlines_final_df['Flight Month'].replace('9', 'September')\n",
    "airlines_final_df['Flight Month'] = airlines_final_df['Flight Month'].replace('10', 'October')\n",
    "airlines_final_df['Flight Month'] = airlines_final_df['Flight Month'].replace('11', 'November')\n",
    "airlines_final_df['Flight Month'] = airlines_final_df['Flight Month'].replace('12', 'December')"
   ]
  },
  {
   "cell_type": "code",
   "execution_count": 114,
   "id": "14feda02",
   "metadata": {},
   "outputs": [],
   "source": [
    "# changes airlines_final_df['Flight Year'] to long version of year\n",
    "airlines_final_df['Flight Year'] = airlines_final_df['Flight Year'].replace('17', '2017')\n",
    "airlines_final_df['Flight Year'] = airlines_final_df['Flight Year'].replace('18', '2018')\n",
    "airlines_final_df['Flight Year'] = airlines_final_df['Flight Year'].replace('19', '2019')\n",
    "airlines_final_df['Flight Year'] = airlines_final_df['Flight Year'].replace('20', '2020')\n",
    "airlines_final_df['Flight Year'] = airlines_final_df['Flight Year'].replace('21', '2021')"
   ]
  },
  {
   "cell_type": "markdown",
   "id": "b92e44fe",
   "metadata": {},
   "source": [
    "# Check accuracy/consistency of new values"
   ]
  },
  {
   "cell_type": "code",
   "execution_count": 115,
   "id": "46379205",
   "metadata": {},
   "outputs": [
    {
     "data": {
      "text/plain": [
       "August       25216\n",
       "July         25072\n",
       "March        25061\n",
       "October      23496\n",
       "January      23198\n",
       "December     22983\n",
       "June         22900\n",
       "September    22731\n",
       "November     22551\n",
       "April        22403\n",
       "May          21434\n",
       "February     20962\n",
       "Name: Flight Month, dtype: int64"
      ]
     },
     "execution_count": 115,
     "metadata": {},
     "output_type": "execute_result"
    }
   ],
   "source": [
    "# airlines_final_df['Flight Month'] value counts\n",
    "airlines_final_df['Flight Month'].value_counts()"
   ]
  },
  {
   "cell_type": "code",
   "execution_count": 116,
   "id": "f894261d",
   "metadata": {},
   "outputs": [
    {
     "data": {
      "text/plain": [
       "2019    68461\n",
       "2018    65833\n",
       "2017    61848\n",
       "2021    41928\n",
       "2020    39937\n",
       "Name: Flight Year, dtype: int64"
      ]
     },
     "execution_count": 116,
     "metadata": {},
     "output_type": "execute_result"
    }
   ],
   "source": [
    "# airlines_final_df['Flight Year'] value counts\n",
    "airlines_final_df['Flight Year'].value_counts()"
   ]
  },
  {
   "cell_type": "code",
   "execution_count": 117,
   "id": "2c3dc000",
   "metadata": {},
   "outputs": [
    {
     "data": {
      "text/plain": [
       "12    9233\n",
       "20    9228\n",
       "19    9227\n",
       "17    9217\n",
       "23    9213\n",
       "13    9205\n",
       "21    9204\n",
       "10    9199\n",
       "22    9198\n",
       "27    9195\n",
       "9     9193\n",
       "26    9178\n",
       "16    9170\n",
       "6     9167\n",
       "8     9151\n",
       "15    9140\n",
       "18    9134\n",
       "24    9103\n",
       "11    9101\n",
       "5     9077\n",
       "28    9067\n",
       "1     9067\n",
       "7     9062\n",
       "2     9060\n",
       "14    9013\n",
       "25    9008\n",
       "3     9007\n",
       "4     8845\n",
       "29    8586\n",
       "30    8560\n",
       "31    5199\n",
       "Name: Flight Day, dtype: int64"
      ]
     },
     "execution_count": 117,
     "metadata": {},
     "output_type": "execute_result"
    }
   ],
   "source": [
    "# airlines_final_df['Flight Day'] value counts\n",
    "airlines_final_df['Flight Day'].value_counts()"
   ]
  },
  {
   "cell_type": "code",
   "execution_count": 118,
   "id": "86d734ce",
   "metadata": {},
   "outputs": [
    {
     "data": {
      "text/plain": [
       "Phoenix                23066\n",
       "San Francisco          22018\n",
       "Dallas/Ft.Worth        20682\n",
       "Chicago                18679\n",
       "San Jose               17720\n",
       "Sacramento             17554\n",
       "Denver                 17363\n",
       "Oakland                15769\n",
       "Las Vegas              15316\n",
       "Houston                11208\n",
       "Salt Lake City         10048\n",
       "Atlanta                 9871\n",
       "Seattle                 6598\n",
       "Minneapolis/St.Paul     5899\n",
       "New York                5391\n",
       "Charlotte               5178\n",
       "Newark                  5035\n",
       "Washington              4234\n",
       "Baltimore               4157\n",
       "Detroit                 3795\n",
       "Austin                  3678\n",
       "Reno                    3401\n",
       "Philadelphia            3238\n",
       "St. Louis               2909\n",
       "Tucson                  2652\n",
       "Nashville               2641\n",
       "Portland                2588\n",
       "Albuquerque             2392\n",
       "San Antonio             2282\n",
       "Kansas City             2281\n",
       "Miami                   1924\n",
       "Boise                   1273\n",
       "New Orleans             1270\n",
       "Los Angeles             1267\n",
       "Orlando                 1009\n",
       "Honolulu                 631\n",
       "Tampa                    621\n",
       "El Paso                  520\n",
       "Kahului                  350\n",
       "Spokane                  343\n",
       "Milwaukee                310\n",
       "Omaha                    289\n",
       "Indianapolis             212\n",
       "Kona                     127\n",
       "Lihue                    115\n",
       "Norfolk                   93\n",
       "Bozeman                   10\n",
       "Name: City, dtype: int64"
      ]
     },
     "execution_count": 118,
     "metadata": {},
     "output_type": "execute_result"
    }
   ],
   "source": [
    "# airlines_final_df['Flight City'] value counts\n",
    "airlines_final_df['City'].value_counts()"
   ]
  },
  {
   "cell_type": "code",
   "execution_count": 119,
   "id": "21bbb011",
   "metadata": {},
   "outputs": [
    {
     "data": {
      "text/plain": [
       "California        74328\n",
       "Texas             38370\n",
       "Arizona           25718\n",
       "Nevada            18717\n",
       "Illinois          18679\n",
       "Colorado          17363\n",
       "Utah              10048\n",
       "Georgia            9871\n",
       "Washington         6941\n",
       "Minnesota          5899\n",
       "New York           5391\n",
       "Missouri           5190\n",
       "North Carolina     5178\n",
       "New Jersey         5035\n",
       "D.C.               4234\n",
       "Maryland           4157\n",
       "Michigan           3795\n",
       "Florida            3554\n",
       "Pennsylvania       3238\n",
       "Tennessee          2641\n",
       "Oregon             2588\n",
       "New Mexico         2392\n",
       "Idaho              1273\n",
       "Louisiana          1270\n",
       "Oahu                631\n",
       "Maui                350\n",
       "Wisconsin           310\n",
       "Nebraska            289\n",
       "Indiana             212\n",
       "Hawaii              127\n",
       "Kauai               115\n",
       "Virginia             93\n",
       "Montana              10\n",
       "Name: State, dtype: int64"
      ]
     },
     "execution_count": 119,
     "metadata": {},
     "output_type": "execute_result"
    }
   ],
   "source": [
    "# airlines_final_df['State'] value counts\n",
    "airlines_final_df['State'].value_counts()\n",
    "# accuracy issue: some of these are not states"
   ]
  },
  {
   "cell_type": "code",
   "execution_count": 120,
   "id": "99d26b28",
   "metadata": {},
   "outputs": [],
   "source": [
    "# replaces places that are not states with state name\n",
    "airlines_final_df['State'] = airlines_final_df['State'].replace('Oahu', 'Hawaii')\n",
    "airlines_final_df['State'] = airlines_final_df['State'].replace('Maui', 'Hawaii')\n",
    "airlines_final_df['State'] = airlines_final_df['State'].replace('Kauai', 'Hawaii')"
   ]
  },
  {
   "cell_type": "code",
   "execution_count": 121,
   "id": "7845c229",
   "metadata": {},
   "outputs": [
    {
     "data": {
      "text/plain": [
       "California        74328\n",
       "Texas             38370\n",
       "Arizona           25718\n",
       "Nevada            18717\n",
       "Illinois          18679\n",
       "Colorado          17363\n",
       "Utah              10048\n",
       "Georgia            9871\n",
       "Washington         6941\n",
       "Minnesota          5899\n",
       "New York           5391\n",
       "Missouri           5190\n",
       "North Carolina     5178\n",
       "New Jersey         5035\n",
       "D.C.               4234\n",
       "Maryland           4157\n",
       "Michigan           3795\n",
       "Florida            3554\n",
       "Pennsylvania       3238\n",
       "Tennessee          2641\n",
       "Oregon             2588\n",
       "New Mexico         2392\n",
       "Idaho              1273\n",
       "Louisiana          1270\n",
       "Hawaii             1223\n",
       "Wisconsin           310\n",
       "Nebraska            289\n",
       "Indiana             212\n",
       "Virginia             93\n",
       "Montana              10\n",
       "Name: State, dtype: int64"
      ]
     },
     "execution_count": 121,
     "metadata": {},
     "output_type": "execute_result"
    }
   ],
   "source": [
    "# airlines_final_df['State'] value counts\n",
    "airlines_final_df['State'].value_counts()"
   ]
  },
  {
   "cell_type": "code",
   "execution_count": 122,
   "id": "f779bef1",
   "metadata": {},
   "outputs": [
    {
     "data": {
      "text/plain": [
       "Southwest    159390\n",
       "United        42173\n",
       "American      40206\n",
       "Delta         36238\n",
       "Name: Carrier, dtype: int64"
      ]
     },
     "execution_count": 122,
     "metadata": {},
     "output_type": "execute_result"
    }
   ],
   "source": [
    "# airlines_final_df['Carrier'] value counts\n",
    "airlines_final_df['Carrier'].value_counts()"
   ]
  },
  {
   "cell_type": "code",
   "execution_count": 123,
   "id": "e246ab6c",
   "metadata": {},
   "outputs": [
    {
     "data": {
      "text/plain": [
       "USA                      58141\n",
       "USA                      39506\n",
       "USA                      37883\n",
       "USA                      30719\n",
       "USA                      29776\n",
       "USA                      27196\n",
       "USA                      14273\n",
       "USA                      12708\n",
       "USA                       5899\n",
       "USA                       4674\n",
       "USA                       3678\n",
       "USA                       3659\n",
       "USA                       3238\n",
       "USA                       2941\n",
       "USA                       2493\n",
       "HAWAII                    1223\n",
       "Name: Country, dtype: int64"
      ]
     },
     "execution_count": 123,
     "metadata": {},
     "output_type": "execute_result"
    }
   ],
   "source": [
    "# checks value counts for ['Country']\n",
    "airlines_final_df['Country'].value_counts()\n",
    "# accuracy issue: Hawaii is not a state\n",
    "# all locations are USA, so column can be dropped."
   ]
  },
  {
   "cell_type": "code",
   "execution_count": 124,
   "id": "172ed7df",
   "metadata": {},
   "outputs": [],
   "source": [
    "# drops Country column\n",
    "airlines_final_df = airlines_final_df.drop(columns = {'Country'})\n",
    "\n",
    "\n"
   ]
  },
  {
   "cell_type": "code",
   "execution_count": 125,
   "id": "1957fb5e",
   "metadata": {},
   "outputs": [
    {
     "data": {
      "text/html": [
       "<div>\n",
       "<style scoped>\n",
       "    .dataframe tbody tr th:only-of-type {\n",
       "        vertical-align: middle;\n",
       "    }\n",
       "\n",
       "    .dataframe tbody tr th {\n",
       "        vertical-align: top;\n",
       "    }\n",
       "\n",
       "    .dataframe thead th {\n",
       "        text-align: right;\n",
       "    }\n",
       "</style>\n",
       "<table border=\"1\" class=\"dataframe\">\n",
       "  <thead>\n",
       "    <tr style=\"text-align: right;\">\n",
       "      <th></th>\n",
       "      <th>Carrier</th>\n",
       "      <th>Date (MM/DD/YYYY)</th>\n",
       "      <th>Flight Number</th>\n",
       "      <th>Tail Number</th>\n",
       "      <th>Destination Airport</th>\n",
       "      <th>Scheduled Departure Time</th>\n",
       "      <th>Actual Departure Time</th>\n",
       "      <th>Scheduled Elapsed Time (Minutes)</th>\n",
       "      <th>Actual Elapsed Time (Minutes)</th>\n",
       "      <th>Departure Delay (Minutes)</th>\n",
       "      <th>...</th>\n",
       "      <th>Delay National Aviation System (Minutes)</th>\n",
       "      <th>Delay Security (Minutes)</th>\n",
       "      <th>Delay Late Aircraft Arrival (Minutes)</th>\n",
       "      <th>City</th>\n",
       "      <th>State</th>\n",
       "      <th>Flight Month</th>\n",
       "      <th>Flight Day</th>\n",
       "      <th>Flight Year</th>\n",
       "      <th>Known Total Delay (Minutes)</th>\n",
       "      <th>Unaccounted Delay Time</th>\n",
       "    </tr>\n",
       "  </thead>\n",
       "  <tbody>\n",
       "    <tr>\n",
       "      <th>0</th>\n",
       "      <td>Delta</td>\n",
       "      <td>1/1/17</td>\n",
       "      <td>50.0</td>\n",
       "      <td>N385DN</td>\n",
       "      <td>SLC</td>\n",
       "      <td>16:45:00</td>\n",
       "      <td>16:49:00</td>\n",
       "      <td>119.0</td>\n",
       "      <td>108.0</td>\n",
       "      <td>4.0</td>\n",
       "      <td>...</td>\n",
       "      <td>0.0</td>\n",
       "      <td>0.0</td>\n",
       "      <td>0.0</td>\n",
       "      <td>Salt Lake City</td>\n",
       "      <td>Utah</td>\n",
       "      <td>January</td>\n",
       "      <td>1</td>\n",
       "      <td>2017</td>\n",
       "      <td>0.0</td>\n",
       "      <td>-4.0</td>\n",
       "    </tr>\n",
       "    <tr>\n",
       "      <th>1</th>\n",
       "      <td>Delta</td>\n",
       "      <td>1/1/17</td>\n",
       "      <td>106.0</td>\n",
       "      <td>N313US</td>\n",
       "      <td>SLC</td>\n",
       "      <td>13:05:00</td>\n",
       "      <td>13:01:00</td>\n",
       "      <td>117.0</td>\n",
       "      <td>116.0</td>\n",
       "      <td>-4.0</td>\n",
       "      <td>...</td>\n",
       "      <td>0.0</td>\n",
       "      <td>0.0</td>\n",
       "      <td>0.0</td>\n",
       "      <td>Salt Lake City</td>\n",
       "      <td>Utah</td>\n",
       "      <td>January</td>\n",
       "      <td>1</td>\n",
       "      <td>2017</td>\n",
       "      <td>0.0</td>\n",
       "      <td>4.0</td>\n",
       "    </tr>\n",
       "    <tr>\n",
       "      <th>2</th>\n",
       "      <td>Delta</td>\n",
       "      <td>1/1/17</td>\n",
       "      <td>798.0</td>\n",
       "      <td>N848DN</td>\n",
       "      <td>SLC</td>\n",
       "      <td>06:15:00</td>\n",
       "      <td>06:38:00</td>\n",
       "      <td>125.0</td>\n",
       "      <td>126.0</td>\n",
       "      <td>23.0</td>\n",
       "      <td>...</td>\n",
       "      <td>1.0</td>\n",
       "      <td>0.0</td>\n",
       "      <td>0.0</td>\n",
       "      <td>Salt Lake City</td>\n",
       "      <td>Utah</td>\n",
       "      <td>January</td>\n",
       "      <td>1</td>\n",
       "      <td>2017</td>\n",
       "      <td>24.0</td>\n",
       "      <td>1.0</td>\n",
       "    </tr>\n",
       "    <tr>\n",
       "      <th>3</th>\n",
       "      <td>Delta</td>\n",
       "      <td>1/1/17</td>\n",
       "      <td>2536.0</td>\n",
       "      <td>N317NB</td>\n",
       "      <td>SLC</td>\n",
       "      <td>11:20:00</td>\n",
       "      <td>12:10:00</td>\n",
       "      <td>123.0</td>\n",
       "      <td>107.0</td>\n",
       "      <td>50.0</td>\n",
       "      <td>...</td>\n",
       "      <td>0.0</td>\n",
       "      <td>0.0</td>\n",
       "      <td>32.0</td>\n",
       "      <td>Salt Lake City</td>\n",
       "      <td>Utah</td>\n",
       "      <td>January</td>\n",
       "      <td>1</td>\n",
       "      <td>2017</td>\n",
       "      <td>34.0</td>\n",
       "      <td>-16.0</td>\n",
       "    </tr>\n",
       "    <tr>\n",
       "      <th>4</th>\n",
       "      <td>Delta</td>\n",
       "      <td>1/1/18</td>\n",
       "      <td>50.0</td>\n",
       "      <td>N960DN</td>\n",
       "      <td>SLC</td>\n",
       "      <td>16:40:00</td>\n",
       "      <td>19:00:00</td>\n",
       "      <td>120.0</td>\n",
       "      <td>112.0</td>\n",
       "      <td>140.0</td>\n",
       "      <td>...</td>\n",
       "      <td>0.0</td>\n",
       "      <td>0.0</td>\n",
       "      <td>129.0</td>\n",
       "      <td>Salt Lake City</td>\n",
       "      <td>Utah</td>\n",
       "      <td>January</td>\n",
       "      <td>1</td>\n",
       "      <td>2018</td>\n",
       "      <td>132.0</td>\n",
       "      <td>-8.0</td>\n",
       "    </tr>\n",
       "  </tbody>\n",
       "</table>\n",
       "<p>5 rows × 23 columns</p>\n",
       "</div>"
      ],
      "text/plain": [
       "  Carrier Date (MM/DD/YYYY) Flight Number Tail Number Destination Airport  \\\n",
       "0   Delta            1/1/17          50.0      N385DN                 SLC   \n",
       "1   Delta            1/1/17         106.0      N313US                 SLC   \n",
       "2   Delta            1/1/17         798.0      N848DN                 SLC   \n",
       "3   Delta            1/1/17        2536.0      N317NB                 SLC   \n",
       "4   Delta            1/1/18          50.0      N960DN                 SLC   \n",
       "\n",
       "  Scheduled Departure Time Actual Departure Time  \\\n",
       "0                 16:45:00              16:49:00   \n",
       "1                 13:05:00              13:01:00   \n",
       "2                 06:15:00              06:38:00   \n",
       "3                 11:20:00              12:10:00   \n",
       "4                 16:40:00              19:00:00   \n",
       "\n",
       "   Scheduled Elapsed Time (Minutes)  Actual Elapsed Time (Minutes)  \\\n",
       "0                             119.0                          108.0   \n",
       "1                             117.0                          116.0   \n",
       "2                             125.0                          126.0   \n",
       "3                             123.0                          107.0   \n",
       "4                             120.0                          112.0   \n",
       "\n",
       "   Departure Delay (Minutes)  ...  Delay National Aviation System (Minutes)  \\\n",
       "0                        4.0  ...                                       0.0   \n",
       "1                       -4.0  ...                                       0.0   \n",
       "2                       23.0  ...                                       1.0   \n",
       "3                       50.0  ...                                       0.0   \n",
       "4                      140.0  ...                                       0.0   \n",
       "\n",
       "   Delay Security (Minutes)  Delay Late Aircraft Arrival (Minutes)  \\\n",
       "0                       0.0                                    0.0   \n",
       "1                       0.0                                    0.0   \n",
       "2                       0.0                                    0.0   \n",
       "3                       0.0                                   32.0   \n",
       "4                       0.0                                  129.0   \n",
       "\n",
       "             City  State  Flight Month Flight Day Flight Year  \\\n",
       "0  Salt Lake City   Utah       January          1        2017   \n",
       "1  Salt Lake City   Utah       January          1        2017   \n",
       "2  Salt Lake City   Utah       January          1        2017   \n",
       "3  Salt Lake City   Utah       January          1        2017   \n",
       "4  Salt Lake City   Utah       January          1        2018   \n",
       "\n",
       "  Known Total Delay (Minutes) Unaccounted Delay Time  \n",
       "0                         0.0                   -4.0  \n",
       "1                         0.0                    4.0  \n",
       "2                        24.0                    1.0  \n",
       "3                        34.0                  -16.0  \n",
       "4                       132.0                   -8.0  \n",
       "\n",
       "[5 rows x 23 columns]"
      ]
     },
     "execution_count": 125,
     "metadata": {},
     "output_type": "execute_result"
    }
   ],
   "source": [
    "# checks new output\n",
    "airlines_final_df.head()"
   ]
  },
  {
   "cell_type": "code",
   "execution_count": 126,
   "id": "f7ee9c7e",
   "metadata": {},
   "outputs": [
    {
     "data": {
      "text/plain": [
       "(278007, 23)"
      ]
     },
     "execution_count": 126,
     "metadata": {},
     "output_type": "execute_result"
    }
   ],
   "source": [
    "# checks shape \n",
    "airlines_final_df.shape"
   ]
  },
  {
   "cell_type": "markdown",
   "id": "79fc9072",
   "metadata": {},
   "source": [
    "# difference in departure time (expected vs real)`"
   ]
  },
  {
   "cell_type": "code",
   "execution_count": 127,
   "id": "5233f59b",
   "metadata": {},
   "outputs": [],
   "source": [
    "# creates variable for the Actual Departure Time & Date\n",
    "airlines_final_df['Actual Departure Date & Time'] =(airlines_final_df['Date (MM/DD/YYYY)']) + ' ' +(airlines_final_df['Actual Departure Time'].astype(str))"
   ]
  },
  {
   "cell_type": "code",
   "execution_count": 128,
   "id": "e59cdccf",
   "metadata": {},
   "outputs": [],
   "source": [
    "# creates variable for the Actual Departure Time & Date\n",
    "airlines_final_df['Scheduled Departure Date & Time'] =(airlines_final_df['Date (MM/DD/YYYY)']) + ' ' +(airlines_final_df['Scheduled Departure Time'].astype(str))"
   ]
  },
  {
   "cell_type": "code",
   "execution_count": 129,
   "id": "e5e3ed8d",
   "metadata": {},
   "outputs": [],
   "source": [
    "# converts Actual Departure Date & Time to datetime and creates a new object for it.\n",
    "actual_dep_datetime = pd.to_datetime(airlines_final_df['Actual Departure Date & Time'], format = '%m/%d/%y %H:%M:%S')"
   ]
  },
  {
   "cell_type": "code",
   "execution_count": 130,
   "id": "5810f02f",
   "metadata": {},
   "outputs": [],
   "source": [
    "# converts Scheduled Departure Date & Time to datetime and creates a new object for it.\n",
    "scheduled_dep_datetime = pd.to_datetime(airlines_final_df['Scheduled Departure Date & Time'], format = '%m/%d/%y %H:%M:%S')"
   ]
  },
  {
   "cell_type": "code",
   "execution_count": 131,
   "id": "aeb5f1d7",
   "metadata": {},
   "outputs": [],
   "source": [
    "# creates columns for the Difference in Actual & Expected Departure Time\n",
    "airlines_final_df['Difference in Actual & Expected Departure Time'] = actual_dep_datetime-scheduled_dep_datetime"
   ]
  },
  {
   "cell_type": "code",
   "execution_count": 132,
   "id": "b85d2d7c",
   "metadata": {},
   "outputs": [
    {
     "data": {
      "text/plain": [
       "0     0 days 00:04:00\n",
       "1   -1 days +23:56:00\n",
       "2     0 days 00:23:00\n",
       "3     0 days 00:50:00\n",
       "4     0 days 02:20:00\n",
       "Name: Difference in Actual & Expected Departure Time, dtype: timedelta64[ns]"
      ]
     },
     "execution_count": 132,
     "metadata": {},
     "output_type": "execute_result"
    }
   ],
   "source": [
    "# outputs the first five rows of airlines_final_df['Difference in Actual & Expected Departure Time']\n",
    "airlines_final_df['Difference in Actual & Expected Departure Time'].head()"
   ]
  },
  {
   "cell_type": "markdown",
   "id": "38efd238",
   "metadata": {},
   "source": [
    "# difference in time in air (expected vs real)`"
   ]
  },
  {
   "cell_type": "code",
   "execution_count": 133,
   "id": "ab6e8351",
   "metadata": {},
   "outputs": [],
   "source": [
    "# creates variable for the Difference in Actual & Expected Air Time\n",
    "airlines_final_df['Difference in Actual & Expected Air Time'] =airlines_final_df['Scheduled Elapsed Time (Minutes)'] - airlines_final_df['Actual Elapsed Time (Minutes)']"
   ]
  },
  {
   "cell_type": "markdown",
   "id": "6f15c151",
   "metadata": {},
   "source": [
    "# Normalized Data"
   ]
  },
  {
   "cell_type": "code",
   "execution_count": 134,
   "id": "64a290e1",
   "metadata": {},
   "outputs": [
    {
     "data": {
      "text/plain": [
       "Carrier\n",
       "American      434469.0\n",
       "Delta         231787.0\n",
       "Southwest    1241658.0\n",
       "United        427991.0\n",
       "Name: Known Total Delay (Minutes), dtype: float64"
      ]
     },
     "execution_count": 134,
     "metadata": {},
     "output_type": "execute_result"
    }
   ],
   "source": [
    "# outputs total delay in minutes for each carrier\n",
    "airlines_final_df.groupby('Carrier')['Known Total Delay (Minutes)'].sum()"
   ]
  },
  {
   "cell_type": "code",
   "execution_count": 135,
   "id": "1cf153e3",
   "metadata": {},
   "outputs": [],
   "source": [
    "# normalizes delays for Southwest\n",
    "airlines_final_df.loc[airlines_final_df['Carrier']=='Southwest', ['Delay Carrier (%)']]= (airlines_final_df['Delay Carrier (Minutes)']/1241658)\n",
    "airlines_final_df.loc[airlines_final_df['Carrier']=='Southwest', ['Delay Weather (%)']]= (airlines_final_df['Delay Weather (Minutes)']/1241658)\n",
    "airlines_final_df.loc[airlines_final_df['Carrier']=='Southwest', ['Delay National Aviation System (%)']]= (airlines_final_df['Delay National Aviation System (Minutes)']/1241658)\n",
    "airlines_final_df.loc[airlines_final_df['Carrier']=='Southwest', ['Delay Security (%)']]= (airlines_final_df['Delay Security (Minutes)']/1241658)\n",
    "airlines_final_df.loc[airlines_final_df['Carrier']=='Southwest', ['Delay Late Aircraft Arrival (%)']]= (airlines_final_df['Delay Late Aircraft Arrival (Minutes)']/1241658)"
   ]
  },
  {
   "cell_type": "code",
   "execution_count": 136,
   "id": "83a19ed6",
   "metadata": {},
   "outputs": [],
   "source": [
    "# normalizes delays for United\n",
    "airlines_final_df.loc[airlines_final_df['Carrier']=='United', ['Delay Carrier (%)']]= (airlines_final_df['Delay Carrier (Minutes)']/427991)\n",
    "airlines_final_df.loc[airlines_final_df['Carrier']=='United', ['Delay Weather (%)']]= (airlines_final_df['Delay Weather (Minutes)']/427991)\n",
    "airlines_final_df.loc[airlines_final_df['Carrier']=='United', ['Delay National Aviation System (%)']]= (airlines_final_df['Delay National Aviation System (Minutes)']/427991)\n",
    "airlines_final_df.loc[airlines_final_df['Carrier']=='United', ['Delay Security (%)']]= (airlines_final_df['Delay Security (Minutes)']/427991)\n",
    "airlines_final_df.loc[airlines_final_df['Carrier']=='United', ['Delay Late Aircraft Arrival (%)']]= (airlines_final_df['Delay Late Aircraft Arrival (Minutes)']/427991)"
   ]
  },
  {
   "cell_type": "code",
   "execution_count": 137,
   "id": "705b275d",
   "metadata": {},
   "outputs": [],
   "source": [
    "# normalizes delays for American\n",
    "airlines_final_df.loc[airlines_final_df['Carrier']=='American', ['Delay Carrier (%)']]= (airlines_final_df['Delay Carrier (Minutes)']/434469)\n",
    "airlines_final_df.loc[airlines_final_df['Carrier']=='American', ['Delay Weather (%)']]= (airlines_final_df['Delay Weather (Minutes)']/434469)\n",
    "airlines_final_df.loc[airlines_final_df['Carrier']=='American', ['Delay National Aviation System (%)']]= (airlines_final_df['Delay National Aviation System (Minutes)']/434469)\n",
    "airlines_final_df.loc[airlines_final_df['Carrier']=='American', ['Delay Security (%)']]= (airlines_final_df['Delay Security (Minutes)']/434469)\n",
    "airlines_final_df.loc[airlines_final_df['Carrier']=='American', ['Delay Late Aircraft Arrival (%)']]= (airlines_final_df['Delay Late Aircraft Arrival (Minutes)']/434469)"
   ]
  },
  {
   "cell_type": "code",
   "execution_count": 138,
   "id": "ce54e8ec",
   "metadata": {},
   "outputs": [],
   "source": [
    "# normalizes delays for Delta\n",
    "airlines_final_df.loc[airlines_final_df['Carrier']=='Delta', ['Delay Carrier (%)']]= (airlines_final_df['Delay Carrier (Minutes)']/231787)\n",
    "airlines_final_df.loc[airlines_final_df['Carrier']=='Delta', ['Delay Weather (%)']]= (airlines_final_df['Delay Weather (Minutes)']/231787)\n",
    "airlines_final_df.loc[airlines_final_df['Carrier']=='Delta', ['Delay National Aviation System (%)']]= (airlines_final_df['Delay National Aviation System (Minutes)']/231787)\n",
    "airlines_final_df.loc[airlines_final_df['Carrier']=='Delta', ['Delay Security (%)']]= (airlines_final_df['Delay Security (Minutes)']/231787)\n",
    "airlines_final_df.loc[airlines_final_df['Carrier']=='Delta', ['Delay Late Aircraft Arrival (%)']]= (airlines_final_df['Delay Late Aircraft Arrival (Minutes)']/231787)"
   ]
  },
  {
   "cell_type": "code",
   "execution_count": 139,
   "id": "93570a04",
   "metadata": {},
   "outputs": [],
   "source": [
    "test = airlines_final_df.loc[airlines_final_df['Carrier']=='Delta']"
   ]
  },
  {
   "cell_type": "code",
   "execution_count": 140,
   "id": "e7b1011b",
   "metadata": {},
   "outputs": [
    {
     "data": {
      "text/plain": [
       "0         0.000000\n",
       "1         0.000000\n",
       "2         0.000635\n",
       "3         0.000055\n",
       "4         0.000083\n",
       "            ...   \n",
       "278002    0.000000\n",
       "278003    0.000000\n",
       "278004    0.000000\n",
       "278005    0.000000\n",
       "278006    0.000000\n",
       "Name: Delay Carrier (Minutes), Length: 278007, dtype: float64"
      ]
     },
     "execution_count": 140,
     "metadata": {},
     "output_type": "execute_result"
    }
   ],
   "source": [
    "(airlines_final_df['Delay Carrier (Minutes)']/36238)"
   ]
  },
  {
   "cell_type": "markdown",
   "id": "22e7db3f",
   "metadata": {},
   "source": [
    "# quick check for duplicates and null values"
   ]
  },
  {
   "cell_type": "code",
   "execution_count": 141,
   "id": "1dc0123a",
   "metadata": {},
   "outputs": [
    {
     "data": {
      "text/plain": [
       "Carrier                                           0\n",
       "Date (MM/DD/YYYY)                                 0\n",
       "Flight Number                                     0\n",
       "Tail Number                                       0\n",
       "Destination Airport                               0\n",
       "Scheduled Departure Time                          0\n",
       "Actual Departure Time                             0\n",
       "Scheduled Elapsed Time (Minutes)                  0\n",
       "Actual Elapsed Time (Minutes)                     0\n",
       "Departure Delay (Minutes)                         0\n",
       "Taxi-Out Time (Minutes)                           0\n",
       "Delay Carrier (Minutes)                           0\n",
       "Delay Weather (Minutes)                           0\n",
       "Delay National Aviation System (Minutes)          0\n",
       "Delay Security (Minutes)                          0\n",
       "Delay Late Aircraft Arrival (Minutes)             0\n",
       "City                                              0\n",
       "State                                             0\n",
       "Flight Month                                      0\n",
       "Flight Day                                        0\n",
       "Flight Year                                       0\n",
       "Known Total Delay (Minutes)                       0\n",
       "Unaccounted Delay Time                            0\n",
       "Actual Departure Date & Time                      0\n",
       "Scheduled Departure Date & Time                   0\n",
       "Difference in Actual & Expected Departure Time    0\n",
       "Difference in Actual & Expected Air Time          0\n",
       "Delay Carrier (%)                                 0\n",
       "Delay Weather (%)                                 0\n",
       "Delay National Aviation System (%)                0\n",
       "Delay Security (%)                                0\n",
       "Delay Late Aircraft Arrival (%)                   0\n",
       "dtype: int64"
      ]
     },
     "execution_count": 141,
     "metadata": {},
     "output_type": "execute_result"
    }
   ],
   "source": [
    "# Check for null values\n",
    "airlines_final_df.isnull().sum()"
   ]
  },
  {
   "cell_type": "code",
   "execution_count": 142,
   "id": "054c74a3",
   "metadata": {},
   "outputs": [
    {
     "data": {
      "text/html": [
       "<div>\n",
       "<style scoped>\n",
       "    .dataframe tbody tr th:only-of-type {\n",
       "        vertical-align: middle;\n",
       "    }\n",
       "\n",
       "    .dataframe tbody tr th {\n",
       "        vertical-align: top;\n",
       "    }\n",
       "\n",
       "    .dataframe thead th {\n",
       "        text-align: right;\n",
       "    }\n",
       "</style>\n",
       "<table border=\"1\" class=\"dataframe\">\n",
       "  <thead>\n",
       "    <tr style=\"text-align: right;\">\n",
       "      <th></th>\n",
       "      <th>Carrier</th>\n",
       "      <th>Date (MM/DD/YYYY)</th>\n",
       "      <th>Flight Number</th>\n",
       "      <th>Tail Number</th>\n",
       "      <th>Destination Airport</th>\n",
       "      <th>Scheduled Departure Time</th>\n",
       "      <th>Actual Departure Time</th>\n",
       "      <th>Scheduled Elapsed Time (Minutes)</th>\n",
       "      <th>Actual Elapsed Time (Minutes)</th>\n",
       "      <th>Departure Delay (Minutes)</th>\n",
       "      <th>...</th>\n",
       "      <th>Unaccounted Delay Time</th>\n",
       "      <th>Actual Departure Date &amp; Time</th>\n",
       "      <th>Scheduled Departure Date &amp; Time</th>\n",
       "      <th>Difference in Actual &amp; Expected Departure Time</th>\n",
       "      <th>Difference in Actual &amp; Expected Air Time</th>\n",
       "      <th>Delay Carrier (%)</th>\n",
       "      <th>Delay Weather (%)</th>\n",
       "      <th>Delay National Aviation System (%)</th>\n",
       "      <th>Delay Security (%)</th>\n",
       "      <th>Delay Late Aircraft Arrival (%)</th>\n",
       "    </tr>\n",
       "  </thead>\n",
       "  <tbody>\n",
       "  </tbody>\n",
       "</table>\n",
       "<p>0 rows × 32 columns</p>\n",
       "</div>"
      ],
      "text/plain": [
       "Empty DataFrame\n",
       "Columns: [Carrier, Date (MM/DD/YYYY), Flight Number, Tail Number, Destination Airport, Scheduled Departure Time, Actual Departure Time, Scheduled Elapsed Time (Minutes), Actual Elapsed Time (Minutes), Departure Delay (Minutes), Taxi-Out Time (Minutes), Delay Carrier (Minutes), Delay Weather (Minutes), Delay National Aviation System (Minutes), Delay Security (Minutes), Delay Late Aircraft Arrival (Minutes), City, State, Flight Month, Flight Day, Flight Year, Known Total Delay (Minutes), Unaccounted Delay Time, Actual Departure Date & Time, Scheduled Departure Date & Time, Difference in Actual & Expected Departure Time, Difference in Actual & Expected Air Time, Delay Carrier (%), Delay Weather (%), Delay National Aviation System (%), Delay Security (%), Delay Late Aircraft Arrival (%)]\n",
       "Index: []\n",
       "\n",
       "[0 rows x 32 columns]"
      ]
     },
     "execution_count": 142,
     "metadata": {},
     "output_type": "execute_result"
    }
   ],
   "source": [
    "# check for duplicates\n",
    "airlines_final_df[airlines_final_df.duplicated()]\n",
    "# no duplicates"
   ]
  },
  {
   "cell_type": "markdown",
   "id": "a3205002",
   "metadata": {},
   "source": [
    "# Delay?"
   ]
  },
  {
   "cell_type": "code",
   "execution_count": 143,
   "id": "9ead9151",
   "metadata": {},
   "outputs": [],
   "source": [
    "#creates variable for minutes delayed\n",
    "airlines_final_df.loc[airlines_final_df['Known Total Delay (Minutes)']>0, ['Delay?']]='Yes'\n",
    "airlines_final_df.loc[airlines_final_df['Known Total Delay (Minutes)']<=0, ['Delay?']]='No'\n",
    "\n"
   ]
  },
  {
   "cell_type": "code",
   "execution_count": 144,
   "id": "184b399b",
   "metadata": {},
   "outputs": [
    {
     "data": {
      "text/plain": [
       "No     237555\n",
       "Yes     40452\n",
       "Name: Delay?, dtype: int64"
      ]
     },
     "execution_count": 144,
     "metadata": {},
     "output_type": "execute_result"
    }
   ],
   "source": [
    "airlines_final_df['Delay?'].value_counts()"
   ]
  },
  {
   "cell_type": "code",
   "execution_count": 145,
   "id": "b0a2eeba",
   "metadata": {},
   "outputs": [],
   "source": [
    "# export dataframe"
   ]
  },
  {
   "cell_type": "code",
   "execution_count": 146,
   "id": "fa7fd904",
   "metadata": {},
   "outputs": [],
   "source": [
    "# exports dataframe\n",
    "airlines_final_df.to_csv(os.path.join(path, 'Prepared Data', 'airlines_final_df_new_variables.csv'))"
   ]
  },
  {
   "cell_type": "code",
   "execution_count": null,
   "id": "461654e8",
   "metadata": {},
   "outputs": [],
   "source": []
  },
  {
   "cell_type": "code",
   "execution_count": null,
   "id": "11c873fe",
   "metadata": {},
   "outputs": [],
   "source": []
  },
  {
   "cell_type": "code",
   "execution_count": null,
   "id": "74015885",
   "metadata": {},
   "outputs": [],
   "source": []
  },
  {
   "cell_type": "code",
   "execution_count": null,
   "id": "608e836d",
   "metadata": {},
   "outputs": [],
   "source": []
  },
  {
   "cell_type": "code",
   "execution_count": null,
   "id": "60ef5f1a",
   "metadata": {},
   "outputs": [],
   "source": []
  }
 ],
 "metadata": {
  "kernelspec": {
   "display_name": "Python 3 (ipykernel)",
   "language": "python",
   "name": "python3"
  },
  "language_info": {
   "codemirror_mode": {
    "name": "ipython",
    "version": 3
   },
   "file_extension": ".py",
   "mimetype": "text/x-python",
   "name": "python",
   "nbconvert_exporter": "python",
   "pygments_lexer": "ipython3",
   "version": "3.9.7"
  }
 },
 "nbformat": 4,
 "nbformat_minor": 5
}
