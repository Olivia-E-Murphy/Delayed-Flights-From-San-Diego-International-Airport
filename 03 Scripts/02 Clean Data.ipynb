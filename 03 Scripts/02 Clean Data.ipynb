{
 "cells": [
  {
   "cell_type": "markdown",
   "id": "0ad3a8e3",
   "metadata": {},
   "source": [
    "# 1. Import Libraries & Data"
   ]
  },
  {
   "cell_type": "code",
   "execution_count": 80,
   "id": "8afb09f7",
   "metadata": {},
   "outputs": [],
   "source": [
    "# import libraries\n",
    "import numpy as np\n",
    "import pandas as pd\n",
    "import os\n",
    "import datetime"
   ]
  },
  {
   "cell_type": "code",
   "execution_count": 81,
   "id": "1bfb40b3",
   "metadata": {},
   "outputs": [],
   "source": [
    "# import data\n",
    "path = r'/Users/oliviamurphy/Desktop/Airlines Project/02 Data'\n",
    "delta_df = pd.read_csv(os.path.join(path, 'Prepared Data', 'delta_df_wrangled.csv'), index_col = [0])\n",
    "american_df = pd.read_csv(os.path.join(path, 'Prepared Data', 'american_df_wrangled.csv'), index_col = [0])\n",
    "united_df = pd.read_csv(os.path.join(path, 'Prepared Data', 'united_df_wrangled.csv'), index_col = [0])\n",
    "southwest_df = pd.read_csv(os.path.join(path, 'Prepared Data', 'southwest_df_wrangled.csv'), index_col = [0])\n",
    "airport_codes_df = pd.read_csv(os.path.join(path, 'Prepared Data', 'airport_codes_df_wrangled.csv'), index_col = [0])\n",
    "\n"
   ]
  },
  {
   "cell_type": "markdown",
   "id": "572ac1cb",
   "metadata": {},
   "source": [
    "# 2. Convert mixed datatypes"
   ]
  },
  {
   "cell_type": "code",
   "execution_count": 83,
   "id": "4e38307b",
   "metadata": {},
   "outputs": [],
   "source": [
    "# converts mixed type columns to str \n",
    "delta_df['Carrier'] = delta_df['Carrier'].astype(str)\n",
    "delta_df['Date (MM/DD/YYYY)'] = delta_df['Date (MM/DD/YYYY)'].astype(str)\n",
    "delta_df['Tail Number'] = delta_df['Tail Number'].astype(str)\n",
    "delta_df['Destination Airport'] = delta_df['Destination Airport'].astype(str)\n",
    "american_df['Carrier'] = american_df['Carrier'].astype(str)\n",
    "american_df['Date (MM/DD/YYYY)'] = american_df['Date (MM/DD/YYYY)'].astype(str)\n",
    "american_df['Tail Number'] = american_df['Tail Number'].astype(str)\n",
    "american_df['Destination Airport'] = american_df['Destination Airport'].astype(str)\n",
    "united_df['Carrier'] = united_df['Carrier'].astype(str)\n",
    "united_df['Date (MM/DD/YYYY)'] = united_df['Date (MM/DD/YYYY)'].astype(str)\n",
    "united_df['Tail Number'] = united_df['Tail Number'].astype(str)\n",
    "united_df['Destination Airport'] = united_df['Destination Airport'].astype(str)\n",
    "southwest_df['Carrier'] = southwest_df['Carrier'].astype(str)\n",
    "southwest_df['Date (MM/DD/YYYY)'] = southwest_df['Date (MM/DD/YYYY)']\n",
    "southwest_df['Tail Number'] = southwest_df['Tail Number'].astype(str)\n",
    "southwest_df['Destination Airport'] = southwest_df['Destination Airport'].astype(str)\n",
    "delta_df['Flight Number'] = delta_df['Flight Number'].astype(str)\n",
    "american_df['Flight Number'] = american_df['Flight Number'].astype(str)\n",
    "united_df['Flight Number'] = united_df['Flight Number'].astype(str)\n",
    "southwest_df['Flight Number'] = southwest_df['Flight Number'].astype(str)\n",
    "\n",
    "# converts mixed type columns to time\n",
    "delta_df['Actual Departure Time'] = pd.to_datetime(delta_df['Actual Departure Time'], format = '%H:%M:%S').dt.time\n",
    "delta_df['Scheduled Departure Time'] = pd.to_datetime(delta_df['Scheduled Departure Time'], format = '%H:%M:%S').dt.time\n",
    "united_df['Actual Departure Time'] = pd.to_datetime(united_df['Actual Departure Time'], format = '%H:%M:%S').dt.time\n",
    "united_df['Scheduled Departure Time'] = pd.to_datetime(united_df['Scheduled Departure Time'], format = '%H:%M:%S').dt.time\n",
    "american_df['Actual Departure Time'] = pd.to_datetime(american_df['Actual Departure Time'], format = '%H:%M:%S').dt.time\n",
    "american_df['Scheduled Departure Time'] = pd.to_datetime(american_df['Scheduled Departure Time'], format = '%H:%M:%S').dt.time\n",
    "southwest_df['Actual Departure Time'] = pd.to_datetime(southwest_df['Actual Departure Time'], format = '%H:%M:%S').dt.time\n",
    "southwest_df['Scheduled Departure Time'] = pd.to_datetime(southwest_df['Scheduled Departure Time'], format = '%H:%M:%S').dt.time"
   ]
  },
  {
   "cell_type": "markdown",
   "id": "fe2fffe2",
   "metadata": {},
   "source": [
    "# 3. Check for missing values"
   ]
  },
  {
   "cell_type": "markdown",
   "id": "3240c1b1",
   "metadata": {},
   "source": [
    "## airport_codes_df"
   ]
  },
  {
   "cell_type": "code",
   "execution_count": 85,
   "id": "67399490",
   "metadata": {},
   "outputs": [
    {
     "data": {
      "text/plain": [
       "Airport Code     0\n",
       "Full Location    0\n",
       "dtype: int64"
      ]
     },
     "execution_count": 85,
     "metadata": {},
     "output_type": "execute_result"
    }
   ],
   "source": [
    "#checks for missing values in airport_codes_df\n",
    "airport_codes_df.isnull().sum()\n",
    "# no null values"
   ]
  },
  {
   "cell_type": "markdown",
   "id": "2eb432b7",
   "metadata": {},
   "source": [
    "## delta_df "
   ]
  },
  {
   "cell_type": "code",
   "execution_count": 86,
   "id": "fbe0f41e",
   "metadata": {},
   "outputs": [
    {
     "data": {
      "text/plain": [
       "Carrier                                     0\n",
       "Date (MM/DD/YYYY)                           0\n",
       "Flight Number                               0\n",
       "Tail Number                                 0\n",
       "Destination Airport                         0\n",
       "Scheduled Departure Time                    2\n",
       "Actual Departure Time                       2\n",
       "Scheduled Elapsed Time (Minutes)            2\n",
       "Actual Elapsed Time (Minutes)               2\n",
       "Departure Delay (Minutes)                   2\n",
       "Taxi-Out Time (Minutes)                     2\n",
       "Delay Carrier (Minutes)                     2\n",
       "Delay Weather (Minutes)                     2\n",
       "Delay National Aviation System (Minutes)    2\n",
       "Delay Security (Minutes)                    2\n",
       "Delay Late Aircraft Arrival (Minutes)       2\n",
       "dtype: int64"
      ]
     },
     "execution_count": 86,
     "metadata": {},
     "output_type": "execute_result"
    }
   ],
   "source": [
    "#checks for missing values in delta_df\n",
    "delta_df.isnull().sum()\n",
    "# missing values make up less than 5% of dataset. Choosing to drop missing values."
   ]
  },
  {
   "cell_type": "code",
   "execution_count": 87,
   "id": "a74e923b",
   "metadata": {},
   "outputs": [],
   "source": [
    "# drops missing values from delta_df\n",
    "delta_df = delta_df.dropna()"
   ]
  },
  {
   "cell_type": "code",
   "execution_count": 88,
   "id": "e8f56604",
   "metadata": {},
   "outputs": [
    {
     "data": {
      "text/plain": [
       "(36238, 16)"
      ]
     },
     "execution_count": 88,
     "metadata": {},
     "output_type": "execute_result"
    }
   ],
   "source": [
    "delta_df.shape"
   ]
  },
  {
   "cell_type": "markdown",
   "id": "50b088a9",
   "metadata": {},
   "source": [
    "## american_df "
   ]
  },
  {
   "cell_type": "code",
   "execution_count": 89,
   "id": "11ecfe85",
   "metadata": {},
   "outputs": [
    {
     "data": {
      "text/plain": [
       "Carrier                                     0\n",
       "Date (MM/DD/YYYY)                           0\n",
       "Flight Number                               0\n",
       "Tail Number                                 0\n",
       "Destination Airport                         0\n",
       "Scheduled Departure Time                    2\n",
       "Actual Departure Time                       2\n",
       "Scheduled Elapsed Time (Minutes)            2\n",
       "Actual Elapsed Time (Minutes)               2\n",
       "Departure Delay (Minutes)                   2\n",
       "Taxi-Out Time (Minutes)                     2\n",
       "Delay Carrier (Minutes)                     2\n",
       "Delay Weather (Minutes)                     2\n",
       "Delay National Aviation System (Minutes)    2\n",
       "Delay Security (Minutes)                    2\n",
       "Delay Late Aircraft Arrival (Minutes)       2\n",
       "dtype: int64"
      ]
     },
     "execution_count": 89,
     "metadata": {},
     "output_type": "execute_result"
    }
   ],
   "source": [
    "#checks for missing values in american_df\n",
    "american_df.isnull().sum()\n",
    "# missing values make up less than 5% of dataset. Choosing to drop missing values."
   ]
  },
  {
   "cell_type": "code",
   "execution_count": 90,
   "id": "a5a0ed87",
   "metadata": {},
   "outputs": [],
   "source": [
    "# drops missing values from american_df \n",
    "american_df = american_df.dropna()"
   ]
  },
  {
   "cell_type": "markdown",
   "id": "9b755123",
   "metadata": {},
   "source": [
    "## united_df"
   ]
  },
  {
   "cell_type": "code",
   "execution_count": 91,
   "id": "d4209d59",
   "metadata": {},
   "outputs": [
    {
     "data": {
      "text/plain": [
       "Carrier                                     0\n",
       "Date (MM/DD/YYYY)                           0\n",
       "Flight Number                               0\n",
       "Tail Number                                 0\n",
       "Destination Airport                         0\n",
       "Scheduled Departure Time                    2\n",
       "Actual Departure Time                       2\n",
       "Scheduled Elapsed Time (Minutes)            2\n",
       "Actual Elapsed Time (Minutes)               2\n",
       "Departure Delay (Minutes)                   2\n",
       "Taxi-Out Time (Minutes)                     2\n",
       "Delay Carrier (Minutes)                     2\n",
       "Delay Weather (Minutes)                     2\n",
       "Delay National Aviation System (Minutes)    2\n",
       "Delay Security (Minutes)                    2\n",
       "Delay Late Aircraft Arrival (Minutes)       2\n",
       "dtype: int64"
      ]
     },
     "execution_count": 91,
     "metadata": {},
     "output_type": "execute_result"
    }
   ],
   "source": [
    "#checks for missing values in united_df\n",
    "united_df.isnull().sum()\n",
    "# missing values make up less than 5% of dataset. Choosing to drop missing values."
   ]
  },
  {
   "cell_type": "code",
   "execution_count": 92,
   "id": "1dd8919d",
   "metadata": {},
   "outputs": [],
   "source": [
    "# drops missing values from united_df \n",
    "united_df = united_df.dropna()"
   ]
  },
  {
   "cell_type": "markdown",
   "id": "78f513f2",
   "metadata": {},
   "source": [
    "## southwest_df"
   ]
  },
  {
   "cell_type": "code",
   "execution_count": 93,
   "id": "6970f97d",
   "metadata": {},
   "outputs": [
    {
     "data": {
      "text/plain": [
       "Carrier                                     0\n",
       "Date (MM/DD/YYYY)                           2\n",
       "Flight Number                               0\n",
       "Tail Number                                 0\n",
       "Destination Airport                         0\n",
       "Scheduled Departure Time                    2\n",
       "Actual Departure Time                       2\n",
       "Scheduled Elapsed Time (Minutes)            2\n",
       "Actual Elapsed Time (Minutes)               2\n",
       "Departure Delay (Minutes)                   2\n",
       "Taxi-Out Time (Minutes)                     2\n",
       "Delay Carrier (Minutes)                     2\n",
       "Delay Weather (Minutes)                     2\n",
       "Delay National Aviation System (Minutes)    2\n",
       "Delay Security (Minutes)                    2\n",
       "Delay Late Aircraft Arrival (Minutes)       2\n",
       "dtype: int64"
      ]
     },
     "execution_count": 93,
     "metadata": {},
     "output_type": "execute_result"
    }
   ],
   "source": [
    "#checks for missing values in southwest_df\n",
    "southwest_df.isnull().sum()\n",
    "# missing values make up less than 5% of dataset. Choosing to drop missing values."
   ]
  },
  {
   "cell_type": "code",
   "execution_count": 94,
   "id": "ac1a2c9d",
   "metadata": {},
   "outputs": [],
   "source": [
    "# drops missing values from southwest_df\n",
    "southwest_df = southwest_df.dropna()"
   ]
  },
  {
   "cell_type": "markdown",
   "id": "1a4a84cf",
   "metadata": {},
   "source": [
    "# 4. Duplicates"
   ]
  },
  {
   "cell_type": "markdown",
   "id": "72d3300f",
   "metadata": {},
   "source": [
    "## airport_codes_df "
   ]
  },
  {
   "cell_type": "code",
   "execution_count": 95,
   "id": "0ffcc939",
   "metadata": {},
   "outputs": [
    {
     "data": {
      "text/html": [
       "<div>\n",
       "<style scoped>\n",
       "    .dataframe tbody tr th:only-of-type {\n",
       "        vertical-align: middle;\n",
       "    }\n",
       "\n",
       "    .dataframe tbody tr th {\n",
       "        vertical-align: top;\n",
       "    }\n",
       "\n",
       "    .dataframe thead th {\n",
       "        text-align: right;\n",
       "    }\n",
       "</style>\n",
       "<table border=\"1\" class=\"dataframe\">\n",
       "  <thead>\n",
       "    <tr style=\"text-align: right;\">\n",
       "      <th></th>\n",
       "      <th>Airport Code</th>\n",
       "      <th>Full Location</th>\n",
       "    </tr>\n",
       "  </thead>\n",
       "  <tbody>\n",
       "  </tbody>\n",
       "</table>\n",
       "</div>"
      ],
      "text/plain": [
       "Empty DataFrame\n",
       "Columns: [Airport Code, Full Location]\n",
       "Index: []"
      ]
     },
     "execution_count": 95,
     "metadata": {},
     "output_type": "execute_result"
    }
   ],
   "source": [
    "# checks for full duplicates in airport_codes_df\n",
    "airport_codes_df[airport_codes_df.duplicated()]\n",
    "# no duplicates"
   ]
  },
  {
   "cell_type": "code",
   "execution_count": 96,
   "id": "24892011",
   "metadata": {},
   "outputs": [],
   "source": [
    "## delta_df"
   ]
  },
  {
   "cell_type": "code",
   "execution_count": 97,
   "id": "939315ec",
   "metadata": {},
   "outputs": [
    {
     "data": {
      "text/html": [
       "<div>\n",
       "<style scoped>\n",
       "    .dataframe tbody tr th:only-of-type {\n",
       "        vertical-align: middle;\n",
       "    }\n",
       "\n",
       "    .dataframe tbody tr th {\n",
       "        vertical-align: top;\n",
       "    }\n",
       "\n",
       "    .dataframe thead th {\n",
       "        text-align: right;\n",
       "    }\n",
       "</style>\n",
       "<table border=\"1\" class=\"dataframe\">\n",
       "  <thead>\n",
       "    <tr style=\"text-align: right;\">\n",
       "      <th></th>\n",
       "      <th>Carrier</th>\n",
       "      <th>Date (MM/DD/YYYY)</th>\n",
       "      <th>Flight Number</th>\n",
       "      <th>Tail Number</th>\n",
       "      <th>Destination Airport</th>\n",
       "      <th>Scheduled Departure Time</th>\n",
       "      <th>Actual Departure Time</th>\n",
       "      <th>Scheduled Elapsed Time (Minutes)</th>\n",
       "      <th>Actual Elapsed Time (Minutes)</th>\n",
       "      <th>Departure Delay (Minutes)</th>\n",
       "      <th>Taxi-Out Time (Minutes)</th>\n",
       "      <th>Delay Carrier (Minutes)</th>\n",
       "      <th>Delay Weather (Minutes)</th>\n",
       "      <th>Delay National Aviation System (Minutes)</th>\n",
       "      <th>Delay Security (Minutes)</th>\n",
       "      <th>Delay Late Aircraft Arrival (Minutes)</th>\n",
       "    </tr>\n",
       "  </thead>\n",
       "  <tbody>\n",
       "  </tbody>\n",
       "</table>\n",
       "</div>"
      ],
      "text/plain": [
       "Empty DataFrame\n",
       "Columns: [Carrier, Date (MM/DD/YYYY), Flight Number, Tail Number, Destination Airport, Scheduled Departure Time, Actual Departure Time, Scheduled Elapsed Time (Minutes), Actual Elapsed Time (Minutes), Departure Delay (Minutes), Taxi-Out Time (Minutes), Delay Carrier (Minutes), Delay Weather (Minutes), Delay National Aviation System (Minutes), Delay Security (Minutes), Delay Late Aircraft Arrival (Minutes)]\n",
       "Index: []"
      ]
     },
     "execution_count": 97,
     "metadata": {},
     "output_type": "execute_result"
    }
   ],
   "source": [
    "# checks for full duplicates in delta_df \n",
    "delta_df[delta_df.duplicated()]\n",
    "# no duplicates"
   ]
  },
  {
   "cell_type": "markdown",
   "id": "db880304",
   "metadata": {},
   "source": [
    "## american_df"
   ]
  },
  {
   "cell_type": "code",
   "execution_count": 98,
   "id": "8b3de22d",
   "metadata": {},
   "outputs": [
    {
     "data": {
      "text/html": [
       "<div>\n",
       "<style scoped>\n",
       "    .dataframe tbody tr th:only-of-type {\n",
       "        vertical-align: middle;\n",
       "    }\n",
       "\n",
       "    .dataframe tbody tr th {\n",
       "        vertical-align: top;\n",
       "    }\n",
       "\n",
       "    .dataframe thead th {\n",
       "        text-align: right;\n",
       "    }\n",
       "</style>\n",
       "<table border=\"1\" class=\"dataframe\">\n",
       "  <thead>\n",
       "    <tr style=\"text-align: right;\">\n",
       "      <th></th>\n",
       "      <th>Carrier</th>\n",
       "      <th>Date (MM/DD/YYYY)</th>\n",
       "      <th>Flight Number</th>\n",
       "      <th>Tail Number</th>\n",
       "      <th>Destination Airport</th>\n",
       "      <th>Scheduled Departure Time</th>\n",
       "      <th>Actual Departure Time</th>\n",
       "      <th>Scheduled Elapsed Time (Minutes)</th>\n",
       "      <th>Actual Elapsed Time (Minutes)</th>\n",
       "      <th>Departure Delay (Minutes)</th>\n",
       "      <th>Taxi-Out Time (Minutes)</th>\n",
       "      <th>Delay Carrier (Minutes)</th>\n",
       "      <th>Delay Weather (Minutes)</th>\n",
       "      <th>Delay National Aviation System (Minutes)</th>\n",
       "      <th>Delay Security (Minutes)</th>\n",
       "      <th>Delay Late Aircraft Arrival (Minutes)</th>\n",
       "    </tr>\n",
       "  </thead>\n",
       "  <tbody>\n",
       "  </tbody>\n",
       "</table>\n",
       "</div>"
      ],
      "text/plain": [
       "Empty DataFrame\n",
       "Columns: [Carrier, Date (MM/DD/YYYY), Flight Number, Tail Number, Destination Airport, Scheduled Departure Time, Actual Departure Time, Scheduled Elapsed Time (Minutes), Actual Elapsed Time (Minutes), Departure Delay (Minutes), Taxi-Out Time (Minutes), Delay Carrier (Minutes), Delay Weather (Minutes), Delay National Aviation System (Minutes), Delay Security (Minutes), Delay Late Aircraft Arrival (Minutes)]\n",
       "Index: []"
      ]
     },
     "execution_count": 98,
     "metadata": {},
     "output_type": "execute_result"
    }
   ],
   "source": [
    "# checks for full duplicates in american_df \n",
    "american_df[american_df.duplicated()]\n",
    "# no duplicates"
   ]
  },
  {
   "cell_type": "markdown",
   "id": "5d4a3e3a",
   "metadata": {},
   "source": [
    "## united_df"
   ]
  },
  {
   "cell_type": "code",
   "execution_count": 99,
   "id": "34906e79",
   "metadata": {},
   "outputs": [
    {
     "data": {
      "text/html": [
       "<div>\n",
       "<style scoped>\n",
       "    .dataframe tbody tr th:only-of-type {\n",
       "        vertical-align: middle;\n",
       "    }\n",
       "\n",
       "    .dataframe tbody tr th {\n",
       "        vertical-align: top;\n",
       "    }\n",
       "\n",
       "    .dataframe thead th {\n",
       "        text-align: right;\n",
       "    }\n",
       "</style>\n",
       "<table border=\"1\" class=\"dataframe\">\n",
       "  <thead>\n",
       "    <tr style=\"text-align: right;\">\n",
       "      <th></th>\n",
       "      <th>Carrier</th>\n",
       "      <th>Date (MM/DD/YYYY)</th>\n",
       "      <th>Flight Number</th>\n",
       "      <th>Tail Number</th>\n",
       "      <th>Destination Airport</th>\n",
       "      <th>Scheduled Departure Time</th>\n",
       "      <th>Actual Departure Time</th>\n",
       "      <th>Scheduled Elapsed Time (Minutes)</th>\n",
       "      <th>Actual Elapsed Time (Minutes)</th>\n",
       "      <th>Departure Delay (Minutes)</th>\n",
       "      <th>Taxi-Out Time (Minutes)</th>\n",
       "      <th>Delay Carrier (Minutes)</th>\n",
       "      <th>Delay Weather (Minutes)</th>\n",
       "      <th>Delay National Aviation System (Minutes)</th>\n",
       "      <th>Delay Security (Minutes)</th>\n",
       "      <th>Delay Late Aircraft Arrival (Minutes)</th>\n",
       "    </tr>\n",
       "  </thead>\n",
       "  <tbody>\n",
       "  </tbody>\n",
       "</table>\n",
       "</div>"
      ],
      "text/plain": [
       "Empty DataFrame\n",
       "Columns: [Carrier, Date (MM/DD/YYYY), Flight Number, Tail Number, Destination Airport, Scheduled Departure Time, Actual Departure Time, Scheduled Elapsed Time (Minutes), Actual Elapsed Time (Minutes), Departure Delay (Minutes), Taxi-Out Time (Minutes), Delay Carrier (Minutes), Delay Weather (Minutes), Delay National Aviation System (Minutes), Delay Security (Minutes), Delay Late Aircraft Arrival (Minutes)]\n",
       "Index: []"
      ]
     },
     "execution_count": 99,
     "metadata": {},
     "output_type": "execute_result"
    }
   ],
   "source": [
    "# checks for full duplicates in united_df \n",
    "united_df[united_df.duplicated()]\n",
    "#no duplicates"
   ]
  },
  {
   "cell_type": "markdown",
   "id": "9cc0798d",
   "metadata": {},
   "source": [
    "## southwest_df"
   ]
  },
  {
   "cell_type": "code",
   "execution_count": 100,
   "id": "dab4b193",
   "metadata": {},
   "outputs": [
    {
     "data": {
      "text/html": [
       "<div>\n",
       "<style scoped>\n",
       "    .dataframe tbody tr th:only-of-type {\n",
       "        vertical-align: middle;\n",
       "    }\n",
       "\n",
       "    .dataframe tbody tr th {\n",
       "        vertical-align: top;\n",
       "    }\n",
       "\n",
       "    .dataframe thead th {\n",
       "        text-align: right;\n",
       "    }\n",
       "</style>\n",
       "<table border=\"1\" class=\"dataframe\">\n",
       "  <thead>\n",
       "    <tr style=\"text-align: right;\">\n",
       "      <th></th>\n",
       "      <th>Carrier</th>\n",
       "      <th>Date (MM/DD/YYYY)</th>\n",
       "      <th>Flight Number</th>\n",
       "      <th>Tail Number</th>\n",
       "      <th>Destination Airport</th>\n",
       "      <th>Scheduled Departure Time</th>\n",
       "      <th>Actual Departure Time</th>\n",
       "      <th>Scheduled Elapsed Time (Minutes)</th>\n",
       "      <th>Actual Elapsed Time (Minutes)</th>\n",
       "      <th>Departure Delay (Minutes)</th>\n",
       "      <th>Taxi-Out Time (Minutes)</th>\n",
       "      <th>Delay Carrier (Minutes)</th>\n",
       "      <th>Delay Weather (Minutes)</th>\n",
       "      <th>Delay National Aviation System (Minutes)</th>\n",
       "      <th>Delay Security (Minutes)</th>\n",
       "      <th>Delay Late Aircraft Arrival (Minutes)</th>\n",
       "    </tr>\n",
       "  </thead>\n",
       "  <tbody>\n",
       "  </tbody>\n",
       "</table>\n",
       "</div>"
      ],
      "text/plain": [
       "Empty DataFrame\n",
       "Columns: [Carrier, Date (MM/DD/YYYY), Flight Number, Tail Number, Destination Airport, Scheduled Departure Time, Actual Departure Time, Scheduled Elapsed Time (Minutes), Actual Elapsed Time (Minutes), Departure Delay (Minutes), Taxi-Out Time (Minutes), Delay Carrier (Minutes), Delay Weather (Minutes), Delay National Aviation System (Minutes), Delay Security (Minutes), Delay Late Aircraft Arrival (Minutes)]\n",
       "Index: []"
      ]
     },
     "execution_count": 100,
     "metadata": {},
     "output_type": "execute_result"
    }
   ],
   "source": [
    "# checks for full duplicates in southwest_df \n",
    "southwest_df[southwest_df.duplicated()]\n",
    "# no duplicates"
   ]
  },
  {
   "cell_type": "markdown",
   "id": "d6f34854",
   "metadata": {},
   "source": [
    "# 5. Accuracy Checks"
   ]
  },
  {
   "cell_type": "markdown",
   "id": "1d6e6f4b",
   "metadata": {},
   "source": [
    "## Descriptive stats (accuracy check)"
   ]
  },
  {
   "cell_type": "markdown",
   "id": "4bbe005f",
   "metadata": {},
   "source": [
    "### airport_codes_df"
   ]
  },
  {
   "cell_type": "code",
   "execution_count": 101,
   "id": "38e83942",
   "metadata": {},
   "outputs": [
    {
     "data": {
      "text/html": [
       "<div>\n",
       "<style scoped>\n",
       "    .dataframe tbody tr th:only-of-type {\n",
       "        vertical-align: middle;\n",
       "    }\n",
       "\n",
       "    .dataframe tbody tr th {\n",
       "        vertical-align: top;\n",
       "    }\n",
       "\n",
       "    .dataframe thead th {\n",
       "        text-align: right;\n",
       "    }\n",
       "</style>\n",
       "<table border=\"1\" class=\"dataframe\">\n",
       "  <thead>\n",
       "    <tr style=\"text-align: right;\">\n",
       "      <th></th>\n",
       "      <th>Airport Code</th>\n",
       "      <th>Full Location</th>\n",
       "    </tr>\n",
       "  </thead>\n",
       "  <tbody>\n",
       "    <tr>\n",
       "      <th>count</th>\n",
       "      <td>9235</td>\n",
       "      <td>9235</td>\n",
       "    </tr>\n",
       "    <tr>\n",
       "      <th>unique</th>\n",
       "      <td>9235</td>\n",
       "      <td>8927</td>\n",
       "    </tr>\n",
       "    <tr>\n",
       "      <th>top</th>\n",
       "      <td>AAC</td>\n",
       "      <td>HOUSTON, TEXAS, USA</td>\n",
       "    </tr>\n",
       "    <tr>\n",
       "      <th>freq</th>\n",
       "      <td>1</td>\n",
       "      <td>13</td>\n",
       "    </tr>\n",
       "  </tbody>\n",
       "</table>\n",
       "</div>"
      ],
      "text/plain": [
       "       Airport Code                        Full Location\n",
       "count          9235                                 9235\n",
       "unique         9235                                 8927\n",
       "top             AAC  HOUSTON, TEXAS, USA                \n",
       "freq              1                                   13"
      ]
     },
     "execution_count": 101,
     "metadata": {},
     "output_type": "execute_result"
    }
   ],
   "source": [
    "# descriptive stats for airport_codes_df\n",
    "airport_codes_df.describe()\n",
    "## no need to pull value counts at this point - too many unique"
   ]
  },
  {
   "cell_type": "markdown",
   "id": "1746910b",
   "metadata": {},
   "source": [
    "### delta_df (numerical data)"
   ]
  },
  {
   "cell_type": "code",
   "execution_count": 102,
   "id": "3f6d2781",
   "metadata": {},
   "outputs": [
    {
     "name": "stdout",
     "output_type": "stream",
     "text": [
      "<class 'pandas.core.frame.DataFrame'>\n",
      "Int64Index: 36238 entries, 0 to 36237\n",
      "Data columns (total 16 columns):\n",
      " #   Column                                    Non-Null Count  Dtype  \n",
      "---  ------                                    --------------  -----  \n",
      " 0   Carrier                                   36238 non-null  object \n",
      " 1   Date (MM/DD/YYYY)                         36238 non-null  object \n",
      " 2   Flight Number                             36238 non-null  object \n",
      " 3   Tail Number                               36238 non-null  object \n",
      " 4   Destination Airport                       36238 non-null  object \n",
      " 5   Scheduled Departure Time                  36238 non-null  object \n",
      " 6   Actual Departure Time                     36238 non-null  object \n",
      " 7   Scheduled Elapsed Time (Minutes)          36238 non-null  float64\n",
      " 8   Actual Elapsed Time (Minutes)             36238 non-null  float64\n",
      " 9   Departure Delay (Minutes)                 36238 non-null  float64\n",
      " 10  Taxi-Out Time (Minutes)                   36238 non-null  float64\n",
      " 11  Delay Carrier (Minutes)                   36238 non-null  float64\n",
      " 12  Delay Weather (Minutes)                   36238 non-null  float64\n",
      " 13  Delay National Aviation System (Minutes)  36238 non-null  float64\n",
      " 14  Delay Security (Minutes)                  36238 non-null  float64\n",
      " 15  Delay Late Aircraft Arrival (Minutes)     36238 non-null  float64\n",
      "dtypes: float64(9), object(7)\n",
      "memory usage: 4.7+ MB\n"
     ]
    }
   ],
   "source": [
    "delta_df.info()"
   ]
  },
  {
   "cell_type": "code",
   "execution_count": 103,
   "id": "ef137a70",
   "metadata": {},
   "outputs": [
    {
     "data": {
      "text/html": [
       "<div>\n",
       "<style scoped>\n",
       "    .dataframe tbody tr th:only-of-type {\n",
       "        vertical-align: middle;\n",
       "    }\n",
       "\n",
       "    .dataframe tbody tr th {\n",
       "        vertical-align: top;\n",
       "    }\n",
       "\n",
       "    .dataframe thead th {\n",
       "        text-align: right;\n",
       "    }\n",
       "</style>\n",
       "<table border=\"1\" class=\"dataframe\">\n",
       "  <thead>\n",
       "    <tr style=\"text-align: right;\">\n",
       "      <th></th>\n",
       "      <th>Scheduled Elapsed Time (Minutes)</th>\n",
       "      <th>Actual Elapsed Time (Minutes)</th>\n",
       "      <th>Departure Delay (Minutes)</th>\n",
       "      <th>Taxi-Out Time (Minutes)</th>\n",
       "      <th>Delay Carrier (Minutes)</th>\n",
       "      <th>Delay Weather (Minutes)</th>\n",
       "      <th>Delay National Aviation System (Minutes)</th>\n",
       "      <th>Delay Security (Minutes)</th>\n",
       "      <th>Delay Late Aircraft Arrival (Minutes)</th>\n",
       "    </tr>\n",
       "  </thead>\n",
       "  <tbody>\n",
       "    <tr>\n",
       "      <th>count</th>\n",
       "      <td>36238.000000</td>\n",
       "      <td>36238.000000</td>\n",
       "      <td>36238.000000</td>\n",
       "      <td>36238.000000</td>\n",
       "      <td>36238.000000</td>\n",
       "      <td>36238.000000</td>\n",
       "      <td>36238.000000</td>\n",
       "      <td>36238.000000</td>\n",
       "      <td>36238.000000</td>\n",
       "    </tr>\n",
       "    <tr>\n",
       "      <th>mean</th>\n",
       "      <td>211.756581</td>\n",
       "      <td>201.688449</td>\n",
       "      <td>4.455682</td>\n",
       "      <td>17.865997</td>\n",
       "      <td>2.401623</td>\n",
       "      <td>0.187510</td>\n",
       "      <td>1.670208</td>\n",
       "      <td>0.008030</td>\n",
       "      <td>2.128870</td>\n",
       "    </tr>\n",
       "    <tr>\n",
       "      <th>std</th>\n",
       "      <td>70.489574</td>\n",
       "      <td>71.815832</td>\n",
       "      <td>39.797311</td>\n",
       "      <td>6.733752</td>\n",
       "      <td>29.518657</td>\n",
       "      <td>8.413111</td>\n",
       "      <td>12.662873</td>\n",
       "      <td>0.652384</td>\n",
       "      <td>17.475143</td>\n",
       "    </tr>\n",
       "    <tr>\n",
       "      <th>min</th>\n",
       "      <td>49.000000</td>\n",
       "      <td>0.000000</td>\n",
       "      <td>-24.000000</td>\n",
       "      <td>0.000000</td>\n",
       "      <td>0.000000</td>\n",
       "      <td>0.000000</td>\n",
       "      <td>0.000000</td>\n",
       "      <td>0.000000</td>\n",
       "      <td>0.000000</td>\n",
       "    </tr>\n",
       "    <tr>\n",
       "      <th>25%</th>\n",
       "      <td>127.000000</td>\n",
       "      <td>127.000000</td>\n",
       "      <td>-5.000000</td>\n",
       "      <td>14.000000</td>\n",
       "      <td>0.000000</td>\n",
       "      <td>0.000000</td>\n",
       "      <td>0.000000</td>\n",
       "      <td>0.000000</td>\n",
       "      <td>0.000000</td>\n",
       "    </tr>\n",
       "    <tr>\n",
       "      <th>50%</th>\n",
       "      <td>221.000000</td>\n",
       "      <td>213.000000</td>\n",
       "      <td>-2.000000</td>\n",
       "      <td>16.000000</td>\n",
       "      <td>0.000000</td>\n",
       "      <td>0.000000</td>\n",
       "      <td>0.000000</td>\n",
       "      <td>0.000000</td>\n",
       "      <td>0.000000</td>\n",
       "    </tr>\n",
       "    <tr>\n",
       "      <th>75%</th>\n",
       "      <td>259.000000</td>\n",
       "      <td>251.000000</td>\n",
       "      <td>1.000000</td>\n",
       "      <td>21.000000</td>\n",
       "      <td>0.000000</td>\n",
       "      <td>0.000000</td>\n",
       "      <td>0.000000</td>\n",
       "      <td>0.000000</td>\n",
       "      <td>0.000000</td>\n",
       "    </tr>\n",
       "    <tr>\n",
       "      <th>max</th>\n",
       "      <td>348.000000</td>\n",
       "      <td>588.000000</td>\n",
       "      <td>1197.000000</td>\n",
       "      <td>113.000000</td>\n",
       "      <td>1191.000000</td>\n",
       "      <td>1086.000000</td>\n",
       "      <td>798.000000</td>\n",
       "      <td>78.000000</td>\n",
       "      <td>978.000000</td>\n",
       "    </tr>\n",
       "  </tbody>\n",
       "</table>\n",
       "</div>"
      ],
      "text/plain": [
       "       Scheduled Elapsed Time (Minutes)  Actual Elapsed Time (Minutes)  \\\n",
       "count                      36238.000000                   36238.000000   \n",
       "mean                         211.756581                     201.688449   \n",
       "std                           70.489574                      71.815832   \n",
       "min                           49.000000                       0.000000   \n",
       "25%                          127.000000                     127.000000   \n",
       "50%                          221.000000                     213.000000   \n",
       "75%                          259.000000                     251.000000   \n",
       "max                          348.000000                     588.000000   \n",
       "\n",
       "       Departure Delay (Minutes)  Taxi-Out Time (Minutes)  \\\n",
       "count               36238.000000             36238.000000   \n",
       "mean                    4.455682                17.865997   \n",
       "std                    39.797311                 6.733752   \n",
       "min                   -24.000000                 0.000000   \n",
       "25%                    -5.000000                14.000000   \n",
       "50%                    -2.000000                16.000000   \n",
       "75%                     1.000000                21.000000   \n",
       "max                  1197.000000               113.000000   \n",
       "\n",
       "       Delay Carrier (Minutes)  Delay Weather (Minutes)  \\\n",
       "count             36238.000000             36238.000000   \n",
       "mean                  2.401623                 0.187510   \n",
       "std                  29.518657                 8.413111   \n",
       "min                   0.000000                 0.000000   \n",
       "25%                   0.000000                 0.000000   \n",
       "50%                   0.000000                 0.000000   \n",
       "75%                   0.000000                 0.000000   \n",
       "max                1191.000000              1086.000000   \n",
       "\n",
       "       Delay National Aviation System (Minutes)  Delay Security (Minutes)  \\\n",
       "count                              36238.000000              36238.000000   \n",
       "mean                                   1.670208                  0.008030   \n",
       "std                                   12.662873                  0.652384   \n",
       "min                                    0.000000                  0.000000   \n",
       "25%                                    0.000000                  0.000000   \n",
       "50%                                    0.000000                  0.000000   \n",
       "75%                                    0.000000                  0.000000   \n",
       "max                                  798.000000                 78.000000   \n",
       "\n",
       "       Delay Late Aircraft Arrival (Minutes)  \n",
       "count                           36238.000000  \n",
       "mean                                2.128870  \n",
       "std                                17.475143  \n",
       "min                                 0.000000  \n",
       "25%                                 0.000000  \n",
       "50%                                 0.000000  \n",
       "75%                                 0.000000  \n",
       "max                               978.000000  "
      ]
     },
     "execution_count": 103,
     "metadata": {},
     "output_type": "execute_result"
    }
   ],
   "source": [
    "# descriptive stats for delta_df\n",
    "delta_df.describe()\n",
    "# negative numbers could mean the flight left early? "
   ]
  },
  {
   "cell_type": "markdown",
   "id": "a9d89f53",
   "metadata": {},
   "source": [
    "### delta_df (categorical data)"
   ]
  },
  {
   "cell_type": "code",
   "execution_count": 104,
   "id": "efe4555d",
   "metadata": {},
   "outputs": [
    {
     "data": {
      "text/plain": [
       "DL    36238\n",
       "Name: Carrier, dtype: int64"
      ]
     },
     "execution_count": 104,
     "metadata": {},
     "output_type": "execute_result"
    }
   ],
   "source": [
    "# returns counts for delta_df['Carrier Code']\n",
    "delta_df['Carrier'].value_counts()"
   ]
  },
  {
   "cell_type": "code",
   "execution_count": 105,
   "id": "f062bdbb",
   "metadata": {},
   "outputs": [],
   "source": [
    "# replaces abbreviated airline name with full airline name\n",
    "delta_df['Carrier'] = delta_df['Carrier'].replace('DL', 'Delta')"
   ]
  },
  {
   "cell_type": "code",
   "execution_count": 106,
   "id": "e7203361",
   "metadata": {},
   "outputs": [
    {
     "data": {
      "text/html": [
       "<div>\n",
       "<style scoped>\n",
       "    .dataframe tbody tr th:only-of-type {\n",
       "        vertical-align: middle;\n",
       "    }\n",
       "\n",
       "    .dataframe tbody tr th {\n",
       "        vertical-align: top;\n",
       "    }\n",
       "\n",
       "    .dataframe thead th {\n",
       "        text-align: right;\n",
       "    }\n",
       "</style>\n",
       "<table border=\"1\" class=\"dataframe\">\n",
       "  <thead>\n",
       "    <tr style=\"text-align: right;\">\n",
       "      <th></th>\n",
       "      <th>Carrier</th>\n",
       "      <th>Date (MM/DD/YYYY)</th>\n",
       "      <th>Flight Number</th>\n",
       "      <th>Tail Number</th>\n",
       "      <th>Destination Airport</th>\n",
       "      <th>Scheduled Departure Time</th>\n",
       "      <th>Actual Departure Time</th>\n",
       "      <th>Scheduled Elapsed Time (Minutes)</th>\n",
       "      <th>Actual Elapsed Time (Minutes)</th>\n",
       "      <th>Departure Delay (Minutes)</th>\n",
       "      <th>Taxi-Out Time (Minutes)</th>\n",
       "      <th>Delay Carrier (Minutes)</th>\n",
       "      <th>Delay Weather (Minutes)</th>\n",
       "      <th>Delay National Aviation System (Minutes)</th>\n",
       "      <th>Delay Security (Minutes)</th>\n",
       "      <th>Delay Late Aircraft Arrival (Minutes)</th>\n",
       "    </tr>\n",
       "  </thead>\n",
       "  <tbody>\n",
       "    <tr>\n",
       "      <th>0</th>\n",
       "      <td>Delta</td>\n",
       "      <td>1/1/17</td>\n",
       "      <td>50.0</td>\n",
       "      <td>N385DN</td>\n",
       "      <td>SLC</td>\n",
       "      <td>16:45:00</td>\n",
       "      <td>16:49:00</td>\n",
       "      <td>119.0</td>\n",
       "      <td>108.0</td>\n",
       "      <td>4.0</td>\n",
       "      <td>15.0</td>\n",
       "      <td>0.0</td>\n",
       "      <td>0.0</td>\n",
       "      <td>0.0</td>\n",
       "      <td>0.0</td>\n",
       "      <td>0.0</td>\n",
       "    </tr>\n",
       "    <tr>\n",
       "      <th>1</th>\n",
       "      <td>Delta</td>\n",
       "      <td>1/1/17</td>\n",
       "      <td>106.0</td>\n",
       "      <td>N313US</td>\n",
       "      <td>SLC</td>\n",
       "      <td>13:05:00</td>\n",
       "      <td>13:01:00</td>\n",
       "      <td>117.0</td>\n",
       "      <td>116.0</td>\n",
       "      <td>-4.0</td>\n",
       "      <td>20.0</td>\n",
       "      <td>0.0</td>\n",
       "      <td>0.0</td>\n",
       "      <td>0.0</td>\n",
       "      <td>0.0</td>\n",
       "      <td>0.0</td>\n",
       "    </tr>\n",
       "    <tr>\n",
       "      <th>2</th>\n",
       "      <td>Delta</td>\n",
       "      <td>1/1/17</td>\n",
       "      <td>132.0</td>\n",
       "      <td>N588NW</td>\n",
       "      <td>DTW</td>\n",
       "      <td>07:15:00</td>\n",
       "      <td>07:18:00</td>\n",
       "      <td>258.0</td>\n",
       "      <td>247.0</td>\n",
       "      <td>3.0</td>\n",
       "      <td>14.0</td>\n",
       "      <td>0.0</td>\n",
       "      <td>0.0</td>\n",
       "      <td>0.0</td>\n",
       "      <td>0.0</td>\n",
       "      <td>0.0</td>\n",
       "    </tr>\n",
       "    <tr>\n",
       "      <th>3</th>\n",
       "      <td>Delta</td>\n",
       "      <td>1/1/17</td>\n",
       "      <td>798.0</td>\n",
       "      <td>N848DN</td>\n",
       "      <td>SLC</td>\n",
       "      <td>06:15:00</td>\n",
       "      <td>06:38:00</td>\n",
       "      <td>125.0</td>\n",
       "      <td>126.0</td>\n",
       "      <td>23.0</td>\n",
       "      <td>15.0</td>\n",
       "      <td>23.0</td>\n",
       "      <td>0.0</td>\n",
       "      <td>1.0</td>\n",
       "      <td>0.0</td>\n",
       "      <td>0.0</td>\n",
       "    </tr>\n",
       "    <tr>\n",
       "      <th>4</th>\n",
       "      <td>Delta</td>\n",
       "      <td>1/1/17</td>\n",
       "      <td>1592.0</td>\n",
       "      <td>N557NW</td>\n",
       "      <td>ATL</td>\n",
       "      <td>06:30:00</td>\n",
       "      <td>07:00:00</td>\n",
       "      <td>251.0</td>\n",
       "      <td>243.0</td>\n",
       "      <td>30.0</td>\n",
       "      <td>19.0</td>\n",
       "      <td>22.0</td>\n",
       "      <td>0.0</td>\n",
       "      <td>0.0</td>\n",
       "      <td>0.0</td>\n",
       "      <td>0.0</td>\n",
       "    </tr>\n",
       "  </tbody>\n",
       "</table>\n",
       "</div>"
      ],
      "text/plain": [
       "  Carrier Date (MM/DD/YYYY) Flight Number Tail Number Destination Airport  \\\n",
       "0   Delta            1/1/17          50.0      N385DN                 SLC   \n",
       "1   Delta            1/1/17         106.0      N313US                 SLC   \n",
       "2   Delta            1/1/17         132.0      N588NW                 DTW   \n",
       "3   Delta            1/1/17         798.0      N848DN                 SLC   \n",
       "4   Delta            1/1/17        1592.0      N557NW                 ATL   \n",
       "\n",
       "  Scheduled Departure Time Actual Departure Time  \\\n",
       "0                 16:45:00              16:49:00   \n",
       "1                 13:05:00              13:01:00   \n",
       "2                 07:15:00              07:18:00   \n",
       "3                 06:15:00              06:38:00   \n",
       "4                 06:30:00              07:00:00   \n",
       "\n",
       "   Scheduled Elapsed Time (Minutes)  Actual Elapsed Time (Minutes)  \\\n",
       "0                             119.0                          108.0   \n",
       "1                             117.0                          116.0   \n",
       "2                             258.0                          247.0   \n",
       "3                             125.0                          126.0   \n",
       "4                             251.0                          243.0   \n",
       "\n",
       "   Departure Delay (Minutes)  Taxi-Out Time (Minutes)  \\\n",
       "0                        4.0                     15.0   \n",
       "1                       -4.0                     20.0   \n",
       "2                        3.0                     14.0   \n",
       "3                       23.0                     15.0   \n",
       "4                       30.0                     19.0   \n",
       "\n",
       "   Delay Carrier (Minutes)  Delay Weather (Minutes)  \\\n",
       "0                      0.0                      0.0   \n",
       "1                      0.0                      0.0   \n",
       "2                      0.0                      0.0   \n",
       "3                     23.0                      0.0   \n",
       "4                     22.0                      0.0   \n",
       "\n",
       "   Delay National Aviation System (Minutes)  Delay Security (Minutes)  \\\n",
       "0                                       0.0                       0.0   \n",
       "1                                       0.0                       0.0   \n",
       "2                                       0.0                       0.0   \n",
       "3                                       1.0                       0.0   \n",
       "4                                       0.0                       0.0   \n",
       "\n",
       "   Delay Late Aircraft Arrival (Minutes)  \n",
       "0                                    0.0  \n",
       "1                                    0.0  \n",
       "2                                    0.0  \n",
       "3                                    0.0  \n",
       "4                                    0.0  "
      ]
     },
     "execution_count": 106,
     "metadata": {},
     "output_type": "execute_result"
    }
   ],
   "source": [
    "# Checks output of airline name\n",
    "delta_df.head()"
   ]
  },
  {
   "cell_type": "code",
   "execution_count": 107,
   "id": "d27d2047",
   "metadata": {},
   "outputs": [
    {
     "data": {
      "text/plain": [
       "N333DX    151\n",
       "N322DN    149\n",
       "N340DN    144\n",
       "N329DN    144\n",
       "N338DN    144\n",
       "         ... \n",
       "N821DX      1\n",
       "N841MH      1\n",
       "N185DN      1\n",
       "N806NW      1\n",
       "N802NW      1\n",
       "Name: Tail Number, Length: 847, dtype: int64"
      ]
     },
     "execution_count": 107,
     "metadata": {},
     "output_type": "execute_result"
    }
   ],
   "source": [
    "# returns counts for delta_df['Tail Number']\n",
    "delta_df['Tail Number'].value_counts()"
   ]
  },
  {
   "cell_type": "code",
   "execution_count": 108,
   "id": "d02f0e0d",
   "metadata": {},
   "outputs": [],
   "source": [
    "# nan values for delta_df['Tail Number']\n",
    "nan_delta = delta_df[delta_df['Tail Number'] == 'nan']"
   ]
  },
  {
   "cell_type": "code",
   "execution_count": 109,
   "id": "71248efa",
   "metadata": {},
   "outputs": [
    {
     "data": {
      "text/plain": [
       "(47, 16)"
      ]
     },
     "execution_count": 109,
     "metadata": {},
     "output_type": "execute_result"
    }
   ],
   "source": [
    "nan_delta.shape"
   ]
  },
  {
   "cell_type": "code",
   "execution_count": 110,
   "id": "63a2a9a7",
   "metadata": {},
   "outputs": [
    {
     "data": {
      "text/plain": [
       "1592.0    1054\n",
       "2872.0     976\n",
       "1692.0     924\n",
       "1728.0     869\n",
       "2546.0     830\n",
       "          ... \n",
       "300.0        1\n",
       "528.0        1\n",
       "981.0        1\n",
       "1408.0       1\n",
       "1409.0       1\n",
       "Name: Flight Number, Length: 453, dtype: int64"
      ]
     },
     "execution_count": 110,
     "metadata": {},
     "output_type": "execute_result"
    }
   ],
   "source": [
    "delta_df['Flight Number'].value_counts()"
   ]
  },
  {
   "cell_type": "code",
   "execution_count": 111,
   "id": "eaf1caff",
   "metadata": {},
   "outputs": [
    {
     "data": {
      "text/plain": [
       "SLC    8398\n",
       "ATL    8384\n",
       "MSP    5872\n",
       "SEA    4932\n",
       "JFK    4149\n",
       "DTW    3795\n",
       "LAX     706\n",
       "LAS       2\n",
       "Name: Destination Airport, dtype: int64"
      ]
     },
     "execution_count": 111,
     "metadata": {},
     "output_type": "execute_result"
    }
   ],
   "source": [
    "# returns value counts for delta_df['Destination Airport']\n",
    "delta_df['Destination Airport'].value_counts()\n"
   ]
  },
  {
   "cell_type": "markdown",
   "id": "7a717b78",
   "metadata": {},
   "source": [
    "### american_df (numerical data)"
   ]
  },
  {
   "cell_type": "code",
   "execution_count": 112,
   "id": "1657232c",
   "metadata": {},
   "outputs": [
    {
     "data": {
      "text/html": [
       "<div>\n",
       "<style scoped>\n",
       "    .dataframe tbody tr th:only-of-type {\n",
       "        vertical-align: middle;\n",
       "    }\n",
       "\n",
       "    .dataframe tbody tr th {\n",
       "        vertical-align: top;\n",
       "    }\n",
       "\n",
       "    .dataframe thead th {\n",
       "        text-align: right;\n",
       "    }\n",
       "</style>\n",
       "<table border=\"1\" class=\"dataframe\">\n",
       "  <thead>\n",
       "    <tr style=\"text-align: right;\">\n",
       "      <th></th>\n",
       "      <th>Scheduled Elapsed Time (Minutes)</th>\n",
       "      <th>Actual Elapsed Time (Minutes)</th>\n",
       "      <th>Departure Delay (Minutes)</th>\n",
       "      <th>Taxi-Out Time (Minutes)</th>\n",
       "      <th>Delay Carrier (Minutes)</th>\n",
       "      <th>Delay Weather (Minutes)</th>\n",
       "      <th>Delay National Aviation System (Minutes)</th>\n",
       "      <th>Delay Security (Minutes)</th>\n",
       "      <th>Delay Late Aircraft Arrival (Minutes)</th>\n",
       "    </tr>\n",
       "  </thead>\n",
       "  <tbody>\n",
       "    <tr>\n",
       "      <th>count</th>\n",
       "      <td>40206.000000</td>\n",
       "      <td>40206.000000</td>\n",
       "      <td>40206.000000</td>\n",
       "      <td>40206.000000</td>\n",
       "      <td>40206.000000</td>\n",
       "      <td>40206.000000</td>\n",
       "      <td>40206.000000</td>\n",
       "      <td>40206.000000</td>\n",
       "      <td>40206.000000</td>\n",
       "    </tr>\n",
       "    <tr>\n",
       "      <th>mean</th>\n",
       "      <td>205.085186</td>\n",
       "      <td>193.570437</td>\n",
       "      <td>7.867880</td>\n",
       "      <td>18.862259</td>\n",
       "      <td>3.960230</td>\n",
       "      <td>0.295031</td>\n",
       "      <td>2.011366</td>\n",
       "      <td>0.033105</td>\n",
       "      <td>4.506342</td>\n",
       "    </tr>\n",
       "    <tr>\n",
       "      <th>std</th>\n",
       "      <td>76.469202</td>\n",
       "      <td>80.959254</td>\n",
       "      <td>62.772821</td>\n",
       "      <td>7.734355</td>\n",
       "      <td>44.854392</td>\n",
       "      <td>8.862195</td>\n",
       "      <td>12.612458</td>\n",
       "      <td>3.279141</td>\n",
       "      <td>34.588934</td>\n",
       "    </tr>\n",
       "    <tr>\n",
       "      <th>min</th>\n",
       "      <td>70.000000</td>\n",
       "      <td>0.000000</td>\n",
       "      <td>-29.000000</td>\n",
       "      <td>0.000000</td>\n",
       "      <td>0.000000</td>\n",
       "      <td>0.000000</td>\n",
       "      <td>0.000000</td>\n",
       "      <td>0.000000</td>\n",
       "      <td>0.000000</td>\n",
       "    </tr>\n",
       "    <tr>\n",
       "      <th>25%</th>\n",
       "      <td>177.000000</td>\n",
       "      <td>161.000000</td>\n",
       "      <td>-6.000000</td>\n",
       "      <td>14.000000</td>\n",
       "      <td>0.000000</td>\n",
       "      <td>0.000000</td>\n",
       "      <td>0.000000</td>\n",
       "      <td>0.000000</td>\n",
       "      <td>0.000000</td>\n",
       "    </tr>\n",
       "    <tr>\n",
       "      <th>50%</th>\n",
       "      <td>187.000000</td>\n",
       "      <td>184.000000</td>\n",
       "      <td>-4.000000</td>\n",
       "      <td>17.000000</td>\n",
       "      <td>0.000000</td>\n",
       "      <td>0.000000</td>\n",
       "      <td>0.000000</td>\n",
       "      <td>0.000000</td>\n",
       "      <td>0.000000</td>\n",
       "    </tr>\n",
       "    <tr>\n",
       "      <th>75%</th>\n",
       "      <td>275.000000</td>\n",
       "      <td>263.000000</td>\n",
       "      <td>0.000000</td>\n",
       "      <td>22.000000</td>\n",
       "      <td>0.000000</td>\n",
       "      <td>0.000000</td>\n",
       "      <td>0.000000</td>\n",
       "      <td>0.000000</td>\n",
       "      <td>0.000000</td>\n",
       "    </tr>\n",
       "    <tr>\n",
       "      <th>max</th>\n",
       "      <td>345.000000</td>\n",
       "      <td>480.000000</td>\n",
       "      <td>2466.000000</td>\n",
       "      <td>158.000000</td>\n",
       "      <td>2457.000000</td>\n",
       "      <td>1143.000000</td>\n",
       "      <td>548.000000</td>\n",
       "      <td>636.000000</td>\n",
       "      <td>2021.000000</td>\n",
       "    </tr>\n",
       "  </tbody>\n",
       "</table>\n",
       "</div>"
      ],
      "text/plain": [
       "       Scheduled Elapsed Time (Minutes)  Actual Elapsed Time (Minutes)  \\\n",
       "count                      40206.000000                   40206.000000   \n",
       "mean                         205.085186                     193.570437   \n",
       "std                           76.469202                      80.959254   \n",
       "min                           70.000000                       0.000000   \n",
       "25%                          177.000000                     161.000000   \n",
       "50%                          187.000000                     184.000000   \n",
       "75%                          275.000000                     263.000000   \n",
       "max                          345.000000                     480.000000   \n",
       "\n",
       "       Departure Delay (Minutes)  Taxi-Out Time (Minutes)  \\\n",
       "count               40206.000000             40206.000000   \n",
       "mean                    7.867880                18.862259   \n",
       "std                    62.772821                 7.734355   \n",
       "min                   -29.000000                 0.000000   \n",
       "25%                    -6.000000                14.000000   \n",
       "50%                    -4.000000                17.000000   \n",
       "75%                     0.000000                22.000000   \n",
       "max                  2466.000000               158.000000   \n",
       "\n",
       "       Delay Carrier (Minutes)  Delay Weather (Minutes)  \\\n",
       "count             40206.000000             40206.000000   \n",
       "mean                  3.960230                 0.295031   \n",
       "std                  44.854392                 8.862195   \n",
       "min                   0.000000                 0.000000   \n",
       "25%                   0.000000                 0.000000   \n",
       "50%                   0.000000                 0.000000   \n",
       "75%                   0.000000                 0.000000   \n",
       "max                2457.000000              1143.000000   \n",
       "\n",
       "       Delay National Aviation System (Minutes)  Delay Security (Minutes)  \\\n",
       "count                              40206.000000              40206.000000   \n",
       "mean                                   2.011366                  0.033105   \n",
       "std                                   12.612458                  3.279141   \n",
       "min                                    0.000000                  0.000000   \n",
       "25%                                    0.000000                  0.000000   \n",
       "50%                                    0.000000                  0.000000   \n",
       "75%                                    0.000000                  0.000000   \n",
       "max                                  548.000000                636.000000   \n",
       "\n",
       "       Delay Late Aircraft Arrival (Minutes)  \n",
       "count                           40206.000000  \n",
       "mean                                4.506342  \n",
       "std                                34.588934  \n",
       "min                                 0.000000  \n",
       "25%                                 0.000000  \n",
       "50%                                 0.000000  \n",
       "75%                                 0.000000  \n",
       "max                              2021.000000  "
      ]
     },
     "execution_count": 112,
     "metadata": {},
     "output_type": "execute_result"
    }
   ],
   "source": [
    "# descriptive stats for american_df\n",
    "american_df.describe()\n",
    "# negative numbers could mean the flight left early? "
   ]
  },
  {
   "cell_type": "markdown",
   "id": "ba0c80d5",
   "metadata": {},
   "source": [
    "### american_df (categorical data)"
   ]
  },
  {
   "cell_type": "code",
   "execution_count": 113,
   "id": "f4eb7b80",
   "metadata": {},
   "outputs": [
    {
     "data": {
      "text/plain": [
       "AA    40206\n",
       "Name: Carrier, dtype: int64"
      ]
     },
     "execution_count": 113,
     "metadata": {},
     "output_type": "execute_result"
    }
   ],
   "source": [
    "# returns counts for american_df['Carrier']\n",
    "american_df['Carrier'].value_counts()"
   ]
  },
  {
   "cell_type": "code",
   "execution_count": 114,
   "id": "0da328c2",
   "metadata": {},
   "outputs": [],
   "source": [
    "# replaces abbreviated airline name with full airline name\n",
    "american_df['Carrier'] = american_df['Carrier'].replace('AA', 'American')"
   ]
  },
  {
   "cell_type": "code",
   "execution_count": 115,
   "id": "02621296",
   "metadata": {},
   "outputs": [
    {
     "data": {
      "text/plain": [
       "0    American\n",
       "1    American\n",
       "2    American\n",
       "3    American\n",
       "4    American\n",
       "Name: Carrier, dtype: object"
      ]
     },
     "execution_count": 115,
     "metadata": {},
     "output_type": "execute_result"
    }
   ],
   "source": [
    "# Checks output of airline name\n",
    "american_df['Carrier'].head()"
   ]
  },
  {
   "cell_type": "code",
   "execution_count": 116,
   "id": "c5a4eea2",
   "metadata": {},
   "outputs": [
    {
     "data": {
      "text/plain": [
       "N163AA    176\n",
       "N929AA    170\n",
       "N902AA    153\n",
       "N161AA    153\n",
       "N901AA    149\n",
       "         ... \n",
       "N004AA      1\n",
       "N775XF      1\n",
       "N303RG      1\n",
       "N9011P      1\n",
       "N378SC      1\n",
       "Name: Tail Number, Length: 1343, dtype: int64"
      ]
     },
     "execution_count": 116,
     "metadata": {},
     "output_type": "execute_result"
    }
   ],
   "source": [
    "# returns counts for american_df['Tail Number']\n",
    "american_df['Tail Number'].value_counts()"
   ]
  },
  {
   "cell_type": "code",
   "execution_count": 117,
   "id": "d2107ed1",
   "metadata": {},
   "outputs": [],
   "source": [
    "# nan values for american_df['Tail Number']\n",
    "nan_american = american_df[american_df['Tail Number'] == 'nan']"
   ]
  },
  {
   "cell_type": "code",
   "execution_count": 118,
   "id": "288ae24c",
   "metadata": {},
   "outputs": [
    {
     "data": {
      "text/plain": [
       "(81, 16)"
      ]
     },
     "execution_count": 118,
     "metadata": {},
     "output_type": "execute_result"
    }
   ],
   "source": [
    "# prints nan values count\n",
    "nan_american.shape"
   ]
  },
  {
   "cell_type": "code",
   "execution_count": 119,
   "id": "26d894f0",
   "metadata": {},
   "outputs": [
    {
     "data": {
      "text/plain": [
       "639.0     1276\n",
       "2535.0    1199\n",
       "1651.0    1101\n",
       "625.0     1052\n",
       "1209.0     915\n",
       "          ... \n",
       "2303.0       1\n",
       "2304.0       1\n",
       "264.0        1\n",
       "2524.0       1\n",
       "676.0        1\n",
       "Name: Flight Number, Length: 347, dtype: int64"
      ]
     },
     "execution_count": 119,
     "metadata": {},
     "output_type": "execute_result"
    }
   ],
   "source": [
    "# returns counts for american_df['Flight Number']\n",
    "american_df['Flight Number'].value_counts()"
   ]
  },
  {
   "cell_type": "code",
   "execution_count": 120,
   "id": "5836a6ed",
   "metadata": {},
   "outputs": [
    {
     "data": {
      "text/plain": [
       "DFW    14786\n",
       "PHX     8000\n",
       "ORD     5836\n",
       "CLT     5178\n",
       "PHL     3238\n",
       "MIA     1924\n",
       "JFK     1242\n",
       "LAS        2\n",
       "Name: Destination Airport, dtype: int64"
      ]
     },
     "execution_count": 120,
     "metadata": {},
     "output_type": "execute_result"
    }
   ],
   "source": [
    "# returns value counts for american_df['Destination Airport']\n",
    "american_df['Destination Airport'].value_counts()"
   ]
  },
  {
   "cell_type": "markdown",
   "id": "51905940",
   "metadata": {},
   "source": [
    "### united_df (numerical data)\n"
   ]
  },
  {
   "cell_type": "code",
   "execution_count": 121,
   "id": "2e575041",
   "metadata": {},
   "outputs": [
    {
     "data": {
      "text/html": [
       "<div>\n",
       "<style scoped>\n",
       "    .dataframe tbody tr th:only-of-type {\n",
       "        vertical-align: middle;\n",
       "    }\n",
       "\n",
       "    .dataframe tbody tr th {\n",
       "        vertical-align: top;\n",
       "    }\n",
       "\n",
       "    .dataframe thead th {\n",
       "        text-align: right;\n",
       "    }\n",
       "</style>\n",
       "<table border=\"1\" class=\"dataframe\">\n",
       "  <thead>\n",
       "    <tr style=\"text-align: right;\">\n",
       "      <th></th>\n",
       "      <th>Scheduled Elapsed Time (Minutes)</th>\n",
       "      <th>Actual Elapsed Time (Minutes)</th>\n",
       "      <th>Departure Delay (Minutes)</th>\n",
       "      <th>Taxi-Out Time (Minutes)</th>\n",
       "      <th>Delay Carrier (Minutes)</th>\n",
       "      <th>Delay Weather (Minutes)</th>\n",
       "      <th>Delay National Aviation System (Minutes)</th>\n",
       "      <th>Delay Security (Minutes)</th>\n",
       "      <th>Delay Late Aircraft Arrival (Minutes)</th>\n",
       "    </tr>\n",
       "  </thead>\n",
       "  <tbody>\n",
       "    <tr>\n",
       "      <th>count</th>\n",
       "      <td>42173.000000</td>\n",
       "      <td>42173.000000</td>\n",
       "      <td>42173.000000</td>\n",
       "      <td>42173.000000</td>\n",
       "      <td>42173.000000</td>\n",
       "      <td>42173.000000</td>\n",
       "      <td>42173.000000</td>\n",
       "      <td>42173.000000</td>\n",
       "      <td>42173.000000</td>\n",
       "    </tr>\n",
       "    <tr>\n",
       "      <th>mean</th>\n",
       "      <td>186.316956</td>\n",
       "      <td>177.299220</td>\n",
       "      <td>6.123966</td>\n",
       "      <td>17.373746</td>\n",
       "      <td>1.859555</td>\n",
       "      <td>0.375643</td>\n",
       "      <td>4.544638</td>\n",
       "      <td>0.003509</td>\n",
       "      <td>3.365115</td>\n",
       "    </tr>\n",
       "    <tr>\n",
       "      <th>std</th>\n",
       "      <td>77.447738</td>\n",
       "      <td>79.483063</td>\n",
       "      <td>47.031589</td>\n",
       "      <td>7.784841</td>\n",
       "      <td>25.918114</td>\n",
       "      <td>14.349767</td>\n",
       "      <td>22.816457</td>\n",
       "      <td>0.384708</td>\n",
       "      <td>22.856851</td>\n",
       "    </tr>\n",
       "    <tr>\n",
       "      <th>min</th>\n",
       "      <td>51.000000</td>\n",
       "      <td>0.000000</td>\n",
       "      <td>-25.000000</td>\n",
       "      <td>0.000000</td>\n",
       "      <td>0.000000</td>\n",
       "      <td>0.000000</td>\n",
       "      <td>0.000000</td>\n",
       "      <td>0.000000</td>\n",
       "      <td>0.000000</td>\n",
       "    </tr>\n",
       "    <tr>\n",
       "      <th>25%</th>\n",
       "      <td>104.000000</td>\n",
       "      <td>103.000000</td>\n",
       "      <td>-7.000000</td>\n",
       "      <td>13.000000</td>\n",
       "      <td>0.000000</td>\n",
       "      <td>0.000000</td>\n",
       "      <td>0.000000</td>\n",
       "      <td>0.000000</td>\n",
       "      <td>0.000000</td>\n",
       "    </tr>\n",
       "    <tr>\n",
       "      <th>50%</th>\n",
       "      <td>186.000000</td>\n",
       "      <td>175.000000</td>\n",
       "      <td>-4.000000</td>\n",
       "      <td>16.000000</td>\n",
       "      <td>0.000000</td>\n",
       "      <td>0.000000</td>\n",
       "      <td>0.000000</td>\n",
       "      <td>0.000000</td>\n",
       "      <td>0.000000</td>\n",
       "    </tr>\n",
       "    <tr>\n",
       "      <th>75%</th>\n",
       "      <td>245.000000</td>\n",
       "      <td>241.000000</td>\n",
       "      <td>0.000000</td>\n",
       "      <td>20.000000</td>\n",
       "      <td>0.000000</td>\n",
       "      <td>0.000000</td>\n",
       "      <td>0.000000</td>\n",
       "      <td>0.000000</td>\n",
       "      <td>0.000000</td>\n",
       "    </tr>\n",
       "    <tr>\n",
       "      <th>max</th>\n",
       "      <td>343.000000</td>\n",
       "      <td>537.000000</td>\n",
       "      <td>1388.000000</td>\n",
       "      <td>139.000000</td>\n",
       "      <td>1337.000000</td>\n",
       "      <td>1315.000000</td>\n",
       "      <td>1266.000000</td>\n",
       "      <td>56.000000</td>\n",
       "      <td>1133.000000</td>\n",
       "    </tr>\n",
       "  </tbody>\n",
       "</table>\n",
       "</div>"
      ],
      "text/plain": [
       "       Scheduled Elapsed Time (Minutes)  Actual Elapsed Time (Minutes)  \\\n",
       "count                      42173.000000                   42173.000000   \n",
       "mean                         186.316956                     177.299220   \n",
       "std                           77.447738                      79.483063   \n",
       "min                           51.000000                       0.000000   \n",
       "25%                          104.000000                     103.000000   \n",
       "50%                          186.000000                     175.000000   \n",
       "75%                          245.000000                     241.000000   \n",
       "max                          343.000000                     537.000000   \n",
       "\n",
       "       Departure Delay (Minutes)  Taxi-Out Time (Minutes)  \\\n",
       "count               42173.000000             42173.000000   \n",
       "mean                    6.123966                17.373746   \n",
       "std                    47.031589                 7.784841   \n",
       "min                   -25.000000                 0.000000   \n",
       "25%                    -7.000000                13.000000   \n",
       "50%                    -4.000000                16.000000   \n",
       "75%                     0.000000                20.000000   \n",
       "max                  1388.000000               139.000000   \n",
       "\n",
       "       Delay Carrier (Minutes)  Delay Weather (Minutes)  \\\n",
       "count             42173.000000             42173.000000   \n",
       "mean                  1.859555                 0.375643   \n",
       "std                  25.918114                14.349767   \n",
       "min                   0.000000                 0.000000   \n",
       "25%                   0.000000                 0.000000   \n",
       "50%                   0.000000                 0.000000   \n",
       "75%                   0.000000                 0.000000   \n",
       "max                1337.000000              1315.000000   \n",
       "\n",
       "       Delay National Aviation System (Minutes)  Delay Security (Minutes)  \\\n",
       "count                              42173.000000              42173.000000   \n",
       "mean                                   4.544638                  0.003509   \n",
       "std                                   22.816457                  0.384708   \n",
       "min                                    0.000000                  0.000000   \n",
       "25%                                    0.000000                  0.000000   \n",
       "50%                                    0.000000                  0.000000   \n",
       "75%                                    0.000000                  0.000000   \n",
       "max                                 1266.000000                 56.000000   \n",
       "\n",
       "       Delay Late Aircraft Arrival (Minutes)  \n",
       "count                           42173.000000  \n",
       "mean                                3.365115  \n",
       "std                                22.856851  \n",
       "min                                 0.000000  \n",
       "25%                                 0.000000  \n",
       "50%                                 0.000000  \n",
       "75%                                 0.000000  \n",
       "max                              1133.000000  "
      ]
     },
     "execution_count": 121,
     "metadata": {},
     "output_type": "execute_result"
    }
   ],
   "source": [
    "# descriptive stats for united_df\n",
    "united_df.describe()\n",
    "# negative numbers could mean the flight left early? "
   ]
  },
  {
   "cell_type": "markdown",
   "id": "1ad8bb27",
   "metadata": {},
   "source": [
    "### united_df (categorical data)"
   ]
  },
  {
   "cell_type": "code",
   "execution_count": 122,
   "id": "da584feb",
   "metadata": {},
   "outputs": [
    {
     "data": {
      "text/plain": [
       "UA    42173\n",
       "Name: Carrier, dtype: int64"
      ]
     },
     "execution_count": 122,
     "metadata": {},
     "output_type": "execute_result"
    }
   ],
   "source": [
    "# returns counts for united_df['Carrier']\n",
    "united_df['Carrier'].value_counts()"
   ]
  },
  {
   "cell_type": "code",
   "execution_count": 123,
   "id": "a05bcd9e",
   "metadata": {},
   "outputs": [],
   "source": [
    "# replaces abbreviated airline name with full airline name\n",
    "united_df['Carrier'] = united_df['Carrier'].replace('UA', 'United')"
   ]
  },
  {
   "cell_type": "code",
   "execution_count": 124,
   "id": "19b70567",
   "metadata": {},
   "outputs": [
    {
     "data": {
      "text/plain": [
       "0    United\n",
       "1    United\n",
       "2    United\n",
       "3    United\n",
       "4    United\n",
       "Name: Carrier, dtype: object"
      ]
     },
     "execution_count": 124,
     "metadata": {},
     "output_type": "execute_result"
    }
   ],
   "source": [
    "# Checks output of airline name\n",
    "united_df['Carrier'].head()"
   ]
  },
  {
   "cell_type": "code",
   "execution_count": 125,
   "id": "ee8b579c",
   "metadata": {},
   "outputs": [
    {
     "data": {
      "text/plain": [
       "nan       553\n",
       "N38454    135\n",
       "N34455    132\n",
       "N37462    129\n",
       "N37471    129\n",
       "         ... \n",
       "N873UA      1\n",
       "N75861      1\n",
       "N587UA      1\n",
       "N505UA      1\n",
       "N546UA      1\n",
       "Name: Tail Number, Length: 611, dtype: int64"
      ]
     },
     "execution_count": 125,
     "metadata": {},
     "output_type": "execute_result"
    }
   ],
   "source": [
    "# returns counts for united_df['Tail Number'] leave in nan values\n",
    "united_df['Tail Number'].value_counts()"
   ]
  },
  {
   "cell_type": "code",
   "execution_count": 126,
   "id": "8c849d3c",
   "metadata": {},
   "outputs": [],
   "source": [
    "# nan values for united_df['Tail Number']\n",
    "nan_united = united_df[united_df['Tail Number'] == 'nan']"
   ]
  },
  {
   "cell_type": "code",
   "execution_count": 127,
   "id": "3e57f70a",
   "metadata": {},
   "outputs": [
    {
     "data": {
      "text/plain": [
       "(553, 16)"
      ]
     },
     "execution_count": 127,
     "metadata": {},
     "output_type": "execute_result"
    }
   ],
   "source": [
    "# prints nan values count\n",
    "nan_united.shape"
   ]
  },
  {
   "cell_type": "code",
   "execution_count": 128,
   "id": "a33a67ab",
   "metadata": {},
   "outputs": [
    {
     "data": {
      "text/plain": [
       "546.0     1796\n",
       "736.0     1130\n",
       "555.0      998\n",
       "662.0      952\n",
       "2163.0     938\n",
       "          ... \n",
       "1111.0       1\n",
       "1295.0       1\n",
       "125.0        1\n",
       "2287.0       1\n",
       "387.0        1\n",
       "Name: Flight Number, Length: 395, dtype: int64"
      ]
     },
     "execution_count": 128,
     "metadata": {},
     "output_type": "execute_result"
    }
   ],
   "source": [
    "# returns counts for united_df['Tail Number']\n",
    "united_df['Flight Number'].value_counts()"
   ]
  },
  {
   "cell_type": "code",
   "execution_count": 129,
   "id": "f997438a",
   "metadata": {},
   "outputs": [
    {
     "data": {
      "text/plain": [
       "SFO    11263\n",
       "DEN     7383\n",
       "IAH     7300\n",
       "ORD     6844\n",
       "EWR     4588\n",
       "IAD     4234\n",
       "LAX      561\n",
       "Name: Destination Airport, dtype: int64"
      ]
     },
     "execution_count": 129,
     "metadata": {},
     "output_type": "execute_result"
    }
   ],
   "source": [
    "# returns counts for united_df['Tail Number']\n",
    "united_df['Destination Airport'].value_counts()"
   ]
  },
  {
   "cell_type": "markdown",
   "id": "d143e80d",
   "metadata": {},
   "source": [
    "### southwest_df (numerical data)"
   ]
  },
  {
   "cell_type": "code",
   "execution_count": 130,
   "id": "542d9372",
   "metadata": {},
   "outputs": [
    {
     "data": {
      "text/html": [
       "<div>\n",
       "<style scoped>\n",
       "    .dataframe tbody tr th:only-of-type {\n",
       "        vertical-align: middle;\n",
       "    }\n",
       "\n",
       "    .dataframe tbody tr th {\n",
       "        vertical-align: top;\n",
       "    }\n",
       "\n",
       "    .dataframe thead th {\n",
       "        text-align: right;\n",
       "    }\n",
       "</style>\n",
       "<table border=\"1\" class=\"dataframe\">\n",
       "  <thead>\n",
       "    <tr style=\"text-align: right;\">\n",
       "      <th></th>\n",
       "      <th>Scheduled Elapsed Time (Minutes)</th>\n",
       "      <th>Actual Elapsed Time (Minutes)</th>\n",
       "      <th>Departure Delay (Minutes)</th>\n",
       "      <th>Taxi-Out Time (Minutes)</th>\n",
       "      <th>Delay Carrier (Minutes)</th>\n",
       "      <th>Delay Weather (Minutes)</th>\n",
       "      <th>Delay National Aviation System (Minutes)</th>\n",
       "      <th>Delay Security (Minutes)</th>\n",
       "      <th>Delay Late Aircraft Arrival (Minutes)</th>\n",
       "    </tr>\n",
       "  </thead>\n",
       "  <tbody>\n",
       "    <tr>\n",
       "      <th>count</th>\n",
       "      <td>159390.000000</td>\n",
       "      <td>159390.000000</td>\n",
       "      <td>159390.000000</td>\n",
       "      <td>159390.00000</td>\n",
       "      <td>159390.000000</td>\n",
       "      <td>159390.000000</td>\n",
       "      <td>159390.000000</td>\n",
       "      <td>159390.000000</td>\n",
       "      <td>159390.00000</td>\n",
       "    </tr>\n",
       "    <tr>\n",
       "      <th>mean</th>\n",
       "      <td>125.545737</td>\n",
       "      <td>115.394504</td>\n",
       "      <td>8.024186</td>\n",
       "      <td>12.72221</td>\n",
       "      <td>2.050304</td>\n",
       "      <td>0.089943</td>\n",
       "      <td>1.318759</td>\n",
       "      <td>0.015716</td>\n",
       "      <td>4.31534</td>\n",
       "    </tr>\n",
       "    <tr>\n",
       "      <th>std</th>\n",
       "      <td>62.932766</td>\n",
       "      <td>64.336207</td>\n",
       "      <td>25.830844</td>\n",
       "      <td>5.60168</td>\n",
       "      <td>12.635800</td>\n",
       "      <td>3.021146</td>\n",
       "      <td>8.657389</td>\n",
       "      <td>0.719287</td>\n",
       "      <td>17.02541</td>\n",
       "    </tr>\n",
       "    <tr>\n",
       "      <th>min</th>\n",
       "      <td>65.000000</td>\n",
       "      <td>0.000000</td>\n",
       "      <td>-34.000000</td>\n",
       "      <td>0.00000</td>\n",
       "      <td>0.000000</td>\n",
       "      <td>0.000000</td>\n",
       "      <td>0.000000</td>\n",
       "      <td>0.000000</td>\n",
       "      <td>0.00000</td>\n",
       "    </tr>\n",
       "    <tr>\n",
       "      <th>25%</th>\n",
       "      <td>85.000000</td>\n",
       "      <td>75.000000</td>\n",
       "      <td>-4.000000</td>\n",
       "      <td>10.00000</td>\n",
       "      <td>0.000000</td>\n",
       "      <td>0.000000</td>\n",
       "      <td>0.000000</td>\n",
       "      <td>0.000000</td>\n",
       "      <td>0.00000</td>\n",
       "    </tr>\n",
       "    <tr>\n",
       "      <th>50%</th>\n",
       "      <td>95.000000</td>\n",
       "      <td>88.000000</td>\n",
       "      <td>0.000000</td>\n",
       "      <td>12.00000</td>\n",
       "      <td>0.000000</td>\n",
       "      <td>0.000000</td>\n",
       "      <td>0.000000</td>\n",
       "      <td>0.000000</td>\n",
       "      <td>0.00000</td>\n",
       "    </tr>\n",
       "    <tr>\n",
       "      <th>75%</th>\n",
       "      <td>160.000000</td>\n",
       "      <td>151.000000</td>\n",
       "      <td>8.000000</td>\n",
       "      <td>15.00000</td>\n",
       "      <td>0.000000</td>\n",
       "      <td>0.000000</td>\n",
       "      <td>0.000000</td>\n",
       "      <td>0.000000</td>\n",
       "      <td>0.00000</td>\n",
       "    </tr>\n",
       "    <tr>\n",
       "      <th>max</th>\n",
       "      <td>390.000000</td>\n",
       "      <td>420.000000</td>\n",
       "      <td>520.000000</td>\n",
       "      <td>126.00000</td>\n",
       "      <td>520.000000</td>\n",
       "      <td>293.000000</td>\n",
       "      <td>363.000000</td>\n",
       "      <td>82.000000</td>\n",
       "      <td>382.00000</td>\n",
       "    </tr>\n",
       "  </tbody>\n",
       "</table>\n",
       "</div>"
      ],
      "text/plain": [
       "       Scheduled Elapsed Time (Minutes)  Actual Elapsed Time (Minutes)  \\\n",
       "count                     159390.000000                  159390.000000   \n",
       "mean                         125.545737                     115.394504   \n",
       "std                           62.932766                      64.336207   \n",
       "min                           65.000000                       0.000000   \n",
       "25%                           85.000000                      75.000000   \n",
       "50%                           95.000000                      88.000000   \n",
       "75%                          160.000000                     151.000000   \n",
       "max                          390.000000                     420.000000   \n",
       "\n",
       "       Departure Delay (Minutes)  Taxi-Out Time (Minutes)  \\\n",
       "count              159390.000000             159390.00000   \n",
       "mean                    8.024186                 12.72221   \n",
       "std                    25.830844                  5.60168   \n",
       "min                   -34.000000                  0.00000   \n",
       "25%                    -4.000000                 10.00000   \n",
       "50%                     0.000000                 12.00000   \n",
       "75%                     8.000000                 15.00000   \n",
       "max                   520.000000                126.00000   \n",
       "\n",
       "       Delay Carrier (Minutes)  Delay Weather (Minutes)  \\\n",
       "count            159390.000000            159390.000000   \n",
       "mean                  2.050304                 0.089943   \n",
       "std                  12.635800                 3.021146   \n",
       "min                   0.000000                 0.000000   \n",
       "25%                   0.000000                 0.000000   \n",
       "50%                   0.000000                 0.000000   \n",
       "75%                   0.000000                 0.000000   \n",
       "max                 520.000000               293.000000   \n",
       "\n",
       "       Delay National Aviation System (Minutes)  Delay Security (Minutes)  \\\n",
       "count                             159390.000000             159390.000000   \n",
       "mean                                   1.318759                  0.015716   \n",
       "std                                    8.657389                  0.719287   \n",
       "min                                    0.000000                  0.000000   \n",
       "25%                                    0.000000                  0.000000   \n",
       "50%                                    0.000000                  0.000000   \n",
       "75%                                    0.000000                  0.000000   \n",
       "max                                  363.000000                 82.000000   \n",
       "\n",
       "       Delay Late Aircraft Arrival (Minutes)  \n",
       "count                           159390.00000  \n",
       "mean                                 4.31534  \n",
       "std                                 17.02541  \n",
       "min                                  0.00000  \n",
       "25%                                  0.00000  \n",
       "50%                                  0.00000  \n",
       "75%                                  0.00000  \n",
       "max                                382.00000  "
      ]
     },
     "execution_count": 130,
     "metadata": {},
     "output_type": "execute_result"
    }
   ],
   "source": [
    "# descriptive stats for southwest_df\n",
    "southwest_df.describe()\n",
    "# negative numbers could mean the flight left early? "
   ]
  },
  {
   "cell_type": "markdown",
   "id": "3d7be6ff",
   "metadata": {},
   "source": [
    "### southwest_df (categorical data)"
   ]
  },
  {
   "cell_type": "code",
   "execution_count": 131,
   "id": "b119fd26",
   "metadata": {},
   "outputs": [
    {
     "data": {
      "text/plain": [
       "WN    159390\n",
       "Name: Carrier, dtype: int64"
      ]
     },
     "execution_count": 131,
     "metadata": {},
     "output_type": "execute_result"
    }
   ],
   "source": [
    "# returns counts for southwest_df['Carrier']\n",
    "southwest_df['Carrier'].value_counts()"
   ]
  },
  {
   "cell_type": "code",
   "execution_count": 132,
   "id": "ffe64547",
   "metadata": {},
   "outputs": [],
   "source": [
    "# replaces abbreviated airline name with full airline name\n",
    "southwest_df['Carrier'] = southwest_df['Carrier'].replace('WN', 'Southwest')"
   ]
  },
  {
   "cell_type": "code",
   "execution_count": 133,
   "id": "d03e7b58",
   "metadata": {},
   "outputs": [
    {
     "data": {
      "text/plain": [
       "0    Southwest\n",
       "1    Southwest\n",
       "2    Southwest\n",
       "3    Southwest\n",
       "4    Southwest\n",
       "Name: Carrier, dtype: object"
      ]
     },
     "execution_count": 133,
     "metadata": {},
     "output_type": "execute_result"
    }
   ],
   "source": [
    "# checks output of full airline name\n",
    "southwest_df['Carrier'].head()"
   ]
  },
  {
   "cell_type": "code",
   "execution_count": 134,
   "id": "f5757e8e",
   "metadata": {},
   "outputs": [
    {
     "data": {
      "text/plain": [
       "nan       2080\n",
       "N266WN     292\n",
       "N935WN     282\n",
       "N929WN     276\n",
       "N951WN     273\n",
       "          ... \n",
       "N359SW       1\n",
       "N362SW       1\n",
       "N609SW       1\n",
       "N655WN       1\n",
       "N617SW       1\n",
       "Name: Tail Number, Length: 869, dtype: int64"
      ]
     },
     "execution_count": 134,
     "metadata": {},
     "output_type": "execute_result"
    }
   ],
   "source": [
    "# returns counts for southwest_df['Tail Number']\n",
    "southwest_df['Tail Number'].value_counts()"
   ]
  },
  {
   "cell_type": "code",
   "execution_count": 135,
   "id": "c99b2c06",
   "metadata": {},
   "outputs": [],
   "source": [
    "# nan values for southwest_df['Tail Number']\n",
    "nan_southwest = southwest_df[southwest_df['Tail Number'] == 'nan']"
   ]
  },
  {
   "cell_type": "code",
   "execution_count": 136,
   "id": "8984af31",
   "metadata": {},
   "outputs": [
    {
     "data": {
      "text/plain": [
       "(2080, 16)"
      ]
     },
     "execution_count": 136,
     "metadata": {},
     "output_type": "execute_result"
    }
   ],
   "source": [
    "# prints nan values count\n",
    "nan_southwest.shape"
   ]
  },
  {
   "cell_type": "code",
   "execution_count": 137,
   "id": "0218ba69",
   "metadata": {},
   "outputs": [
    {
     "data": {
      "text/plain": [
       "1504.0    242\n",
       "1385.0    241\n",
       "1927.0    235\n",
       "1119.0    235\n",
       "1467.0    226\n",
       "         ... \n",
       "2049.0      1\n",
       "1416.0      1\n",
       "1374.0      1\n",
       "357.0       1\n",
       "6719.0      1\n",
       "Name: Flight Number, Length: 5764, dtype: int64"
      ]
     },
     "execution_count": 137,
     "metadata": {},
     "output_type": "execute_result"
    }
   ],
   "source": [
    "# returns counts for southwest_df['Flight Number']\n",
    "southwest_df['Flight Number'].value_counts()"
   ]
  },
  {
   "cell_type": "code",
   "execution_count": 138,
   "id": "2ef67eec",
   "metadata": {},
   "outputs": [
    {
     "data": {
      "text/plain": [
       "SJC    17720\n",
       "SMF    17554\n",
       "OAK    15769\n",
       "LAS    15312\n",
       "PHX    15066\n",
       "SFO    10755\n",
       "DEN     9980\n",
       "MDW     5999\n",
       "DAL     5896\n",
       "BWI     4157\n",
       "HOU     3908\n",
       "AUS     3678\n",
       "RNO     3401\n",
       "STL     2909\n",
       "TUS     2652\n",
       "BNA     2641\n",
       "PDX     2588\n",
       "ABQ     2392\n",
       "SAT     2282\n",
       "MCI     2281\n",
       "SEA     1666\n",
       "SLC     1650\n",
       "ATL     1487\n",
       "BOI     1273\n",
       "MSY     1270\n",
       "MCO     1009\n",
       "HNL      631\n",
       "TPA      621\n",
       "ELP      520\n",
       "EWR      447\n",
       "OGG      350\n",
       "GEG      343\n",
       "MKE      310\n",
       "OMA      289\n",
       "IND      212\n",
       "KOA      127\n",
       "LIH      115\n",
       "ORF       93\n",
       "MSP       27\n",
       "BZN       10\n",
       "Name: Destination Airport, dtype: int64"
      ]
     },
     "execution_count": 138,
     "metadata": {},
     "output_type": "execute_result"
    }
   ],
   "source": [
    "# returns counts for southwest_df['Destination Airport']\n",
    "southwest_df['Destination Airport'].value_counts()"
   ]
  },
  {
   "cell_type": "markdown",
   "id": "935297bb",
   "metadata": {},
   "source": [
    "# Note, times, dates, & locations have not been investigated yet, as transformations are needed on their values"
   ]
  },
  {
   "cell_type": "markdown",
   "id": "511e30e7",
   "metadata": {},
   "source": [
    "# 5. Check Shapes of cleaned data frames"
   ]
  },
  {
   "cell_type": "code",
   "execution_count": 139,
   "id": "0187720d",
   "metadata": {},
   "outputs": [
    {
     "data": {
      "text/plain": [
       "(36238, 16)"
      ]
     },
     "execution_count": 139,
     "metadata": {},
     "output_type": "execute_result"
    }
   ],
   "source": [
    "# checks shape of delta_df\n",
    "delta_df.shape"
   ]
  },
  {
   "cell_type": "code",
   "execution_count": 140,
   "id": "8e1b03b4",
   "metadata": {},
   "outputs": [
    {
     "data": {
      "text/plain": [
       "(40206, 16)"
      ]
     },
     "execution_count": 140,
     "metadata": {},
     "output_type": "execute_result"
    }
   ],
   "source": [
    "# checks shape of american_df\n",
    "american_df.shape"
   ]
  },
  {
   "cell_type": "code",
   "execution_count": 141,
   "id": "4da33835",
   "metadata": {},
   "outputs": [
    {
     "data": {
      "text/plain": [
       "(42173, 16)"
      ]
     },
     "execution_count": 141,
     "metadata": {},
     "output_type": "execute_result"
    }
   ],
   "source": [
    "# checks shape of united_df\n",
    "united_df.shape"
   ]
  },
  {
   "cell_type": "code",
   "execution_count": 142,
   "id": "3c253027",
   "metadata": {},
   "outputs": [
    {
     "data": {
      "text/plain": [
       "(159390, 16)"
      ]
     },
     "execution_count": 142,
     "metadata": {},
     "output_type": "execute_result"
    }
   ],
   "source": [
    "# checks shape of southwest_df\n",
    "southwest_df.shape"
   ]
  },
  {
   "cell_type": "code",
   "execution_count": 143,
   "id": "73103eb8",
   "metadata": {},
   "outputs": [
    {
     "data": {
      "text/plain": [
       "(9235, 2)"
      ]
     },
     "execution_count": 143,
     "metadata": {},
     "output_type": "execute_result"
    }
   ],
   "source": [
    "# checks shape of airport_codes_df\n",
    "airport_codes_df.shape"
   ]
  },
  {
   "cell_type": "markdown",
   "id": "7fd3cc50",
   "metadata": {},
   "source": [
    "# 6. Export Data"
   ]
  },
  {
   "cell_type": "code",
   "execution_count": 144,
   "id": "00017d8b",
   "metadata": {},
   "outputs": [],
   "source": [
    "# exports all dfs to prepared data folder\n",
    "delta_df.to_csv(os.path.join(path, 'Prepared Data', 'delta_df_cleaned.csv'))\n",
    "american_df.to_csv(os.path.join(path, 'Prepared Data', 'american_df_cleaned.csv'))\n",
    "united_df.to_csv(os.path.join(path, 'Prepared Data', 'united_df_cleaned.csv'))\n",
    "southwest_df.to_csv(os.path.join(path, 'Prepared Data', 'southwest_df_cleaned.csv'))\n",
    "airport_codes_df.to_csv(os.path.join(path, 'Prepared Data', 'airport_codes_df_cleaned.csv'))"
   ]
  },
  {
   "cell_type": "code",
   "execution_count": null,
   "id": "5b00845a",
   "metadata": {},
   "outputs": [],
   "source": []
  },
  {
   "cell_type": "code",
   "execution_count": null,
   "id": "e8553e7a",
   "metadata": {},
   "outputs": [],
   "source": []
  },
  {
   "cell_type": "code",
   "execution_count": null,
   "id": "89a65442",
   "metadata": {},
   "outputs": [],
   "source": []
  },
  {
   "cell_type": "code",
   "execution_count": null,
   "id": "ab4cd751",
   "metadata": {},
   "outputs": [],
   "source": []
  }
 ],
 "metadata": {
  "kernelspec": {
   "display_name": "Python 3 (ipykernel)",
   "language": "python",
   "name": "python3"
  },
  "language_info": {
   "codemirror_mode": {
    "name": "ipython",
    "version": 3
   },
   "file_extension": ".py",
   "mimetype": "text/x-python",
   "name": "python",
   "nbconvert_exporter": "python",
   "pygments_lexer": "ipython3",
   "version": "3.9.7"
  }
 },
 "nbformat": 4,
 "nbformat_minor": 5
}
